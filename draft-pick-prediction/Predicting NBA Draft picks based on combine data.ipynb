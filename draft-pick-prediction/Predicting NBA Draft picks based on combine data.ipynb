{
 "cells": [
  {
   "cell_type": "code",
   "execution_count": 165,
   "id": "d2ffe070",
   "metadata": {},
   "outputs": [],
   "source": [
    "import pandas as pd\n",
    "import numpy as np\n",
    "from nltk.tokenize import word_tokenize\n",
    "from nltk import pos_tag\n",
    "from nltk.corpus import stopwords\n",
    "from nltk.stem import WordNetLemmatizer\n",
    "from sklearn.preprocessing import LabelEncoder\n",
    "from collections import defaultdict\n",
    "from nltk.corpus import wordnet as wn\n",
    "from sklearn.feature_extraction.text import TfidfVectorizer\n",
    "from sklearn import model_selection, naive_bayes, svm\n",
    "from sklearn.metrics import accuracy_score\n",
    "\n",
    "import matplotlib as mpl\n",
    "import matplotlib.pyplot as plt\n",
    "import numpy as np\n",
    "import pandas as pd\n",
    "\n",
    "from sklearn.neighbors import KNeighborsClassifier\n",
    "from sklearn.model_selection import GridSearchCV\n",
    "\n",
    "from sklearn.preprocessing import LabelEncoder\n",
    "\n",
    "from sklearn.datasets import load_iris\n",
    "from sklearn.tree import DecisionTreeClassifier\n",
    "\n",
    "from sklearn import tree\n",
    "\n",
    "from sklearn.tree import DecisionTreeRegressor\n",
    "\n",
    "from sklearn.datasets import make_moons\n",
    "from sklearn.model_selection import train_test_split\n",
    "\n",
    "from sklearn.metrics import accuracy_score\n",
    "\n",
    "from sklearn.ensemble import BaggingClassifier\n",
    "from sklearn.tree import DecisionTreeClassifier\n",
    "\n",
    "from sklearn.metrics import mean_squared_error"
   ]
  },
  {
   "cell_type": "code",
   "execution_count": 166,
   "id": "bcc80015",
   "metadata": {},
   "outputs": [],
   "source": [
    "combine_data = pd.read_csv('Downloads/nba_draft_combine_all_years.csv')"
   ]
  },
  {
   "cell_type": "code",
   "execution_count": 167,
   "id": "9087281b",
   "metadata": {},
   "outputs": [
    {
     "data": {
      "text/html": [
       "<div>\n",
       "<style scoped>\n",
       "    .dataframe tbody tr th:only-of-type {\n",
       "        vertical-align: middle;\n",
       "    }\n",
       "\n",
       "    .dataframe tbody tr th {\n",
       "        vertical-align: top;\n",
       "    }\n",
       "\n",
       "    .dataframe thead th {\n",
       "        text-align: right;\n",
       "    }\n",
       "</style>\n",
       "<table border=\"1\" class=\"dataframe\">\n",
       "  <thead>\n",
       "    <tr style=\"text-align: right;\">\n",
       "      <th></th>\n",
       "      <th>Unnamed: 0</th>\n",
       "      <th>Player</th>\n",
       "      <th>Year</th>\n",
       "      <th>Draft pick</th>\n",
       "      <th>Height (No Shoes)</th>\n",
       "      <th>Height (With Shoes)</th>\n",
       "      <th>Wingspan</th>\n",
       "      <th>Standing reach</th>\n",
       "      <th>Vertical (Max)</th>\n",
       "      <th>Vertical (Max Reach)</th>\n",
       "      <th>Vertical (No Step)</th>\n",
       "      <th>Vertical (No Step Reach)</th>\n",
       "      <th>Weight</th>\n",
       "      <th>Body Fat</th>\n",
       "      <th>Hand (Length)</th>\n",
       "      <th>Hand (Width)</th>\n",
       "      <th>Bench</th>\n",
       "      <th>Agility</th>\n",
       "      <th>Sprint</th>\n",
       "    </tr>\n",
       "  </thead>\n",
       "  <tbody>\n",
       "    <tr>\n",
       "      <th>0</th>\n",
       "      <td>0</td>\n",
       "      <td>Blake Griffin</td>\n",
       "      <td>2009</td>\n",
       "      <td>1.0</td>\n",
       "      <td>80.50</td>\n",
       "      <td>82.00</td>\n",
       "      <td>83.25</td>\n",
       "      <td>105.0</td>\n",
       "      <td>35.5</td>\n",
       "      <td>140.5</td>\n",
       "      <td>32.0</td>\n",
       "      <td>137.0</td>\n",
       "      <td>248.0</td>\n",
       "      <td>8.2</td>\n",
       "      <td>NaN</td>\n",
       "      <td>NaN</td>\n",
       "      <td>22.0</td>\n",
       "      <td>10.95</td>\n",
       "      <td>3.28</td>\n",
       "    </tr>\n",
       "    <tr>\n",
       "      <th>1</th>\n",
       "      <td>1</td>\n",
       "      <td>Terrence Williams</td>\n",
       "      <td>2009</td>\n",
       "      <td>11.0</td>\n",
       "      <td>77.00</td>\n",
       "      <td>78.25</td>\n",
       "      <td>81.00</td>\n",
       "      <td>103.5</td>\n",
       "      <td>37.0</td>\n",
       "      <td>140.5</td>\n",
       "      <td>30.5</td>\n",
       "      <td>134.0</td>\n",
       "      <td>213.0</td>\n",
       "      <td>5.1</td>\n",
       "      <td>NaN</td>\n",
       "      <td>NaN</td>\n",
       "      <td>9.0</td>\n",
       "      <td>11.15</td>\n",
       "      <td>3.18</td>\n",
       "    </tr>\n",
       "    <tr>\n",
       "      <th>2</th>\n",
       "      <td>2</td>\n",
       "      <td>Gerald Henderson</td>\n",
       "      <td>2009</td>\n",
       "      <td>12.0</td>\n",
       "      <td>76.00</td>\n",
       "      <td>77.00</td>\n",
       "      <td>82.25</td>\n",
       "      <td>102.5</td>\n",
       "      <td>35.0</td>\n",
       "      <td>137.5</td>\n",
       "      <td>31.5</td>\n",
       "      <td>134.0</td>\n",
       "      <td>215.0</td>\n",
       "      <td>4.4</td>\n",
       "      <td>NaN</td>\n",
       "      <td>NaN</td>\n",
       "      <td>8.0</td>\n",
       "      <td>11.17</td>\n",
       "      <td>3.14</td>\n",
       "    </tr>\n",
       "    <tr>\n",
       "      <th>3</th>\n",
       "      <td>3</td>\n",
       "      <td>Tyler Hansbrough</td>\n",
       "      <td>2009</td>\n",
       "      <td>13.0</td>\n",
       "      <td>80.25</td>\n",
       "      <td>81.50</td>\n",
       "      <td>83.50</td>\n",
       "      <td>106.0</td>\n",
       "      <td>34.0</td>\n",
       "      <td>140.0</td>\n",
       "      <td>27.5</td>\n",
       "      <td>133.5</td>\n",
       "      <td>234.0</td>\n",
       "      <td>8.5</td>\n",
       "      <td>NaN</td>\n",
       "      <td>NaN</td>\n",
       "      <td>18.0</td>\n",
       "      <td>11.12</td>\n",
       "      <td>3.27</td>\n",
       "    </tr>\n",
       "    <tr>\n",
       "      <th>4</th>\n",
       "      <td>4</td>\n",
       "      <td>Earl Clark</td>\n",
       "      <td>2009</td>\n",
       "      <td>14.0</td>\n",
       "      <td>80.50</td>\n",
       "      <td>82.25</td>\n",
       "      <td>86.50</td>\n",
       "      <td>109.5</td>\n",
       "      <td>33.0</td>\n",
       "      <td>142.5</td>\n",
       "      <td>28.5</td>\n",
       "      <td>138.0</td>\n",
       "      <td>228.0</td>\n",
       "      <td>5.2</td>\n",
       "      <td>NaN</td>\n",
       "      <td>NaN</td>\n",
       "      <td>5.0</td>\n",
       "      <td>11.17</td>\n",
       "      <td>3.35</td>\n",
       "    </tr>\n",
       "    <tr>\n",
       "      <th>...</th>\n",
       "      <td>...</td>\n",
       "      <td>...</td>\n",
       "      <td>...</td>\n",
       "      <td>...</td>\n",
       "      <td>...</td>\n",
       "      <td>...</td>\n",
       "      <td>...</td>\n",
       "      <td>...</td>\n",
       "      <td>...</td>\n",
       "      <td>...</td>\n",
       "      <td>...</td>\n",
       "      <td>...</td>\n",
       "      <td>...</td>\n",
       "      <td>...</td>\n",
       "      <td>...</td>\n",
       "      <td>...</td>\n",
       "      <td>...</td>\n",
       "      <td>...</td>\n",
       "      <td>...</td>\n",
       "    </tr>\n",
       "    <tr>\n",
       "      <th>512</th>\n",
       "      <td>512</td>\n",
       "      <td>Peter Jok</td>\n",
       "      <td>2017</td>\n",
       "      <td>NaN</td>\n",
       "      <td>76.25</td>\n",
       "      <td>77.75</td>\n",
       "      <td>80.00</td>\n",
       "      <td>102.0</td>\n",
       "      <td>31.0</td>\n",
       "      <td>133.0</td>\n",
       "      <td>26.5</td>\n",
       "      <td>128.5</td>\n",
       "      <td>202.0</td>\n",
       "      <td>11.0</td>\n",
       "      <td>8.25</td>\n",
       "      <td>9.50</td>\n",
       "      <td>NaN</td>\n",
       "      <td>11.34</td>\n",
       "      <td>3.41</td>\n",
       "    </tr>\n",
       "    <tr>\n",
       "      <th>513</th>\n",
       "      <td>513</td>\n",
       "      <td>Rawle Alkins</td>\n",
       "      <td>2017</td>\n",
       "      <td>NaN</td>\n",
       "      <td>74.50</td>\n",
       "      <td>75.75</td>\n",
       "      <td>80.75</td>\n",
       "      <td>99.0</td>\n",
       "      <td>40.5</td>\n",
       "      <td>139.5</td>\n",
       "      <td>31.5</td>\n",
       "      <td>130.5</td>\n",
       "      <td>223.0</td>\n",
       "      <td>11.0</td>\n",
       "      <td>8.75</td>\n",
       "      <td>10.00</td>\n",
       "      <td>NaN</td>\n",
       "      <td>11.99</td>\n",
       "      <td>3.30</td>\n",
       "    </tr>\n",
       "    <tr>\n",
       "      <th>514</th>\n",
       "      <td>514</td>\n",
       "      <td>Sviatoslav Mykhailiuk</td>\n",
       "      <td>2017</td>\n",
       "      <td>NaN</td>\n",
       "      <td>78.50</td>\n",
       "      <td>79.50</td>\n",
       "      <td>77.00</td>\n",
       "      <td>100.0</td>\n",
       "      <td>33.0</td>\n",
       "      <td>133.0</td>\n",
       "      <td>27.0</td>\n",
       "      <td>127.0</td>\n",
       "      <td>220.0</td>\n",
       "      <td>11.4</td>\n",
       "      <td>8.00</td>\n",
       "      <td>9.25</td>\n",
       "      <td>NaN</td>\n",
       "      <td>12.40</td>\n",
       "      <td>3.53</td>\n",
       "    </tr>\n",
       "    <tr>\n",
       "      <th>515</th>\n",
       "      <td>515</td>\n",
       "      <td>Thomas Welsh</td>\n",
       "      <td>2017</td>\n",
       "      <td>NaN</td>\n",
       "      <td>83.50</td>\n",
       "      <td>84.50</td>\n",
       "      <td>84.00</td>\n",
       "      <td>109.5</td>\n",
       "      <td>NaN</td>\n",
       "      <td>NaN</td>\n",
       "      <td>NaN</td>\n",
       "      <td>NaN</td>\n",
       "      <td>254.0</td>\n",
       "      <td>10.9</td>\n",
       "      <td>9.00</td>\n",
       "      <td>10.50</td>\n",
       "      <td>NaN</td>\n",
       "      <td>NaN</td>\n",
       "      <td>NaN</td>\n",
       "    </tr>\n",
       "    <tr>\n",
       "      <th>516</th>\n",
       "      <td>516</td>\n",
       "      <td>V.J. Beachem</td>\n",
       "      <td>2017</td>\n",
       "      <td>NaN</td>\n",
       "      <td>78.25</td>\n",
       "      <td>80.00</td>\n",
       "      <td>82.25</td>\n",
       "      <td>104.5</td>\n",
       "      <td>37.0</td>\n",
       "      <td>141.5</td>\n",
       "      <td>30.0</td>\n",
       "      <td>134.5</td>\n",
       "      <td>193.0</td>\n",
       "      <td>6.8</td>\n",
       "      <td>8.50</td>\n",
       "      <td>9.00</td>\n",
       "      <td>NaN</td>\n",
       "      <td>11.18</td>\n",
       "      <td>3.26</td>\n",
       "    </tr>\n",
       "  </tbody>\n",
       "</table>\n",
       "<p>517 rows × 19 columns</p>\n",
       "</div>"
      ],
      "text/plain": [
       "     Unnamed: 0                 Player  Year  Draft pick  Height (No Shoes)  \\\n",
       "0             0          Blake Griffin  2009         1.0              80.50   \n",
       "1             1      Terrence Williams  2009        11.0              77.00   \n",
       "2             2       Gerald Henderson  2009        12.0              76.00   \n",
       "3             3       Tyler Hansbrough  2009        13.0              80.25   \n",
       "4             4             Earl Clark  2009        14.0              80.50   \n",
       "..          ...                    ...   ...         ...                ...   \n",
       "512         512              Peter Jok  2017         NaN              76.25   \n",
       "513         513           Rawle Alkins  2017         NaN              74.50   \n",
       "514         514  Sviatoslav Mykhailiuk  2017         NaN              78.50   \n",
       "515         515           Thomas Welsh  2017         NaN              83.50   \n",
       "516         516           V.J. Beachem  2017         NaN              78.25   \n",
       "\n",
       "     Height (With Shoes)  Wingspan  Standing reach  Vertical (Max)  \\\n",
       "0                  82.00     83.25           105.0            35.5   \n",
       "1                  78.25     81.00           103.5            37.0   \n",
       "2                  77.00     82.25           102.5            35.0   \n",
       "3                  81.50     83.50           106.0            34.0   \n",
       "4                  82.25     86.50           109.5            33.0   \n",
       "..                   ...       ...             ...             ...   \n",
       "512                77.75     80.00           102.0            31.0   \n",
       "513                75.75     80.75            99.0            40.5   \n",
       "514                79.50     77.00           100.0            33.0   \n",
       "515                84.50     84.00           109.5             NaN   \n",
       "516                80.00     82.25           104.5            37.0   \n",
       "\n",
       "     Vertical (Max Reach)  Vertical (No Step)  Vertical (No Step Reach)  \\\n",
       "0                   140.5                32.0                     137.0   \n",
       "1                   140.5                30.5                     134.0   \n",
       "2                   137.5                31.5                     134.0   \n",
       "3                   140.0                27.5                     133.5   \n",
       "4                   142.5                28.5                     138.0   \n",
       "..                    ...                 ...                       ...   \n",
       "512                 133.0                26.5                     128.5   \n",
       "513                 139.5                31.5                     130.5   \n",
       "514                 133.0                27.0                     127.0   \n",
       "515                   NaN                 NaN                       NaN   \n",
       "516                 141.5                30.0                     134.5   \n",
       "\n",
       "     Weight  Body Fat  Hand (Length)  Hand (Width)  Bench  Agility  Sprint  \n",
       "0     248.0       8.2            NaN           NaN   22.0    10.95    3.28  \n",
       "1     213.0       5.1            NaN           NaN    9.0    11.15    3.18  \n",
       "2     215.0       4.4            NaN           NaN    8.0    11.17    3.14  \n",
       "3     234.0       8.5            NaN           NaN   18.0    11.12    3.27  \n",
       "4     228.0       5.2            NaN           NaN    5.0    11.17    3.35  \n",
       "..      ...       ...            ...           ...    ...      ...     ...  \n",
       "512   202.0      11.0           8.25          9.50    NaN    11.34    3.41  \n",
       "513   223.0      11.0           8.75         10.00    NaN    11.99    3.30  \n",
       "514   220.0      11.4           8.00          9.25    NaN    12.40    3.53  \n",
       "515   254.0      10.9           9.00         10.50    NaN      NaN     NaN  \n",
       "516   193.0       6.8           8.50          9.00    NaN    11.18    3.26  \n",
       "\n",
       "[517 rows x 19 columns]"
      ]
     },
     "execution_count": 167,
     "metadata": {},
     "output_type": "execute_result"
    }
   ],
   "source": [
    "combine_data"
   ]
  },
  {
   "cell_type": "code",
   "execution_count": 168,
   "id": "48c879d1",
   "metadata": {},
   "outputs": [],
   "source": [
    "del combine_data['Unnamed: 0']"
   ]
  },
  {
   "cell_type": "code",
   "execution_count": 169,
   "id": "56a3fc7b",
   "metadata": {},
   "outputs": [
    {
     "data": {
      "text/html": [
       "<div>\n",
       "<style scoped>\n",
       "    .dataframe tbody tr th:only-of-type {\n",
       "        vertical-align: middle;\n",
       "    }\n",
       "\n",
       "    .dataframe tbody tr th {\n",
       "        vertical-align: top;\n",
       "    }\n",
       "\n",
       "    .dataframe thead th {\n",
       "        text-align: right;\n",
       "    }\n",
       "</style>\n",
       "<table border=\"1\" class=\"dataframe\">\n",
       "  <thead>\n",
       "    <tr style=\"text-align: right;\">\n",
       "      <th></th>\n",
       "      <th>Player</th>\n",
       "      <th>Year</th>\n",
       "      <th>Draft pick</th>\n",
       "      <th>Height (No Shoes)</th>\n",
       "      <th>Height (With Shoes)</th>\n",
       "      <th>Wingspan</th>\n",
       "      <th>Standing reach</th>\n",
       "      <th>Vertical (Max)</th>\n",
       "      <th>Vertical (Max Reach)</th>\n",
       "      <th>Vertical (No Step)</th>\n",
       "      <th>Vertical (No Step Reach)</th>\n",
       "      <th>Weight</th>\n",
       "      <th>Body Fat</th>\n",
       "      <th>Hand (Length)</th>\n",
       "      <th>Hand (Width)</th>\n",
       "      <th>Bench</th>\n",
       "      <th>Agility</th>\n",
       "      <th>Sprint</th>\n",
       "    </tr>\n",
       "  </thead>\n",
       "  <tbody>\n",
       "    <tr>\n",
       "      <th>0</th>\n",
       "      <td>Blake Griffin</td>\n",
       "      <td>2009</td>\n",
       "      <td>1.0</td>\n",
       "      <td>80.50</td>\n",
       "      <td>82.00</td>\n",
       "      <td>83.25</td>\n",
       "      <td>105.0</td>\n",
       "      <td>35.5</td>\n",
       "      <td>140.5</td>\n",
       "      <td>32.0</td>\n",
       "      <td>137.0</td>\n",
       "      <td>248.0</td>\n",
       "      <td>8.2</td>\n",
       "      <td>NaN</td>\n",
       "      <td>NaN</td>\n",
       "      <td>22.0</td>\n",
       "      <td>10.95</td>\n",
       "      <td>3.28</td>\n",
       "    </tr>\n",
       "    <tr>\n",
       "      <th>1</th>\n",
       "      <td>Terrence Williams</td>\n",
       "      <td>2009</td>\n",
       "      <td>11.0</td>\n",
       "      <td>77.00</td>\n",
       "      <td>78.25</td>\n",
       "      <td>81.00</td>\n",
       "      <td>103.5</td>\n",
       "      <td>37.0</td>\n",
       "      <td>140.5</td>\n",
       "      <td>30.5</td>\n",
       "      <td>134.0</td>\n",
       "      <td>213.0</td>\n",
       "      <td>5.1</td>\n",
       "      <td>NaN</td>\n",
       "      <td>NaN</td>\n",
       "      <td>9.0</td>\n",
       "      <td>11.15</td>\n",
       "      <td>3.18</td>\n",
       "    </tr>\n",
       "    <tr>\n",
       "      <th>2</th>\n",
       "      <td>Gerald Henderson</td>\n",
       "      <td>2009</td>\n",
       "      <td>12.0</td>\n",
       "      <td>76.00</td>\n",
       "      <td>77.00</td>\n",
       "      <td>82.25</td>\n",
       "      <td>102.5</td>\n",
       "      <td>35.0</td>\n",
       "      <td>137.5</td>\n",
       "      <td>31.5</td>\n",
       "      <td>134.0</td>\n",
       "      <td>215.0</td>\n",
       "      <td>4.4</td>\n",
       "      <td>NaN</td>\n",
       "      <td>NaN</td>\n",
       "      <td>8.0</td>\n",
       "      <td>11.17</td>\n",
       "      <td>3.14</td>\n",
       "    </tr>\n",
       "    <tr>\n",
       "      <th>3</th>\n",
       "      <td>Tyler Hansbrough</td>\n",
       "      <td>2009</td>\n",
       "      <td>13.0</td>\n",
       "      <td>80.25</td>\n",
       "      <td>81.50</td>\n",
       "      <td>83.50</td>\n",
       "      <td>106.0</td>\n",
       "      <td>34.0</td>\n",
       "      <td>140.0</td>\n",
       "      <td>27.5</td>\n",
       "      <td>133.5</td>\n",
       "      <td>234.0</td>\n",
       "      <td>8.5</td>\n",
       "      <td>NaN</td>\n",
       "      <td>NaN</td>\n",
       "      <td>18.0</td>\n",
       "      <td>11.12</td>\n",
       "      <td>3.27</td>\n",
       "    </tr>\n",
       "    <tr>\n",
       "      <th>4</th>\n",
       "      <td>Earl Clark</td>\n",
       "      <td>2009</td>\n",
       "      <td>14.0</td>\n",
       "      <td>80.50</td>\n",
       "      <td>82.25</td>\n",
       "      <td>86.50</td>\n",
       "      <td>109.5</td>\n",
       "      <td>33.0</td>\n",
       "      <td>142.5</td>\n",
       "      <td>28.5</td>\n",
       "      <td>138.0</td>\n",
       "      <td>228.0</td>\n",
       "      <td>5.2</td>\n",
       "      <td>NaN</td>\n",
       "      <td>NaN</td>\n",
       "      <td>5.0</td>\n",
       "      <td>11.17</td>\n",
       "      <td>3.35</td>\n",
       "    </tr>\n",
       "    <tr>\n",
       "      <th>...</th>\n",
       "      <td>...</td>\n",
       "      <td>...</td>\n",
       "      <td>...</td>\n",
       "      <td>...</td>\n",
       "      <td>...</td>\n",
       "      <td>...</td>\n",
       "      <td>...</td>\n",
       "      <td>...</td>\n",
       "      <td>...</td>\n",
       "      <td>...</td>\n",
       "      <td>...</td>\n",
       "      <td>...</td>\n",
       "      <td>...</td>\n",
       "      <td>...</td>\n",
       "      <td>...</td>\n",
       "      <td>...</td>\n",
       "      <td>...</td>\n",
       "      <td>...</td>\n",
       "    </tr>\n",
       "    <tr>\n",
       "      <th>512</th>\n",
       "      <td>Peter Jok</td>\n",
       "      <td>2017</td>\n",
       "      <td>NaN</td>\n",
       "      <td>76.25</td>\n",
       "      <td>77.75</td>\n",
       "      <td>80.00</td>\n",
       "      <td>102.0</td>\n",
       "      <td>31.0</td>\n",
       "      <td>133.0</td>\n",
       "      <td>26.5</td>\n",
       "      <td>128.5</td>\n",
       "      <td>202.0</td>\n",
       "      <td>11.0</td>\n",
       "      <td>8.25</td>\n",
       "      <td>9.50</td>\n",
       "      <td>NaN</td>\n",
       "      <td>11.34</td>\n",
       "      <td>3.41</td>\n",
       "    </tr>\n",
       "    <tr>\n",
       "      <th>513</th>\n",
       "      <td>Rawle Alkins</td>\n",
       "      <td>2017</td>\n",
       "      <td>NaN</td>\n",
       "      <td>74.50</td>\n",
       "      <td>75.75</td>\n",
       "      <td>80.75</td>\n",
       "      <td>99.0</td>\n",
       "      <td>40.5</td>\n",
       "      <td>139.5</td>\n",
       "      <td>31.5</td>\n",
       "      <td>130.5</td>\n",
       "      <td>223.0</td>\n",
       "      <td>11.0</td>\n",
       "      <td>8.75</td>\n",
       "      <td>10.00</td>\n",
       "      <td>NaN</td>\n",
       "      <td>11.99</td>\n",
       "      <td>3.30</td>\n",
       "    </tr>\n",
       "    <tr>\n",
       "      <th>514</th>\n",
       "      <td>Sviatoslav Mykhailiuk</td>\n",
       "      <td>2017</td>\n",
       "      <td>NaN</td>\n",
       "      <td>78.50</td>\n",
       "      <td>79.50</td>\n",
       "      <td>77.00</td>\n",
       "      <td>100.0</td>\n",
       "      <td>33.0</td>\n",
       "      <td>133.0</td>\n",
       "      <td>27.0</td>\n",
       "      <td>127.0</td>\n",
       "      <td>220.0</td>\n",
       "      <td>11.4</td>\n",
       "      <td>8.00</td>\n",
       "      <td>9.25</td>\n",
       "      <td>NaN</td>\n",
       "      <td>12.40</td>\n",
       "      <td>3.53</td>\n",
       "    </tr>\n",
       "    <tr>\n",
       "      <th>515</th>\n",
       "      <td>Thomas Welsh</td>\n",
       "      <td>2017</td>\n",
       "      <td>NaN</td>\n",
       "      <td>83.50</td>\n",
       "      <td>84.50</td>\n",
       "      <td>84.00</td>\n",
       "      <td>109.5</td>\n",
       "      <td>NaN</td>\n",
       "      <td>NaN</td>\n",
       "      <td>NaN</td>\n",
       "      <td>NaN</td>\n",
       "      <td>254.0</td>\n",
       "      <td>10.9</td>\n",
       "      <td>9.00</td>\n",
       "      <td>10.50</td>\n",
       "      <td>NaN</td>\n",
       "      <td>NaN</td>\n",
       "      <td>NaN</td>\n",
       "    </tr>\n",
       "    <tr>\n",
       "      <th>516</th>\n",
       "      <td>V.J. Beachem</td>\n",
       "      <td>2017</td>\n",
       "      <td>NaN</td>\n",
       "      <td>78.25</td>\n",
       "      <td>80.00</td>\n",
       "      <td>82.25</td>\n",
       "      <td>104.5</td>\n",
       "      <td>37.0</td>\n",
       "      <td>141.5</td>\n",
       "      <td>30.0</td>\n",
       "      <td>134.5</td>\n",
       "      <td>193.0</td>\n",
       "      <td>6.8</td>\n",
       "      <td>8.50</td>\n",
       "      <td>9.00</td>\n",
       "      <td>NaN</td>\n",
       "      <td>11.18</td>\n",
       "      <td>3.26</td>\n",
       "    </tr>\n",
       "  </tbody>\n",
       "</table>\n",
       "<p>517 rows × 18 columns</p>\n",
       "</div>"
      ],
      "text/plain": [
       "                    Player  Year  Draft pick  Height (No Shoes)  \\\n",
       "0            Blake Griffin  2009         1.0              80.50   \n",
       "1        Terrence Williams  2009        11.0              77.00   \n",
       "2         Gerald Henderson  2009        12.0              76.00   \n",
       "3         Tyler Hansbrough  2009        13.0              80.25   \n",
       "4               Earl Clark  2009        14.0              80.50   \n",
       "..                     ...   ...         ...                ...   \n",
       "512              Peter Jok  2017         NaN              76.25   \n",
       "513           Rawle Alkins  2017         NaN              74.50   \n",
       "514  Sviatoslav Mykhailiuk  2017         NaN              78.50   \n",
       "515           Thomas Welsh  2017         NaN              83.50   \n",
       "516           V.J. Beachem  2017         NaN              78.25   \n",
       "\n",
       "     Height (With Shoes)  Wingspan  Standing reach  Vertical (Max)  \\\n",
       "0                  82.00     83.25           105.0            35.5   \n",
       "1                  78.25     81.00           103.5            37.0   \n",
       "2                  77.00     82.25           102.5            35.0   \n",
       "3                  81.50     83.50           106.0            34.0   \n",
       "4                  82.25     86.50           109.5            33.0   \n",
       "..                   ...       ...             ...             ...   \n",
       "512                77.75     80.00           102.0            31.0   \n",
       "513                75.75     80.75            99.0            40.5   \n",
       "514                79.50     77.00           100.0            33.0   \n",
       "515                84.50     84.00           109.5             NaN   \n",
       "516                80.00     82.25           104.5            37.0   \n",
       "\n",
       "     Vertical (Max Reach)  Vertical (No Step)  Vertical (No Step Reach)  \\\n",
       "0                   140.5                32.0                     137.0   \n",
       "1                   140.5                30.5                     134.0   \n",
       "2                   137.5                31.5                     134.0   \n",
       "3                   140.0                27.5                     133.5   \n",
       "4                   142.5                28.5                     138.0   \n",
       "..                    ...                 ...                       ...   \n",
       "512                 133.0                26.5                     128.5   \n",
       "513                 139.5                31.5                     130.5   \n",
       "514                 133.0                27.0                     127.0   \n",
       "515                   NaN                 NaN                       NaN   \n",
       "516                 141.5                30.0                     134.5   \n",
       "\n",
       "     Weight  Body Fat  Hand (Length)  Hand (Width)  Bench  Agility  Sprint  \n",
       "0     248.0       8.2            NaN           NaN   22.0    10.95    3.28  \n",
       "1     213.0       5.1            NaN           NaN    9.0    11.15    3.18  \n",
       "2     215.0       4.4            NaN           NaN    8.0    11.17    3.14  \n",
       "3     234.0       8.5            NaN           NaN   18.0    11.12    3.27  \n",
       "4     228.0       5.2            NaN           NaN    5.0    11.17    3.35  \n",
       "..      ...       ...            ...           ...    ...      ...     ...  \n",
       "512   202.0      11.0           8.25          9.50    NaN    11.34    3.41  \n",
       "513   223.0      11.0           8.75         10.00    NaN    11.99    3.30  \n",
       "514   220.0      11.4           8.00          9.25    NaN    12.40    3.53  \n",
       "515   254.0      10.9           9.00         10.50    NaN      NaN     NaN  \n",
       "516   193.0       6.8           8.50          9.00    NaN    11.18    3.26  \n",
       "\n",
       "[517 rows x 18 columns]"
      ]
     },
     "execution_count": 169,
     "metadata": {},
     "output_type": "execute_result"
    }
   ],
   "source": [
    "combine_data"
   ]
  },
  {
   "cell_type": "code",
   "execution_count": 170,
   "id": "e99579fe",
   "metadata": {},
   "outputs": [],
   "source": [
    "# combine_data = combine_data[combine_data['Draft pick'] != 'NaN']"
   ]
  },
  {
   "cell_type": "code",
   "execution_count": 171,
   "id": "98bfca91",
   "metadata": {},
   "outputs": [
    {
     "data": {
      "text/plain": [
       "count    384.000000\n",
       "mean      28.492188\n",
       "std       15.888973\n",
       "min        1.000000\n",
       "25%       15.000000\n",
       "50%       28.000000\n",
       "75%       41.000000\n",
       "max       60.000000\n",
       "Name: Draft pick, dtype: float64"
      ]
     },
     "execution_count": 171,
     "metadata": {},
     "output_type": "execute_result"
    }
   ],
   "source": [
    "combine_data['Draft pick'].describe()"
   ]
  },
  {
   "cell_type": "code",
   "execution_count": 172,
   "id": "b2463ba3",
   "metadata": {},
   "outputs": [],
   "source": [
    "combine_data = combine_data.dropna(subset=['Draft pick'])"
   ]
  },
  {
   "cell_type": "code",
   "execution_count": 173,
   "id": "9bfd21b6",
   "metadata": {},
   "outputs": [
    {
     "data": {
      "text/html": [
       "<div>\n",
       "<style scoped>\n",
       "    .dataframe tbody tr th:only-of-type {\n",
       "        vertical-align: middle;\n",
       "    }\n",
       "\n",
       "    .dataframe tbody tr th {\n",
       "        vertical-align: top;\n",
       "    }\n",
       "\n",
       "    .dataframe thead th {\n",
       "        text-align: right;\n",
       "    }\n",
       "</style>\n",
       "<table border=\"1\" class=\"dataframe\">\n",
       "  <thead>\n",
       "    <tr style=\"text-align: right;\">\n",
       "      <th></th>\n",
       "      <th>Player</th>\n",
       "      <th>Year</th>\n",
       "      <th>Draft pick</th>\n",
       "      <th>Height (No Shoes)</th>\n",
       "      <th>Height (With Shoes)</th>\n",
       "      <th>Wingspan</th>\n",
       "      <th>Standing reach</th>\n",
       "      <th>Vertical (Max)</th>\n",
       "      <th>Vertical (Max Reach)</th>\n",
       "      <th>Vertical (No Step)</th>\n",
       "      <th>Vertical (No Step Reach)</th>\n",
       "      <th>Weight</th>\n",
       "      <th>Body Fat</th>\n",
       "      <th>Hand (Length)</th>\n",
       "      <th>Hand (Width)</th>\n",
       "      <th>Bench</th>\n",
       "      <th>Agility</th>\n",
       "      <th>Sprint</th>\n",
       "    </tr>\n",
       "  </thead>\n",
       "  <tbody>\n",
       "    <tr>\n",
       "      <th>0</th>\n",
       "      <td>Blake Griffin</td>\n",
       "      <td>2009</td>\n",
       "      <td>1.0</td>\n",
       "      <td>80.50</td>\n",
       "      <td>82.00</td>\n",
       "      <td>83.25</td>\n",
       "      <td>105.0</td>\n",
       "      <td>35.5</td>\n",
       "      <td>140.5</td>\n",
       "      <td>32.0</td>\n",
       "      <td>137.0</td>\n",
       "      <td>248.0</td>\n",
       "      <td>8.2</td>\n",
       "      <td>NaN</td>\n",
       "      <td>NaN</td>\n",
       "      <td>22.0</td>\n",
       "      <td>10.95</td>\n",
       "      <td>3.28</td>\n",
       "    </tr>\n",
       "    <tr>\n",
       "      <th>1</th>\n",
       "      <td>Terrence Williams</td>\n",
       "      <td>2009</td>\n",
       "      <td>11.0</td>\n",
       "      <td>77.00</td>\n",
       "      <td>78.25</td>\n",
       "      <td>81.00</td>\n",
       "      <td>103.5</td>\n",
       "      <td>37.0</td>\n",
       "      <td>140.5</td>\n",
       "      <td>30.5</td>\n",
       "      <td>134.0</td>\n",
       "      <td>213.0</td>\n",
       "      <td>5.1</td>\n",
       "      <td>NaN</td>\n",
       "      <td>NaN</td>\n",
       "      <td>9.0</td>\n",
       "      <td>11.15</td>\n",
       "      <td>3.18</td>\n",
       "    </tr>\n",
       "    <tr>\n",
       "      <th>2</th>\n",
       "      <td>Gerald Henderson</td>\n",
       "      <td>2009</td>\n",
       "      <td>12.0</td>\n",
       "      <td>76.00</td>\n",
       "      <td>77.00</td>\n",
       "      <td>82.25</td>\n",
       "      <td>102.5</td>\n",
       "      <td>35.0</td>\n",
       "      <td>137.5</td>\n",
       "      <td>31.5</td>\n",
       "      <td>134.0</td>\n",
       "      <td>215.0</td>\n",
       "      <td>4.4</td>\n",
       "      <td>NaN</td>\n",
       "      <td>NaN</td>\n",
       "      <td>8.0</td>\n",
       "      <td>11.17</td>\n",
       "      <td>3.14</td>\n",
       "    </tr>\n",
       "    <tr>\n",
       "      <th>3</th>\n",
       "      <td>Tyler Hansbrough</td>\n",
       "      <td>2009</td>\n",
       "      <td>13.0</td>\n",
       "      <td>80.25</td>\n",
       "      <td>81.50</td>\n",
       "      <td>83.50</td>\n",
       "      <td>106.0</td>\n",
       "      <td>34.0</td>\n",
       "      <td>140.0</td>\n",
       "      <td>27.5</td>\n",
       "      <td>133.5</td>\n",
       "      <td>234.0</td>\n",
       "      <td>8.5</td>\n",
       "      <td>NaN</td>\n",
       "      <td>NaN</td>\n",
       "      <td>18.0</td>\n",
       "      <td>11.12</td>\n",
       "      <td>3.27</td>\n",
       "    </tr>\n",
       "    <tr>\n",
       "      <th>4</th>\n",
       "      <td>Earl Clark</td>\n",
       "      <td>2009</td>\n",
       "      <td>14.0</td>\n",
       "      <td>80.50</td>\n",
       "      <td>82.25</td>\n",
       "      <td>86.50</td>\n",
       "      <td>109.5</td>\n",
       "      <td>33.0</td>\n",
       "      <td>142.5</td>\n",
       "      <td>28.5</td>\n",
       "      <td>138.0</td>\n",
       "      <td>228.0</td>\n",
       "      <td>5.2</td>\n",
       "      <td>NaN</td>\n",
       "      <td>NaN</td>\n",
       "      <td>5.0</td>\n",
       "      <td>11.17</td>\n",
       "      <td>3.35</td>\n",
       "    </tr>\n",
       "    <tr>\n",
       "      <th>...</th>\n",
       "      <td>...</td>\n",
       "      <td>...</td>\n",
       "      <td>...</td>\n",
       "      <td>...</td>\n",
       "      <td>...</td>\n",
       "      <td>...</td>\n",
       "      <td>...</td>\n",
       "      <td>...</td>\n",
       "      <td>...</td>\n",
       "      <td>...</td>\n",
       "      <td>...</td>\n",
       "      <td>...</td>\n",
       "      <td>...</td>\n",
       "      <td>...</td>\n",
       "      <td>...</td>\n",
       "      <td>...</td>\n",
       "      <td>...</td>\n",
       "      <td>...</td>\n",
       "    </tr>\n",
       "    <tr>\n",
       "      <th>489</th>\n",
       "      <td>Monte Morris</td>\n",
       "      <td>2017</td>\n",
       "      <td>51.0</td>\n",
       "      <td>73.25</td>\n",
       "      <td>74.50</td>\n",
       "      <td>76.00</td>\n",
       "      <td>96.5</td>\n",
       "      <td>33.5</td>\n",
       "      <td>130.0</td>\n",
       "      <td>28.0</td>\n",
       "      <td>124.5</td>\n",
       "      <td>175.0</td>\n",
       "      <td>6.9</td>\n",
       "      <td>8.25</td>\n",
       "      <td>8.75</td>\n",
       "      <td>NaN</td>\n",
       "      <td>11.00</td>\n",
       "      <td>3.19</td>\n",
       "    </tr>\n",
       "    <tr>\n",
       "      <th>490</th>\n",
       "      <td>Edmond Sumner</td>\n",
       "      <td>2017</td>\n",
       "      <td>52.0</td>\n",
       "      <td>76.00</td>\n",
       "      <td>77.75</td>\n",
       "      <td>81.00</td>\n",
       "      <td>102.5</td>\n",
       "      <td>NaN</td>\n",
       "      <td>NaN</td>\n",
       "      <td>NaN</td>\n",
       "      <td>NaN</td>\n",
       "      <td>176.0</td>\n",
       "      <td>8.3</td>\n",
       "      <td>8.25</td>\n",
       "      <td>9.00</td>\n",
       "      <td>NaN</td>\n",
       "      <td>NaN</td>\n",
       "      <td>NaN</td>\n",
       "    </tr>\n",
       "    <tr>\n",
       "      <th>491</th>\n",
       "      <td>Kadeem Allen</td>\n",
       "      <td>2017</td>\n",
       "      <td>53.0</td>\n",
       "      <td>73.00</td>\n",
       "      <td>74.25</td>\n",
       "      <td>81.25</td>\n",
       "      <td>99.5</td>\n",
       "      <td>35.5</td>\n",
       "      <td>135.0</td>\n",
       "      <td>33.0</td>\n",
       "      <td>132.5</td>\n",
       "      <td>192.0</td>\n",
       "      <td>6.4</td>\n",
       "      <td>8.50</td>\n",
       "      <td>8.75</td>\n",
       "      <td>NaN</td>\n",
       "      <td>11.24</td>\n",
       "      <td>3.15</td>\n",
       "    </tr>\n",
       "    <tr>\n",
       "      <th>492</th>\n",
       "      <td>Alec Peters</td>\n",
       "      <td>2017</td>\n",
       "      <td>54.0</td>\n",
       "      <td>79.25</td>\n",
       "      <td>80.75</td>\n",
       "      <td>82.75</td>\n",
       "      <td>105.0</td>\n",
       "      <td>NaN</td>\n",
       "      <td>NaN</td>\n",
       "      <td>NaN</td>\n",
       "      <td>NaN</td>\n",
       "      <td>232.0</td>\n",
       "      <td>8.8</td>\n",
       "      <td>8.75</td>\n",
       "      <td>10.00</td>\n",
       "      <td>NaN</td>\n",
       "      <td>NaN</td>\n",
       "      <td>NaN</td>\n",
       "    </tr>\n",
       "    <tr>\n",
       "      <th>493</th>\n",
       "      <td>Nigel Williams-Goss</td>\n",
       "      <td>2017</td>\n",
       "      <td>55.0</td>\n",
       "      <td>73.50</td>\n",
       "      <td>75.00</td>\n",
       "      <td>79.25</td>\n",
       "      <td>99.0</td>\n",
       "      <td>34.5</td>\n",
       "      <td>133.5</td>\n",
       "      <td>27.5</td>\n",
       "      <td>126.5</td>\n",
       "      <td>190.0</td>\n",
       "      <td>5.6</td>\n",
       "      <td>8.75</td>\n",
       "      <td>9.25</td>\n",
       "      <td>NaN</td>\n",
       "      <td>10.42</td>\n",
       "      <td>3.19</td>\n",
       "    </tr>\n",
       "  </tbody>\n",
       "</table>\n",
       "<p>384 rows × 18 columns</p>\n",
       "</div>"
      ],
      "text/plain": [
       "                  Player  Year  Draft pick  Height (No Shoes)  \\\n",
       "0          Blake Griffin  2009         1.0              80.50   \n",
       "1      Terrence Williams  2009        11.0              77.00   \n",
       "2       Gerald Henderson  2009        12.0              76.00   \n",
       "3       Tyler Hansbrough  2009        13.0              80.25   \n",
       "4             Earl Clark  2009        14.0              80.50   \n",
       "..                   ...   ...         ...                ...   \n",
       "489         Monte Morris  2017        51.0              73.25   \n",
       "490        Edmond Sumner  2017        52.0              76.00   \n",
       "491         Kadeem Allen  2017        53.0              73.00   \n",
       "492          Alec Peters  2017        54.0              79.25   \n",
       "493  Nigel Williams-Goss  2017        55.0              73.50   \n",
       "\n",
       "     Height (With Shoes)  Wingspan  Standing reach  Vertical (Max)  \\\n",
       "0                  82.00     83.25           105.0            35.5   \n",
       "1                  78.25     81.00           103.5            37.0   \n",
       "2                  77.00     82.25           102.5            35.0   \n",
       "3                  81.50     83.50           106.0            34.0   \n",
       "4                  82.25     86.50           109.5            33.0   \n",
       "..                   ...       ...             ...             ...   \n",
       "489                74.50     76.00            96.5            33.5   \n",
       "490                77.75     81.00           102.5             NaN   \n",
       "491                74.25     81.25            99.5            35.5   \n",
       "492                80.75     82.75           105.0             NaN   \n",
       "493                75.00     79.25            99.0            34.5   \n",
       "\n",
       "     Vertical (Max Reach)  Vertical (No Step)  Vertical (No Step Reach)  \\\n",
       "0                   140.5                32.0                     137.0   \n",
       "1                   140.5                30.5                     134.0   \n",
       "2                   137.5                31.5                     134.0   \n",
       "3                   140.0                27.5                     133.5   \n",
       "4                   142.5                28.5                     138.0   \n",
       "..                    ...                 ...                       ...   \n",
       "489                 130.0                28.0                     124.5   \n",
       "490                   NaN                 NaN                       NaN   \n",
       "491                 135.0                33.0                     132.5   \n",
       "492                   NaN                 NaN                       NaN   \n",
       "493                 133.5                27.5                     126.5   \n",
       "\n",
       "     Weight  Body Fat  Hand (Length)  Hand (Width)  Bench  Agility  Sprint  \n",
       "0     248.0       8.2            NaN           NaN   22.0    10.95    3.28  \n",
       "1     213.0       5.1            NaN           NaN    9.0    11.15    3.18  \n",
       "2     215.0       4.4            NaN           NaN    8.0    11.17    3.14  \n",
       "3     234.0       8.5            NaN           NaN   18.0    11.12    3.27  \n",
       "4     228.0       5.2            NaN           NaN    5.0    11.17    3.35  \n",
       "..      ...       ...            ...           ...    ...      ...     ...  \n",
       "489   175.0       6.9           8.25          8.75    NaN    11.00    3.19  \n",
       "490   176.0       8.3           8.25          9.00    NaN      NaN     NaN  \n",
       "491   192.0       6.4           8.50          8.75    NaN    11.24    3.15  \n",
       "492   232.0       8.8           8.75         10.00    NaN      NaN     NaN  \n",
       "493   190.0       5.6           8.75          9.25    NaN    10.42    3.19  \n",
       "\n",
       "[384 rows x 18 columns]"
      ]
     },
     "execution_count": 173,
     "metadata": {},
     "output_type": "execute_result"
    }
   ],
   "source": [
    "combine_data"
   ]
  },
  {
   "cell_type": "code",
   "execution_count": 174,
   "id": "8b01c820",
   "metadata": {},
   "outputs": [
    {
     "name": "stderr",
     "output_type": "stream",
     "text": [
      "/var/folders/rj/xbh3qs3113570m39p4g31bth0000gp/T/ipykernel_81852/1938125176.py:1: FutureWarning: The default value of numeric_only in DataFrame.mean is deprecated. In a future version, it will default to False. In addition, specifying 'numeric_only=None' is deprecated. Select only valid columns or specify the value of numeric_only to silence this warning.\n",
      "  combine_data = combine_data.fillna(combine_data.mean())\n"
     ]
    }
   ],
   "source": [
    "combine_data = combine_data.fillna(combine_data.mean())"
   ]
  },
  {
   "cell_type": "code",
   "execution_count": 175,
   "id": "f5cc9073",
   "metadata": {},
   "outputs": [
    {
     "data": {
      "text/plain": [
       "Index(['Player', 'Year', 'Draft pick', 'Height (No Shoes)',\n",
       "       'Height (With Shoes)', 'Wingspan', 'Standing reach', 'Vertical (Max)',\n",
       "       'Vertical (Max Reach)', 'Vertical (No Step)',\n",
       "       'Vertical (No Step Reach)', 'Weight', 'Body Fat', 'Hand (Length)',\n",
       "       'Hand (Width)', 'Bench', 'Agility', 'Sprint'],\n",
       "      dtype='object')"
      ]
     },
     "execution_count": 175,
     "metadata": {},
     "output_type": "execute_result"
    }
   ],
   "source": [
    "combine_data.columns"
   ]
  },
  {
   "cell_type": "code",
   "execution_count": null,
   "id": "13d28fe3",
   "metadata": {},
   "outputs": [],
   "source": []
  },
  {
   "cell_type": "code",
   "execution_count": 176,
   "id": "cb268c0f",
   "metadata": {},
   "outputs": [
    {
     "data": {
      "text/plain": [
       "Index(['Player', 'Year', 'Draft pick', 'Height (No Shoes)',\n",
       "       'Height (With Shoes)', 'Wingspan', 'Standing reach', 'Vertical (Max)',\n",
       "       'Vertical (Max Reach)', 'Vertical (No Step)',\n",
       "       'Vertical (No Step Reach)', 'Weight', 'Body Fat', 'Hand (Length)',\n",
       "       'Hand (Width)', 'Bench', 'Agility', 'Sprint'],\n",
       "      dtype='object')"
      ]
     },
     "execution_count": 176,
     "metadata": {},
     "output_type": "execute_result"
    }
   ],
   "source": [
    "combine_data.columns"
   ]
  },
  {
   "cell_type": "code",
   "execution_count": 177,
   "id": "2eda1fdb",
   "metadata": {},
   "outputs": [],
   "source": [
    "features = ['Height (With Shoes)', 'Wingspan',\n",
    "       'Standing reach', 'Vertical (Max)', 'Vertical (Max Reach)',\n",
    "       'Vertical (No Step)', 'Vertical (No Step Reach)', 'Weight', 'Body Fat',\n",
    "       'Hand (Length)', 'Hand (Width)', 'Bench', 'Agility', 'Sprint']\n",
    "X = combine_data[features]"
   ]
  },
  {
   "cell_type": "code",
   "execution_count": 178,
   "id": "9d04909f",
   "metadata": {},
   "outputs": [],
   "source": [
    "y = combine_data['Draft pick']"
   ]
  },
  {
   "cell_type": "code",
   "execution_count": 179,
   "id": "00e311f5",
   "metadata": {},
   "outputs": [
    {
     "data": {
      "text/plain": [
       "(384, 14)"
      ]
     },
     "execution_count": 179,
     "metadata": {},
     "output_type": "execute_result"
    }
   ],
   "source": [
    "X.shape"
   ]
  },
  {
   "cell_type": "code",
   "execution_count": 180,
   "id": "331cb130",
   "metadata": {},
   "outputs": [
    {
     "data": {
      "text/plain": [
       "(384,)"
      ]
     },
     "execution_count": 180,
     "metadata": {},
     "output_type": "execute_result"
    }
   ],
   "source": [
    "y.shape"
   ]
  },
  {
   "cell_type": "code",
   "execution_count": 181,
   "id": "d53383e5",
   "metadata": {},
   "outputs": [],
   "source": [
    "x_train, x_test, y_train, y_test = train_test_split(X, y, test_size = 0.2)"
   ]
  },
  {
   "cell_type": "code",
   "execution_count": 182,
   "id": "a2cb4b35",
   "metadata": {},
   "outputs": [
    {
     "data": {
      "text/plain": [
       "488     5.0\n",
       "215    13.0\n",
       "291    35.0\n",
       "71     34.0\n",
       "313    60.0\n",
       "       ... \n",
       "426     5.0\n",
       "420    41.0\n",
       "493    55.0\n",
       "163    21.0\n",
       "342    19.0\n",
       "Name: Draft pick, Length: 307, dtype: float64"
      ]
     },
     "execution_count": 182,
     "metadata": {},
     "output_type": "execute_result"
    }
   ],
   "source": [
    "clf = DecisionTreeRegressor()\n",
    "y_train"
   ]
  },
  {
   "cell_type": "code",
   "execution_count": 183,
   "id": "27ec4324",
   "metadata": {},
   "outputs": [
    {
     "data": {
      "text/html": [
       "<style>#sk-container-id-21 {color: black;background-color: white;}#sk-container-id-21 pre{padding: 0;}#sk-container-id-21 div.sk-toggleable {background-color: white;}#sk-container-id-21 label.sk-toggleable__label {cursor: pointer;display: block;width: 100%;margin-bottom: 0;padding: 0.3em;box-sizing: border-box;text-align: center;}#sk-container-id-21 label.sk-toggleable__label-arrow:before {content: \"▸\";float: left;margin-right: 0.25em;color: #696969;}#sk-container-id-21 label.sk-toggleable__label-arrow:hover:before {color: black;}#sk-container-id-21 div.sk-estimator:hover label.sk-toggleable__label-arrow:before {color: black;}#sk-container-id-21 div.sk-toggleable__content {max-height: 0;max-width: 0;overflow: hidden;text-align: left;background-color: #f0f8ff;}#sk-container-id-21 div.sk-toggleable__content pre {margin: 0.2em;color: black;border-radius: 0.25em;background-color: #f0f8ff;}#sk-container-id-21 input.sk-toggleable__control:checked~div.sk-toggleable__content {max-height: 200px;max-width: 100%;overflow: auto;}#sk-container-id-21 input.sk-toggleable__control:checked~label.sk-toggleable__label-arrow:before {content: \"▾\";}#sk-container-id-21 div.sk-estimator input.sk-toggleable__control:checked~label.sk-toggleable__label {background-color: #d4ebff;}#sk-container-id-21 div.sk-label input.sk-toggleable__control:checked~label.sk-toggleable__label {background-color: #d4ebff;}#sk-container-id-21 input.sk-hidden--visually {border: 0;clip: rect(1px 1px 1px 1px);clip: rect(1px, 1px, 1px, 1px);height: 1px;margin: -1px;overflow: hidden;padding: 0;position: absolute;width: 1px;}#sk-container-id-21 div.sk-estimator {font-family: monospace;background-color: #f0f8ff;border: 1px dotted black;border-radius: 0.25em;box-sizing: border-box;margin-bottom: 0.5em;}#sk-container-id-21 div.sk-estimator:hover {background-color: #d4ebff;}#sk-container-id-21 div.sk-parallel-item::after {content: \"\";width: 100%;border-bottom: 1px solid gray;flex-grow: 1;}#sk-container-id-21 div.sk-label:hover label.sk-toggleable__label {background-color: #d4ebff;}#sk-container-id-21 div.sk-serial::before {content: \"\";position: absolute;border-left: 1px solid gray;box-sizing: border-box;top: 0;bottom: 0;left: 50%;z-index: 0;}#sk-container-id-21 div.sk-serial {display: flex;flex-direction: column;align-items: center;background-color: white;padding-right: 0.2em;padding-left: 0.2em;position: relative;}#sk-container-id-21 div.sk-item {position: relative;z-index: 1;}#sk-container-id-21 div.sk-parallel {display: flex;align-items: stretch;justify-content: center;background-color: white;position: relative;}#sk-container-id-21 div.sk-item::before, #sk-container-id-21 div.sk-parallel-item::before {content: \"\";position: absolute;border-left: 1px solid gray;box-sizing: border-box;top: 0;bottom: 0;left: 50%;z-index: -1;}#sk-container-id-21 div.sk-parallel-item {display: flex;flex-direction: column;z-index: 1;position: relative;background-color: white;}#sk-container-id-21 div.sk-parallel-item:first-child::after {align-self: flex-end;width: 50%;}#sk-container-id-21 div.sk-parallel-item:last-child::after {align-self: flex-start;width: 50%;}#sk-container-id-21 div.sk-parallel-item:only-child::after {width: 0;}#sk-container-id-21 div.sk-dashed-wrapped {border: 1px dashed gray;margin: 0 0.4em 0.5em 0.4em;box-sizing: border-box;padding-bottom: 0.4em;background-color: white;}#sk-container-id-21 div.sk-label label {font-family: monospace;font-weight: bold;display: inline-block;line-height: 1.2em;}#sk-container-id-21 div.sk-label-container {text-align: center;}#sk-container-id-21 div.sk-container {/* jupyter's `normalize.less` sets `[hidden] { display: none; }` but bootstrap.min.css set `[hidden] { display: none !important; }` so we also need the `!important` here to be able to override the default hidden behavior on the sphinx rendered scikit-learn.org. See: https://github.com/scikit-learn/scikit-learn/issues/21755 */display: inline-block !important;position: relative;}#sk-container-id-21 div.sk-text-repr-fallback {display: none;}</style><div id=\"sk-container-id-21\" class=\"sk-top-container\"><div class=\"sk-text-repr-fallback\"><pre>DecisionTreeRegressor()</pre><b>In a Jupyter environment, please rerun this cell to show the HTML representation or trust the notebook. <br />On GitHub, the HTML representation is unable to render, please try loading this page with nbviewer.org.</b></div><div class=\"sk-container\" hidden><div class=\"sk-item\"><div class=\"sk-estimator sk-toggleable\"><input class=\"sk-toggleable__control sk-hidden--visually\" id=\"sk-estimator-id-21\" type=\"checkbox\" checked><label for=\"sk-estimator-id-21\" class=\"sk-toggleable__label sk-toggleable__label-arrow\">DecisionTreeRegressor</label><div class=\"sk-toggleable__content\"><pre>DecisionTreeRegressor()</pre></div></div></div></div></div>"
      ],
      "text/plain": [
       "DecisionTreeRegressor()"
      ]
     },
     "execution_count": 183,
     "metadata": {},
     "output_type": "execute_result"
    }
   ],
   "source": [
    "clf.fit(x_train, y_train)"
   ]
  },
  {
   "cell_type": "code",
   "execution_count": 184,
   "id": "0a55009f",
   "metadata": {},
   "outputs": [],
   "source": [
    "y_pred = clf.predict(x_test)"
   ]
  },
  {
   "cell_type": "code",
   "execution_count": 185,
   "id": "280777c7",
   "metadata": {},
   "outputs": [
    {
     "data": {
      "text/plain": [
       "0.025974025974025976"
      ]
     },
     "execution_count": 185,
     "metadata": {},
     "output_type": "execute_result"
    }
   ],
   "source": [
    "accuracy_score(y_pred, y_test)"
   ]
  },
  {
   "cell_type": "code",
   "execution_count": 186,
   "id": "ea7b455d",
   "metadata": {},
   "outputs": [],
   "source": [
    "from sklearn.linear_model import LinearRegression"
   ]
  },
  {
   "cell_type": "code",
   "execution_count": 187,
   "id": "c8e07ff6",
   "metadata": {},
   "outputs": [],
   "source": [
    "lin_reg = LinearRegression()"
   ]
  },
  {
   "cell_type": "code",
   "execution_count": 188,
   "id": "c4213b42",
   "metadata": {},
   "outputs": [
    {
     "data": {
      "text/html": [
       "<style>#sk-container-id-22 {color: black;background-color: white;}#sk-container-id-22 pre{padding: 0;}#sk-container-id-22 div.sk-toggleable {background-color: white;}#sk-container-id-22 label.sk-toggleable__label {cursor: pointer;display: block;width: 100%;margin-bottom: 0;padding: 0.3em;box-sizing: border-box;text-align: center;}#sk-container-id-22 label.sk-toggleable__label-arrow:before {content: \"▸\";float: left;margin-right: 0.25em;color: #696969;}#sk-container-id-22 label.sk-toggleable__label-arrow:hover:before {color: black;}#sk-container-id-22 div.sk-estimator:hover label.sk-toggleable__label-arrow:before {color: black;}#sk-container-id-22 div.sk-toggleable__content {max-height: 0;max-width: 0;overflow: hidden;text-align: left;background-color: #f0f8ff;}#sk-container-id-22 div.sk-toggleable__content pre {margin: 0.2em;color: black;border-radius: 0.25em;background-color: #f0f8ff;}#sk-container-id-22 input.sk-toggleable__control:checked~div.sk-toggleable__content {max-height: 200px;max-width: 100%;overflow: auto;}#sk-container-id-22 input.sk-toggleable__control:checked~label.sk-toggleable__label-arrow:before {content: \"▾\";}#sk-container-id-22 div.sk-estimator input.sk-toggleable__control:checked~label.sk-toggleable__label {background-color: #d4ebff;}#sk-container-id-22 div.sk-label input.sk-toggleable__control:checked~label.sk-toggleable__label {background-color: #d4ebff;}#sk-container-id-22 input.sk-hidden--visually {border: 0;clip: rect(1px 1px 1px 1px);clip: rect(1px, 1px, 1px, 1px);height: 1px;margin: -1px;overflow: hidden;padding: 0;position: absolute;width: 1px;}#sk-container-id-22 div.sk-estimator {font-family: monospace;background-color: #f0f8ff;border: 1px dotted black;border-radius: 0.25em;box-sizing: border-box;margin-bottom: 0.5em;}#sk-container-id-22 div.sk-estimator:hover {background-color: #d4ebff;}#sk-container-id-22 div.sk-parallel-item::after {content: \"\";width: 100%;border-bottom: 1px solid gray;flex-grow: 1;}#sk-container-id-22 div.sk-label:hover label.sk-toggleable__label {background-color: #d4ebff;}#sk-container-id-22 div.sk-serial::before {content: \"\";position: absolute;border-left: 1px solid gray;box-sizing: border-box;top: 0;bottom: 0;left: 50%;z-index: 0;}#sk-container-id-22 div.sk-serial {display: flex;flex-direction: column;align-items: center;background-color: white;padding-right: 0.2em;padding-left: 0.2em;position: relative;}#sk-container-id-22 div.sk-item {position: relative;z-index: 1;}#sk-container-id-22 div.sk-parallel {display: flex;align-items: stretch;justify-content: center;background-color: white;position: relative;}#sk-container-id-22 div.sk-item::before, #sk-container-id-22 div.sk-parallel-item::before {content: \"\";position: absolute;border-left: 1px solid gray;box-sizing: border-box;top: 0;bottom: 0;left: 50%;z-index: -1;}#sk-container-id-22 div.sk-parallel-item {display: flex;flex-direction: column;z-index: 1;position: relative;background-color: white;}#sk-container-id-22 div.sk-parallel-item:first-child::after {align-self: flex-end;width: 50%;}#sk-container-id-22 div.sk-parallel-item:last-child::after {align-self: flex-start;width: 50%;}#sk-container-id-22 div.sk-parallel-item:only-child::after {width: 0;}#sk-container-id-22 div.sk-dashed-wrapped {border: 1px dashed gray;margin: 0 0.4em 0.5em 0.4em;box-sizing: border-box;padding-bottom: 0.4em;background-color: white;}#sk-container-id-22 div.sk-label label {font-family: monospace;font-weight: bold;display: inline-block;line-height: 1.2em;}#sk-container-id-22 div.sk-label-container {text-align: center;}#sk-container-id-22 div.sk-container {/* jupyter's `normalize.less` sets `[hidden] { display: none; }` but bootstrap.min.css set `[hidden] { display: none !important; }` so we also need the `!important` here to be able to override the default hidden behavior on the sphinx rendered scikit-learn.org. See: https://github.com/scikit-learn/scikit-learn/issues/21755 */display: inline-block !important;position: relative;}#sk-container-id-22 div.sk-text-repr-fallback {display: none;}</style><div id=\"sk-container-id-22\" class=\"sk-top-container\"><div class=\"sk-text-repr-fallback\"><pre>LinearRegression()</pre><b>In a Jupyter environment, please rerun this cell to show the HTML representation or trust the notebook. <br />On GitHub, the HTML representation is unable to render, please try loading this page with nbviewer.org.</b></div><div class=\"sk-container\" hidden><div class=\"sk-item\"><div class=\"sk-estimator sk-toggleable\"><input class=\"sk-toggleable__control sk-hidden--visually\" id=\"sk-estimator-id-22\" type=\"checkbox\" checked><label for=\"sk-estimator-id-22\" class=\"sk-toggleable__label sk-toggleable__label-arrow\">LinearRegression</label><div class=\"sk-toggleable__content\"><pre>LinearRegression()</pre></div></div></div></div></div>"
      ],
      "text/plain": [
       "LinearRegression()"
      ]
     },
     "execution_count": 188,
     "metadata": {},
     "output_type": "execute_result"
    }
   ],
   "source": [
    "lin_reg.fit(x_train, y_train)"
   ]
  },
  {
   "cell_type": "code",
   "execution_count": 189,
   "id": "7ac403f1",
   "metadata": {},
   "outputs": [],
   "source": [
    "y_pred = lin_reg.predict(x_test)"
   ]
  },
  {
   "cell_type": "code",
   "execution_count": 190,
   "id": "f2c25c12",
   "metadata": {},
   "outputs": [
    {
     "data": {
      "text/plain": [
       "267.87278693829614"
      ]
     },
     "execution_count": 190,
     "metadata": {},
     "output_type": "execute_result"
    }
   ],
   "source": [
    "mean_squared_error(y_test, y_pred)"
   ]
  },
  {
   "cell_type": "code",
   "execution_count": 191,
   "id": "5f1fe442",
   "metadata": {},
   "outputs": [],
   "source": [
    "from sklearn.metrics import r2_score\n",
    "r2 = r2_score(y_test, y_pred)"
   ]
  },
  {
   "cell_type": "code",
   "execution_count": 192,
   "id": "9301f905",
   "metadata": {},
   "outputs": [
    {
     "data": {
      "text/plain": [
       "-0.1745539479400482"
      ]
     },
     "execution_count": 192,
     "metadata": {},
     "output_type": "execute_result"
    }
   ],
   "source": [
    "r2"
   ]
  },
  {
   "cell_type": "code",
   "execution_count": 193,
   "id": "47fa551c",
   "metadata": {},
   "outputs": [
    {
     "data": {
      "text/plain": [
       "array([ 0.60261692,  0.03066345, -0.51076377, -7.50959996,  7.48970714,\n",
       "        8.02913441, -7.95168782, -0.18636788,  1.1504941 , -1.57644749,\n",
       "        0.3049134 ,  0.4253524 ,  4.74365441, 22.90669041])"
      ]
     },
     "execution_count": 193,
     "metadata": {},
     "output_type": "execute_result"
    }
   ],
   "source": [
    "lin_reg.coef_"
   ]
  },
  {
   "cell_type": "code",
   "execution_count": 194,
   "id": "d009023c",
   "metadata": {},
   "outputs": [
    {
     "data": {
      "text/plain": [
       "6"
      ]
     },
     "execution_count": 194,
     "metadata": {},
     "output_type": "execute_result"
    }
   ],
   "source": [
    "a = np.argmin(lin_reg.coef_)\n",
    "a"
   ]
  },
  {
   "cell_type": "code",
   "execution_count": 195,
   "id": "64aae81c",
   "metadata": {},
   "outputs": [
    {
     "data": {
      "text/plain": [
       "'Vertical (No Step Reach)'"
      ]
     },
     "execution_count": 195,
     "metadata": {},
     "output_type": "execute_result"
    }
   ],
   "source": [
    "features[np.argmin(lin_reg.coef_)]"
   ]
  },
  {
   "cell_type": "code",
   "execution_count": 196,
   "id": "ea37f629",
   "metadata": {},
   "outputs": [],
   "source": [
    "# features[np.argmax(lin_reg.coef_)]"
   ]
  },
  {
   "cell_type": "code",
   "execution_count": 197,
   "id": "83238012",
   "metadata": {},
   "outputs": [
    {
     "name": "stdout",
     "output_type": "stream",
     "text": [
      "[8, 12, 4, 5, 13]\n"
     ]
    }
   ],
   "source": [
    "max_indices = list(np.argsort(lin_reg.coef_)[-5:])\n",
    "print(max_indices)"
   ]
  },
  {
   "cell_type": "code",
   "execution_count": 198,
   "id": "b2876458",
   "metadata": {},
   "outputs": [],
   "source": [
    "# for i in max_indices:\n",
    "#     print(features[i])\n",
    "features = np.array(features)"
   ]
  },
  {
   "cell_type": "code",
   "execution_count": 199,
   "id": "f299d6c8",
   "metadata": {},
   "outputs": [],
   "source": [
    "imp_features = features[max_indices]"
   ]
  },
  {
   "cell_type": "code",
   "execution_count": 200,
   "id": "a1641473",
   "metadata": {},
   "outputs": [
    {
     "data": {
      "text/plain": [
       "(384,)"
      ]
     },
     "execution_count": 200,
     "metadata": {},
     "output_type": "execute_result"
    }
   ],
   "source": [
    "X = combine_data[imp_features]\n",
    "y = combine_data['Draft pick']\n",
    "\n",
    "X.shape\n",
    "y.shape"
   ]
  },
  {
   "cell_type": "code",
   "execution_count": 201,
   "id": "4f1800be",
   "metadata": {},
   "outputs": [],
   "source": [
    "x_train, x_test, y_train, y_test = train_test_split(X, y, test_size = 0.2)"
   ]
  },
  {
   "cell_type": "code",
   "execution_count": 202,
   "id": "8bc4abc7",
   "metadata": {},
   "outputs": [
    {
     "data": {
      "text/html": [
       "<style>#sk-container-id-23 {color: black;background-color: white;}#sk-container-id-23 pre{padding: 0;}#sk-container-id-23 div.sk-toggleable {background-color: white;}#sk-container-id-23 label.sk-toggleable__label {cursor: pointer;display: block;width: 100%;margin-bottom: 0;padding: 0.3em;box-sizing: border-box;text-align: center;}#sk-container-id-23 label.sk-toggleable__label-arrow:before {content: \"▸\";float: left;margin-right: 0.25em;color: #696969;}#sk-container-id-23 label.sk-toggleable__label-arrow:hover:before {color: black;}#sk-container-id-23 div.sk-estimator:hover label.sk-toggleable__label-arrow:before {color: black;}#sk-container-id-23 div.sk-toggleable__content {max-height: 0;max-width: 0;overflow: hidden;text-align: left;background-color: #f0f8ff;}#sk-container-id-23 div.sk-toggleable__content pre {margin: 0.2em;color: black;border-radius: 0.25em;background-color: #f0f8ff;}#sk-container-id-23 input.sk-toggleable__control:checked~div.sk-toggleable__content {max-height: 200px;max-width: 100%;overflow: auto;}#sk-container-id-23 input.sk-toggleable__control:checked~label.sk-toggleable__label-arrow:before {content: \"▾\";}#sk-container-id-23 div.sk-estimator input.sk-toggleable__control:checked~label.sk-toggleable__label {background-color: #d4ebff;}#sk-container-id-23 div.sk-label input.sk-toggleable__control:checked~label.sk-toggleable__label {background-color: #d4ebff;}#sk-container-id-23 input.sk-hidden--visually {border: 0;clip: rect(1px 1px 1px 1px);clip: rect(1px, 1px, 1px, 1px);height: 1px;margin: -1px;overflow: hidden;padding: 0;position: absolute;width: 1px;}#sk-container-id-23 div.sk-estimator {font-family: monospace;background-color: #f0f8ff;border: 1px dotted black;border-radius: 0.25em;box-sizing: border-box;margin-bottom: 0.5em;}#sk-container-id-23 div.sk-estimator:hover {background-color: #d4ebff;}#sk-container-id-23 div.sk-parallel-item::after {content: \"\";width: 100%;border-bottom: 1px solid gray;flex-grow: 1;}#sk-container-id-23 div.sk-label:hover label.sk-toggleable__label {background-color: #d4ebff;}#sk-container-id-23 div.sk-serial::before {content: \"\";position: absolute;border-left: 1px solid gray;box-sizing: border-box;top: 0;bottom: 0;left: 50%;z-index: 0;}#sk-container-id-23 div.sk-serial {display: flex;flex-direction: column;align-items: center;background-color: white;padding-right: 0.2em;padding-left: 0.2em;position: relative;}#sk-container-id-23 div.sk-item {position: relative;z-index: 1;}#sk-container-id-23 div.sk-parallel {display: flex;align-items: stretch;justify-content: center;background-color: white;position: relative;}#sk-container-id-23 div.sk-item::before, #sk-container-id-23 div.sk-parallel-item::before {content: \"\";position: absolute;border-left: 1px solid gray;box-sizing: border-box;top: 0;bottom: 0;left: 50%;z-index: -1;}#sk-container-id-23 div.sk-parallel-item {display: flex;flex-direction: column;z-index: 1;position: relative;background-color: white;}#sk-container-id-23 div.sk-parallel-item:first-child::after {align-self: flex-end;width: 50%;}#sk-container-id-23 div.sk-parallel-item:last-child::after {align-self: flex-start;width: 50%;}#sk-container-id-23 div.sk-parallel-item:only-child::after {width: 0;}#sk-container-id-23 div.sk-dashed-wrapped {border: 1px dashed gray;margin: 0 0.4em 0.5em 0.4em;box-sizing: border-box;padding-bottom: 0.4em;background-color: white;}#sk-container-id-23 div.sk-label label {font-family: monospace;font-weight: bold;display: inline-block;line-height: 1.2em;}#sk-container-id-23 div.sk-label-container {text-align: center;}#sk-container-id-23 div.sk-container {/* jupyter's `normalize.less` sets `[hidden] { display: none; }` but bootstrap.min.css set `[hidden] { display: none !important; }` so we also need the `!important` here to be able to override the default hidden behavior on the sphinx rendered scikit-learn.org. See: https://github.com/scikit-learn/scikit-learn/issues/21755 */display: inline-block !important;position: relative;}#sk-container-id-23 div.sk-text-repr-fallback {display: none;}</style><div id=\"sk-container-id-23\" class=\"sk-top-container\"><div class=\"sk-text-repr-fallback\"><pre>LinearRegression()</pre><b>In a Jupyter environment, please rerun this cell to show the HTML representation or trust the notebook. <br />On GitHub, the HTML representation is unable to render, please try loading this page with nbviewer.org.</b></div><div class=\"sk-container\" hidden><div class=\"sk-item\"><div class=\"sk-estimator sk-toggleable\"><input class=\"sk-toggleable__control sk-hidden--visually\" id=\"sk-estimator-id-23\" type=\"checkbox\" checked><label for=\"sk-estimator-id-23\" class=\"sk-toggleable__label sk-toggleable__label-arrow\">LinearRegression</label><div class=\"sk-toggleable__content\"><pre>LinearRegression()</pre></div></div></div></div></div>"
      ],
      "text/plain": [
       "LinearRegression()"
      ]
     },
     "execution_count": 202,
     "metadata": {},
     "output_type": "execute_result"
    }
   ],
   "source": [
    "lin_reg = LinearRegression()\n",
    "lin_reg.fit(x_train, y_train)"
   ]
  },
  {
   "cell_type": "code",
   "execution_count": 203,
   "id": "966e72af",
   "metadata": {},
   "outputs": [
    {
     "data": {
      "text/plain": [
       "221.09585750798598"
      ]
     },
     "execution_count": 203,
     "metadata": {},
     "output_type": "execute_result"
    }
   ],
   "source": [
    "y_pred = lin_reg.predict(x_test)\n",
    "mean_squared_error(y_pred, y_test)"
   ]
  },
  {
   "cell_type": "code",
   "execution_count": 204,
   "id": "ed0ed0e2",
   "metadata": {},
   "outputs": [
    {
     "data": {
      "text/plain": [
       "0.077831456582375"
      ]
     },
     "execution_count": 204,
     "metadata": {},
     "output_type": "execute_result"
    }
   ],
   "source": [
    "r2_score(y_test, y_pred)"
   ]
  },
  {
   "cell_type": "code",
   "execution_count": null,
   "id": "8f7e8c7c",
   "metadata": {},
   "outputs": [],
   "source": []
  },
  {
   "cell_type": "code",
   "execution_count": null,
   "id": "8608fcd0",
   "metadata": {},
   "outputs": [],
   "source": []
  },
  {
   "cell_type": "code",
   "execution_count": 258,
   "id": "44d4e5e1",
   "metadata": {},
   "outputs": [],
   "source": [
    "features = np.array(['Height (With Shoes)', 'Wingspan',\n",
    "       'Standing reach', 'Vertical (Max)', 'Vertical (Max Reach)',\n",
    "       'Vertical (No Step)', 'Vertical (No Step Reach)', 'Weight', 'Body Fat',\n",
    "       'Hand (Length)', 'Hand (Width)', 'Bench', 'Agility', 'Sprint'])\n",
    "X = combine_data[features]\n",
    "\n",
    "from sklearn.feature_selection import f_regression\n",
    "\n",
    "# X is your feature matrix (10 features) and y is your target variable\n",
    "# Assuming X and y are numpy arrays or pandas DataFrames/Series\n",
    "f_values, p_values = f_regression(X, y)\n",
    "\n",
    "# Select the top 5 features with the lowest p-values\n",
    "top_feature_indices = np.argsort(p_values)[:5]\n",
    "# top_feature_indices\n",
    "# top_features = X[:, top_feature_indices]\n",
    "top_features = features[top_feature_indices]"
   ]
  },
  {
   "cell_type": "code",
   "execution_count": 259,
   "id": "82917f2b",
   "metadata": {},
   "outputs": [
    {
     "data": {
      "text/plain": [
       "array(['Vertical (Max Reach)', 'Vertical (No Step Reach)', 'Wingspan',\n",
       "       'Sprint', 'Standing reach'], dtype='<U24')"
      ]
     },
     "execution_count": 259,
     "metadata": {},
     "output_type": "execute_result"
    }
   ],
   "source": [
    "top_features"
   ]
  },
  {
   "cell_type": "code",
   "execution_count": 266,
   "id": "7bb3f15e",
   "metadata": {},
   "outputs": [],
   "source": [
    "X = X[features]"
   ]
  },
  {
   "cell_type": "code",
   "execution_count": 267,
   "id": "d99a96f5",
   "metadata": {},
   "outputs": [
    {
     "data": {
      "text/plain": [
       "(384, 14)"
      ]
     },
     "execution_count": 267,
     "metadata": {},
     "output_type": "execute_result"
    }
   ],
   "source": [
    "X.shape"
   ]
  },
  {
   "cell_type": "code",
   "execution_count": 268,
   "id": "e8f4c033",
   "metadata": {},
   "outputs": [
    {
     "data": {
      "text/plain": [
       "(384,)"
      ]
     },
     "execution_count": 268,
     "metadata": {},
     "output_type": "execute_result"
    }
   ],
   "source": [
    "y.shape"
   ]
  },
  {
   "cell_type": "code",
   "execution_count": 293,
   "id": "7461ff2f",
   "metadata": {},
   "outputs": [
    {
     "data": {
      "text/html": [
       "<style>#sk-container-id-38 {color: black;background-color: white;}#sk-container-id-38 pre{padding: 0;}#sk-container-id-38 div.sk-toggleable {background-color: white;}#sk-container-id-38 label.sk-toggleable__label {cursor: pointer;display: block;width: 100%;margin-bottom: 0;padding: 0.3em;box-sizing: border-box;text-align: center;}#sk-container-id-38 label.sk-toggleable__label-arrow:before {content: \"▸\";float: left;margin-right: 0.25em;color: #696969;}#sk-container-id-38 label.sk-toggleable__label-arrow:hover:before {color: black;}#sk-container-id-38 div.sk-estimator:hover label.sk-toggleable__label-arrow:before {color: black;}#sk-container-id-38 div.sk-toggleable__content {max-height: 0;max-width: 0;overflow: hidden;text-align: left;background-color: #f0f8ff;}#sk-container-id-38 div.sk-toggleable__content pre {margin: 0.2em;color: black;border-radius: 0.25em;background-color: #f0f8ff;}#sk-container-id-38 input.sk-toggleable__control:checked~div.sk-toggleable__content {max-height: 200px;max-width: 100%;overflow: auto;}#sk-container-id-38 input.sk-toggleable__control:checked~label.sk-toggleable__label-arrow:before {content: \"▾\";}#sk-container-id-38 div.sk-estimator input.sk-toggleable__control:checked~label.sk-toggleable__label {background-color: #d4ebff;}#sk-container-id-38 div.sk-label input.sk-toggleable__control:checked~label.sk-toggleable__label {background-color: #d4ebff;}#sk-container-id-38 input.sk-hidden--visually {border: 0;clip: rect(1px 1px 1px 1px);clip: rect(1px, 1px, 1px, 1px);height: 1px;margin: -1px;overflow: hidden;padding: 0;position: absolute;width: 1px;}#sk-container-id-38 div.sk-estimator {font-family: monospace;background-color: #f0f8ff;border: 1px dotted black;border-radius: 0.25em;box-sizing: border-box;margin-bottom: 0.5em;}#sk-container-id-38 div.sk-estimator:hover {background-color: #d4ebff;}#sk-container-id-38 div.sk-parallel-item::after {content: \"\";width: 100%;border-bottom: 1px solid gray;flex-grow: 1;}#sk-container-id-38 div.sk-label:hover label.sk-toggleable__label {background-color: #d4ebff;}#sk-container-id-38 div.sk-serial::before {content: \"\";position: absolute;border-left: 1px solid gray;box-sizing: border-box;top: 0;bottom: 0;left: 50%;z-index: 0;}#sk-container-id-38 div.sk-serial {display: flex;flex-direction: column;align-items: center;background-color: white;padding-right: 0.2em;padding-left: 0.2em;position: relative;}#sk-container-id-38 div.sk-item {position: relative;z-index: 1;}#sk-container-id-38 div.sk-parallel {display: flex;align-items: stretch;justify-content: center;background-color: white;position: relative;}#sk-container-id-38 div.sk-item::before, #sk-container-id-38 div.sk-parallel-item::before {content: \"\";position: absolute;border-left: 1px solid gray;box-sizing: border-box;top: 0;bottom: 0;left: 50%;z-index: -1;}#sk-container-id-38 div.sk-parallel-item {display: flex;flex-direction: column;z-index: 1;position: relative;background-color: white;}#sk-container-id-38 div.sk-parallel-item:first-child::after {align-self: flex-end;width: 50%;}#sk-container-id-38 div.sk-parallel-item:last-child::after {align-self: flex-start;width: 50%;}#sk-container-id-38 div.sk-parallel-item:only-child::after {width: 0;}#sk-container-id-38 div.sk-dashed-wrapped {border: 1px dashed gray;margin: 0 0.4em 0.5em 0.4em;box-sizing: border-box;padding-bottom: 0.4em;background-color: white;}#sk-container-id-38 div.sk-label label {font-family: monospace;font-weight: bold;display: inline-block;line-height: 1.2em;}#sk-container-id-38 div.sk-label-container {text-align: center;}#sk-container-id-38 div.sk-container {/* jupyter's `normalize.less` sets `[hidden] { display: none; }` but bootstrap.min.css set `[hidden] { display: none !important; }` so we also need the `!important` here to be able to override the default hidden behavior on the sphinx rendered scikit-learn.org. See: https://github.com/scikit-learn/scikit-learn/issues/21755 */display: inline-block !important;position: relative;}#sk-container-id-38 div.sk-text-repr-fallback {display: none;}</style><div id=\"sk-container-id-38\" class=\"sk-top-container\"><div class=\"sk-text-repr-fallback\"><pre>LinearRegression()</pre><b>In a Jupyter environment, please rerun this cell to show the HTML representation or trust the notebook. <br />On GitHub, the HTML representation is unable to render, please try loading this page with nbviewer.org.</b></div><div class=\"sk-container\" hidden><div class=\"sk-item\"><div class=\"sk-estimator sk-toggleable\"><input class=\"sk-toggleable__control sk-hidden--visually\" id=\"sk-estimator-id-38\" type=\"checkbox\" checked><label for=\"sk-estimator-id-38\" class=\"sk-toggleable__label sk-toggleable__label-arrow\">LinearRegression</label><div class=\"sk-toggleable__content\"><pre>LinearRegression()</pre></div></div></div></div></div>"
      ],
      "text/plain": [
       "LinearRegression()"
      ]
     },
     "execution_count": 293,
     "metadata": {},
     "output_type": "execute_result"
    }
   ],
   "source": [
    "X = combine_data[top_features]\n",
    "x_train, x_test, y_train, y_test = train_test_split(X, y, test_size = 0.2, random_state=1336)\n",
    "lin_reg = LinearRegression()\n",
    "lin_reg.fit(x_train, y_train)"
   ]
  },
  {
   "cell_type": "code",
   "execution_count": 294,
   "id": "8638cc2e",
   "metadata": {},
   "outputs": [
    {
     "name": "stdout",
     "output_type": "stream",
     "text": [
      "rmse is 15.779639381394459\n"
     ]
    }
   ],
   "source": [
    "y_pred = lin_reg.predict(x_test)\n",
    "print(f'rmse is {np.sqrt(mean_squared_error(y_pred, y_test))}')"
   ]
  },
  {
   "cell_type": "code",
   "execution_count": 295,
   "id": "03b9956b",
   "metadata": {},
   "outputs": [
    {
     "data": {
      "text/plain": [
       "0.11307990872388884"
      ]
     },
     "execution_count": 295,
     "metadata": {},
     "output_type": "execute_result"
    }
   ],
   "source": [
    "r2_score(y_test, y_pred)"
   ]
  },
  {
   "cell_type": "code",
   "execution_count": 296,
   "id": "81b85755",
   "metadata": {},
   "outputs": [
    {
     "data": {
      "text/plain": [
       "array([31.06064123, 23.39115966, 32.02779871, 23.12581249, 27.43402376,\n",
       "       25.78672821, 28.01891633, 22.39869586, 33.59945483, 24.27564074,\n",
       "       33.21975544, 22.65996377, 24.38195998, 25.938682  , 34.2805678 ,\n",
       "       31.60436413, 24.42861466, 23.21921645, 28.38328717, 42.8018813 ,\n",
       "       33.30907324, 31.34057103, 31.22586719, 36.99084249, 35.29981433,\n",
       "       28.98997286, 19.6424108 , 22.52988737, 33.66449189, 31.57363038,\n",
       "       35.80442143, 31.79190266, 30.47281085, 30.74655714, 32.34382791,\n",
       "       33.44064163, 25.91566555, 23.01884825, 21.28022691, 30.86555771,\n",
       "       27.08160681, 29.81861075, 28.04211822, 25.95186159, 36.90632967,\n",
       "       26.62483863, 24.93800516, 25.17265936, 30.92114614, 31.76999504,\n",
       "       25.82508962, 24.61448344, 22.55304924, 28.77683386, 27.31189007,\n",
       "       32.32420934, 30.58953645, 23.70837345, 26.4205945 , 26.85893981,\n",
       "       26.26968487, 33.81122458, 22.41316178, 26.53945542, 34.51335067,\n",
       "       27.76126316, 32.10026181, 27.82827743, 29.87431338, 28.22477821,\n",
       "       28.7610658 , 26.42543811, 33.5768891 , 31.91152244, 33.49143284,\n",
       "       21.3769377 , 29.14756123])"
      ]
     },
     "execution_count": 296,
     "metadata": {},
     "output_type": "execute_result"
    }
   ],
   "source": [
    "y_pred"
   ]
  },
  {
   "cell_type": "code",
   "execution_count": 297,
   "id": "ca3c75b5",
   "metadata": {},
   "outputs": [
    {
     "data": {
      "text/plain": [
       "185    41.0\n",
       "69     32.0\n",
       "218    18.0\n",
       "22      3.0\n",
       "0       1.0\n",
       "       ... \n",
       "5      15.0\n",
       "306    50.0\n",
       "98     10.0\n",
       "192     5.0\n",
       "230    31.0\n",
       "Name: Draft pick, Length: 77, dtype: float64"
      ]
     },
     "execution_count": 297,
     "metadata": {},
     "output_type": "execute_result"
    }
   ],
   "source": [
    "y_test"
   ]
  },
  {
   "cell_type": "code",
   "execution_count": null,
   "id": "ab6ccfa6",
   "metadata": {},
   "outputs": [],
   "source": []
  },
  {
   "cell_type": "code",
   "execution_count": 298,
   "id": "b7ada001",
   "metadata": {},
   "outputs": [],
   "source": [
    "X_new = combine_data[features]\n",
    "y_new = combine_data['Draft pick']"
   ]
  },
  {
   "cell_type": "code",
   "execution_count": 299,
   "id": "83fcfa5e",
   "metadata": {},
   "outputs": [],
   "source": [
    "from sklearn.linear_model import Lasso"
   ]
  },
  {
   "cell_type": "code",
   "execution_count": 300,
   "id": "3858fd97",
   "metadata": {},
   "outputs": [
    {
     "data": {
      "text/html": [
       "<style>#sk-container-id-39 {color: black;background-color: white;}#sk-container-id-39 pre{padding: 0;}#sk-container-id-39 div.sk-toggleable {background-color: white;}#sk-container-id-39 label.sk-toggleable__label {cursor: pointer;display: block;width: 100%;margin-bottom: 0;padding: 0.3em;box-sizing: border-box;text-align: center;}#sk-container-id-39 label.sk-toggleable__label-arrow:before {content: \"▸\";float: left;margin-right: 0.25em;color: #696969;}#sk-container-id-39 label.sk-toggleable__label-arrow:hover:before {color: black;}#sk-container-id-39 div.sk-estimator:hover label.sk-toggleable__label-arrow:before {color: black;}#sk-container-id-39 div.sk-toggleable__content {max-height: 0;max-width: 0;overflow: hidden;text-align: left;background-color: #f0f8ff;}#sk-container-id-39 div.sk-toggleable__content pre {margin: 0.2em;color: black;border-radius: 0.25em;background-color: #f0f8ff;}#sk-container-id-39 input.sk-toggleable__control:checked~div.sk-toggleable__content {max-height: 200px;max-width: 100%;overflow: auto;}#sk-container-id-39 input.sk-toggleable__control:checked~label.sk-toggleable__label-arrow:before {content: \"▾\";}#sk-container-id-39 div.sk-estimator input.sk-toggleable__control:checked~label.sk-toggleable__label {background-color: #d4ebff;}#sk-container-id-39 div.sk-label input.sk-toggleable__control:checked~label.sk-toggleable__label {background-color: #d4ebff;}#sk-container-id-39 input.sk-hidden--visually {border: 0;clip: rect(1px 1px 1px 1px);clip: rect(1px, 1px, 1px, 1px);height: 1px;margin: -1px;overflow: hidden;padding: 0;position: absolute;width: 1px;}#sk-container-id-39 div.sk-estimator {font-family: monospace;background-color: #f0f8ff;border: 1px dotted black;border-radius: 0.25em;box-sizing: border-box;margin-bottom: 0.5em;}#sk-container-id-39 div.sk-estimator:hover {background-color: #d4ebff;}#sk-container-id-39 div.sk-parallel-item::after {content: \"\";width: 100%;border-bottom: 1px solid gray;flex-grow: 1;}#sk-container-id-39 div.sk-label:hover label.sk-toggleable__label {background-color: #d4ebff;}#sk-container-id-39 div.sk-serial::before {content: \"\";position: absolute;border-left: 1px solid gray;box-sizing: border-box;top: 0;bottom: 0;left: 50%;z-index: 0;}#sk-container-id-39 div.sk-serial {display: flex;flex-direction: column;align-items: center;background-color: white;padding-right: 0.2em;padding-left: 0.2em;position: relative;}#sk-container-id-39 div.sk-item {position: relative;z-index: 1;}#sk-container-id-39 div.sk-parallel {display: flex;align-items: stretch;justify-content: center;background-color: white;position: relative;}#sk-container-id-39 div.sk-item::before, #sk-container-id-39 div.sk-parallel-item::before {content: \"\";position: absolute;border-left: 1px solid gray;box-sizing: border-box;top: 0;bottom: 0;left: 50%;z-index: -1;}#sk-container-id-39 div.sk-parallel-item {display: flex;flex-direction: column;z-index: 1;position: relative;background-color: white;}#sk-container-id-39 div.sk-parallel-item:first-child::after {align-self: flex-end;width: 50%;}#sk-container-id-39 div.sk-parallel-item:last-child::after {align-self: flex-start;width: 50%;}#sk-container-id-39 div.sk-parallel-item:only-child::after {width: 0;}#sk-container-id-39 div.sk-dashed-wrapped {border: 1px dashed gray;margin: 0 0.4em 0.5em 0.4em;box-sizing: border-box;padding-bottom: 0.4em;background-color: white;}#sk-container-id-39 div.sk-label label {font-family: monospace;font-weight: bold;display: inline-block;line-height: 1.2em;}#sk-container-id-39 div.sk-label-container {text-align: center;}#sk-container-id-39 div.sk-container {/* jupyter's `normalize.less` sets `[hidden] { display: none; }` but bootstrap.min.css set `[hidden] { display: none !important; }` so we also need the `!important` here to be able to override the default hidden behavior on the sphinx rendered scikit-learn.org. See: https://github.com/scikit-learn/scikit-learn/issues/21755 */display: inline-block !important;position: relative;}#sk-container-id-39 div.sk-text-repr-fallback {display: none;}</style><div id=\"sk-container-id-39\" class=\"sk-top-container\"><div class=\"sk-text-repr-fallback\"><pre>Lasso(alpha=0.1)</pre><b>In a Jupyter environment, please rerun this cell to show the HTML representation or trust the notebook. <br />On GitHub, the HTML representation is unable to render, please try loading this page with nbviewer.org.</b></div><div class=\"sk-container\" hidden><div class=\"sk-item\"><div class=\"sk-estimator sk-toggleable\"><input class=\"sk-toggleable__control sk-hidden--visually\" id=\"sk-estimator-id-39\" type=\"checkbox\" checked><label for=\"sk-estimator-id-39\" class=\"sk-toggleable__label sk-toggleable__label-arrow\">Lasso</label><div class=\"sk-toggleable__content\"><pre>Lasso(alpha=0.1)</pre></div></div></div></div></div>"
      ],
      "text/plain": [
       "Lasso(alpha=0.1)"
      ]
     },
     "execution_count": 300,
     "metadata": {},
     "output_type": "execute_result"
    }
   ],
   "source": [
    "lasso_reg = Lasso(alpha=0.1)\n",
    "lasso_reg.fit(X, y)"
   ]
  },
  {
   "cell_type": "code",
   "execution_count": 315,
   "id": "ee5b601f",
   "metadata": {},
   "outputs": [
    {
     "data": {
      "text/html": [
       "<style>#sk-container-id-47 {color: black;background-color: white;}#sk-container-id-47 pre{padding: 0;}#sk-container-id-47 div.sk-toggleable {background-color: white;}#sk-container-id-47 label.sk-toggleable__label {cursor: pointer;display: block;width: 100%;margin-bottom: 0;padding: 0.3em;box-sizing: border-box;text-align: center;}#sk-container-id-47 label.sk-toggleable__label-arrow:before {content: \"▸\";float: left;margin-right: 0.25em;color: #696969;}#sk-container-id-47 label.sk-toggleable__label-arrow:hover:before {color: black;}#sk-container-id-47 div.sk-estimator:hover label.sk-toggleable__label-arrow:before {color: black;}#sk-container-id-47 div.sk-toggleable__content {max-height: 0;max-width: 0;overflow: hidden;text-align: left;background-color: #f0f8ff;}#sk-container-id-47 div.sk-toggleable__content pre {margin: 0.2em;color: black;border-radius: 0.25em;background-color: #f0f8ff;}#sk-container-id-47 input.sk-toggleable__control:checked~div.sk-toggleable__content {max-height: 200px;max-width: 100%;overflow: auto;}#sk-container-id-47 input.sk-toggleable__control:checked~label.sk-toggleable__label-arrow:before {content: \"▾\";}#sk-container-id-47 div.sk-estimator input.sk-toggleable__control:checked~label.sk-toggleable__label {background-color: #d4ebff;}#sk-container-id-47 div.sk-label input.sk-toggleable__control:checked~label.sk-toggleable__label {background-color: #d4ebff;}#sk-container-id-47 input.sk-hidden--visually {border: 0;clip: rect(1px 1px 1px 1px);clip: rect(1px, 1px, 1px, 1px);height: 1px;margin: -1px;overflow: hidden;padding: 0;position: absolute;width: 1px;}#sk-container-id-47 div.sk-estimator {font-family: monospace;background-color: #f0f8ff;border: 1px dotted black;border-radius: 0.25em;box-sizing: border-box;margin-bottom: 0.5em;}#sk-container-id-47 div.sk-estimator:hover {background-color: #d4ebff;}#sk-container-id-47 div.sk-parallel-item::after {content: \"\";width: 100%;border-bottom: 1px solid gray;flex-grow: 1;}#sk-container-id-47 div.sk-label:hover label.sk-toggleable__label {background-color: #d4ebff;}#sk-container-id-47 div.sk-serial::before {content: \"\";position: absolute;border-left: 1px solid gray;box-sizing: border-box;top: 0;bottom: 0;left: 50%;z-index: 0;}#sk-container-id-47 div.sk-serial {display: flex;flex-direction: column;align-items: center;background-color: white;padding-right: 0.2em;padding-left: 0.2em;position: relative;}#sk-container-id-47 div.sk-item {position: relative;z-index: 1;}#sk-container-id-47 div.sk-parallel {display: flex;align-items: stretch;justify-content: center;background-color: white;position: relative;}#sk-container-id-47 div.sk-item::before, #sk-container-id-47 div.sk-parallel-item::before {content: \"\";position: absolute;border-left: 1px solid gray;box-sizing: border-box;top: 0;bottom: 0;left: 50%;z-index: -1;}#sk-container-id-47 div.sk-parallel-item {display: flex;flex-direction: column;z-index: 1;position: relative;background-color: white;}#sk-container-id-47 div.sk-parallel-item:first-child::after {align-self: flex-end;width: 50%;}#sk-container-id-47 div.sk-parallel-item:last-child::after {align-self: flex-start;width: 50%;}#sk-container-id-47 div.sk-parallel-item:only-child::after {width: 0;}#sk-container-id-47 div.sk-dashed-wrapped {border: 1px dashed gray;margin: 0 0.4em 0.5em 0.4em;box-sizing: border-box;padding-bottom: 0.4em;background-color: white;}#sk-container-id-47 div.sk-label label {font-family: monospace;font-weight: bold;display: inline-block;line-height: 1.2em;}#sk-container-id-47 div.sk-label-container {text-align: center;}#sk-container-id-47 div.sk-container {/* jupyter's `normalize.less` sets `[hidden] { display: none; }` but bootstrap.min.css set `[hidden] { display: none !important; }` so we also need the `!important` here to be able to override the default hidden behavior on the sphinx rendered scikit-learn.org. See: https://github.com/scikit-learn/scikit-learn/issues/21755 */display: inline-block !important;position: relative;}#sk-container-id-47 div.sk-text-repr-fallback {display: none;}</style><div id=\"sk-container-id-47\" class=\"sk-top-container\"><div class=\"sk-text-repr-fallback\"><pre>Lasso(alpha=1e-10)</pre><b>In a Jupyter environment, please rerun this cell to show the HTML representation or trust the notebook. <br />On GitHub, the HTML representation is unable to render, please try loading this page with nbviewer.org.</b></div><div class=\"sk-container\" hidden><div class=\"sk-item\"><div class=\"sk-estimator sk-toggleable\"><input class=\"sk-toggleable__control sk-hidden--visually\" id=\"sk-estimator-id-47\" type=\"checkbox\" checked><label for=\"sk-estimator-id-47\" class=\"sk-toggleable__label sk-toggleable__label-arrow\">Lasso</label><div class=\"sk-toggleable__content\"><pre>Lasso(alpha=1e-10)</pre></div></div></div></div></div>"
      ],
      "text/plain": [
       "Lasso(alpha=1e-10)"
      ]
     },
     "execution_count": 315,
     "metadata": {},
     "output_type": "execute_result"
    }
   ],
   "source": [
    "# X = combine_data[top_features]\n",
    "x_train, x_test, y_train, y_test = train_test_split(X, y, test_size = 0.2, random_state=1336)\n",
    "lasso_reg = Lasso(alpha=1e-10)\n",
    "lasso_reg.fit(x_train, y_train)"
   ]
  },
  {
   "cell_type": "code",
   "execution_count": 316,
   "id": "7d5aba51",
   "metadata": {},
   "outputs": [
    {
     "name": "stdout",
     "output_type": "stream",
     "text": [
      "rmse is 15.779639381494523\n"
     ]
    }
   ],
   "source": [
    "y_pred = lasso_reg.predict(x_test)\n",
    "print(f'rmse is {np.sqrt(mean_squared_error(y_pred, y_test))}')"
   ]
  },
  {
   "cell_type": "code",
   "execution_count": 317,
   "id": "c4103204",
   "metadata": {},
   "outputs": [
    {
     "data": {
      "text/plain": [
       "0.1130799087126404"
      ]
     },
     "execution_count": 317,
     "metadata": {},
     "output_type": "execute_result"
    }
   ],
   "source": [
    "r2_score(y_test, y_pred)"
   ]
  },
  {
   "cell_type": "code",
   "execution_count": 319,
   "id": "63844b90",
   "metadata": {},
   "outputs": [],
   "source": [
    "from sklearn.preprocessing import StandardScaler\n",
    "scaler = StandardScaler()"
   ]
  },
  {
   "cell_type": "code",
   "execution_count": 320,
   "id": "b48afb5c",
   "metadata": {},
   "outputs": [
    {
     "name": "stderr",
     "output_type": "stream",
     "text": [
      "/var/folders/rj/xbh3qs3113570m39p4g31bth0000gp/T/ipykernel_81852/848353956.py:1: SettingWithCopyWarning: \n",
      "A value is trying to be set on a copy of a slice from a DataFrame.\n",
      "Try using .loc[row_indexer,col_indexer] = value instead\n",
      "\n",
      "See the caveats in the documentation: https://pandas.pydata.org/pandas-docs/stable/user_guide/indexing.html#returning-a-view-versus-a-copy\n",
      "  X_new[features] = scaler.fit_transform(X_new[features])\n"
     ]
    }
   ],
   "source": [
    "X_new[features] = scaler.fit_transform(X_new[features])"
   ]
  },
  {
   "cell_type": "code",
   "execution_count": 321,
   "id": "ae8ca234",
   "metadata": {},
   "outputs": [
    {
     "data": {
      "text/html": [
       "<div>\n",
       "<style scoped>\n",
       "    .dataframe tbody tr th:only-of-type {\n",
       "        vertical-align: middle;\n",
       "    }\n",
       "\n",
       "    .dataframe tbody tr th {\n",
       "        vertical-align: top;\n",
       "    }\n",
       "\n",
       "    .dataframe thead th {\n",
       "        text-align: right;\n",
       "    }\n",
       "</style>\n",
       "<table border=\"1\" class=\"dataframe\">\n",
       "  <thead>\n",
       "    <tr style=\"text-align: right;\">\n",
       "      <th></th>\n",
       "      <th>Height (With Shoes)</th>\n",
       "      <th>Wingspan</th>\n",
       "      <th>Standing reach</th>\n",
       "      <th>Vertical (Max)</th>\n",
       "      <th>Vertical (Max Reach)</th>\n",
       "      <th>Vertical (No Step)</th>\n",
       "      <th>Vertical (No Step Reach)</th>\n",
       "      <th>Weight</th>\n",
       "      <th>Body Fat</th>\n",
       "      <th>Hand (Length)</th>\n",
       "      <th>Hand (Width)</th>\n",
       "      <th>Bench</th>\n",
       "      <th>Agility</th>\n",
       "      <th>Sprint</th>\n",
       "    </tr>\n",
       "  </thead>\n",
       "  <tbody>\n",
       "    <tr>\n",
       "      <th>0</th>\n",
       "      <td>0.922806</td>\n",
       "      <td>0.183584</td>\n",
       "      <td>0.334080</td>\n",
       "      <td>0.042090</td>\n",
       "      <td>5.399584e-01</td>\n",
       "      <td>7.544187e-01</td>\n",
       "      <td>9.705654e-01</td>\n",
       "      <td>1.330789</td>\n",
       "      <td>0.452173</td>\n",
       "      <td>0.000000</td>\n",
       "      <td>0.000000</td>\n",
       "      <td>3.042151e+00</td>\n",
       "      <td>-6.872225e-01</td>\n",
       "      <td>-0.068741</td>\n",
       "    </tr>\n",
       "    <tr>\n",
       "      <th>1</th>\n",
       "      <td>-0.228702</td>\n",
       "      <td>-0.394991</td>\n",
       "      <td>0.027785</td>\n",
       "      <td>0.497761</td>\n",
       "      <td>5.399584e-01</td>\n",
       "      <td>2.267494e-01</td>\n",
       "      <td>2.525092e-01</td>\n",
       "      <td>-0.076090</td>\n",
       "      <td>-0.826990</td>\n",
       "      <td>0.000000</td>\n",
       "      <td>0.000000</td>\n",
       "      <td>-3.700712e-01</td>\n",
       "      <td>-2.892736e-01</td>\n",
       "      <td>-0.912033</td>\n",
       "    </tr>\n",
       "    <tr>\n",
       "      <th>2</th>\n",
       "      <td>-0.612538</td>\n",
       "      <td>-0.073561</td>\n",
       "      <td>-0.176412</td>\n",
       "      <td>-0.109800</td>\n",
       "      <td>-2.471599e-01</td>\n",
       "      <td>5.785289e-01</td>\n",
       "      <td>2.525092e-01</td>\n",
       "      <td>0.004303</td>\n",
       "      <td>-1.115833</td>\n",
       "      <td>0.000000</td>\n",
       "      <td>0.000000</td>\n",
       "      <td>-6.325498e-01</td>\n",
       "      <td>-2.494787e-01</td>\n",
       "      <td>-1.249350</td>\n",
       "    </tr>\n",
       "    <tr>\n",
       "      <th>3</th>\n",
       "      <td>0.769271</td>\n",
       "      <td>0.247870</td>\n",
       "      <td>0.538276</td>\n",
       "      <td>-0.413581</td>\n",
       "      <td>4.087720e-01</td>\n",
       "      <td>-8.285890e-01</td>\n",
       "      <td>1.328332e-01</td>\n",
       "      <td>0.768038</td>\n",
       "      <td>0.575963</td>\n",
       "      <td>0.000000</td>\n",
       "      <td>0.000000</td>\n",
       "      <td>1.992236e+00</td>\n",
       "      <td>-3.489659e-01</td>\n",
       "      <td>-0.153070</td>\n",
       "    </tr>\n",
       "    <tr>\n",
       "      <th>4</th>\n",
       "      <td>0.999573</td>\n",
       "      <td>1.019302</td>\n",
       "      <td>1.252965</td>\n",
       "      <td>-0.717362</td>\n",
       "      <td>1.064704e+00</td>\n",
       "      <td>-4.768095e-01</td>\n",
       "      <td>1.209917e+00</td>\n",
       "      <td>0.526858</td>\n",
       "      <td>-0.785727</td>\n",
       "      <td>0.000000</td>\n",
       "      <td>0.000000</td>\n",
       "      <td>-1.419986e+00</td>\n",
       "      <td>-2.494787e-01</td>\n",
       "      <td>0.521563</td>\n",
       "    </tr>\n",
       "    <tr>\n",
       "      <th>...</th>\n",
       "      <td>...</td>\n",
       "      <td>...</td>\n",
       "      <td>...</td>\n",
       "      <td>...</td>\n",
       "      <td>...</td>\n",
       "      <td>...</td>\n",
       "      <td>...</td>\n",
       "      <td>...</td>\n",
       "      <td>...</td>\n",
       "      <td>...</td>\n",
       "      <td>...</td>\n",
       "      <td>...</td>\n",
       "      <td>...</td>\n",
       "      <td>...</td>\n",
       "    </tr>\n",
       "    <tr>\n",
       "      <th>489</th>\n",
       "      <td>-1.380210</td>\n",
       "      <td>-1.680712</td>\n",
       "      <td>-1.401592</td>\n",
       "      <td>-0.565471</td>\n",
       "      <td>-2.214955e+00</td>\n",
       "      <td>-6.526993e-01</td>\n",
       "      <td>-2.021335e+00</td>\n",
       "      <td>-1.603559</td>\n",
       "      <td>-0.084250</td>\n",
       "      <td>-1.112046</td>\n",
       "      <td>-0.936237</td>\n",
       "      <td>-4.662556e-16</td>\n",
       "      <td>-5.877353e-01</td>\n",
       "      <td>-0.827704</td>\n",
       "    </tr>\n",
       "    <tr>\n",
       "      <th>490</th>\n",
       "      <td>-0.382237</td>\n",
       "      <td>-0.394991</td>\n",
       "      <td>-0.176412</td>\n",
       "      <td>0.000000</td>\n",
       "      <td>7.457082e-15</td>\n",
       "      <td>2.499544e-15</td>\n",
       "      <td>-6.802795e-15</td>\n",
       "      <td>-1.563363</td>\n",
       "      <td>0.493436</td>\n",
       "      <td>-1.112046</td>\n",
       "      <td>-0.561962</td>\n",
       "      <td>-4.662556e-16</td>\n",
       "      <td>-3.534497e-15</td>\n",
       "      <td>0.000000</td>\n",
       "    </tr>\n",
       "    <tr>\n",
       "      <th>491</th>\n",
       "      <td>-1.456977</td>\n",
       "      <td>-0.330705</td>\n",
       "      <td>-0.789002</td>\n",
       "      <td>0.042090</td>\n",
       "      <td>-9.030917e-01</td>\n",
       "      <td>1.106198e+00</td>\n",
       "      <td>-1.065189e-01</td>\n",
       "      <td>-0.920218</td>\n",
       "      <td>-0.290567</td>\n",
       "      <td>-0.543593</td>\n",
       "      <td>-0.936237</td>\n",
       "      <td>-4.662556e-16</td>\n",
       "      <td>-1.101966e-01</td>\n",
       "      <td>-1.165020</td>\n",
       "    </tr>\n",
       "    <tr>\n",
       "      <th>492</th>\n",
       "      <td>0.538970</td>\n",
       "      <td>0.055011</td>\n",
       "      <td>0.334080</td>\n",
       "      <td>0.000000</td>\n",
       "      <td>7.457082e-15</td>\n",
       "      <td>2.499544e-15</td>\n",
       "      <td>-6.802795e-15</td>\n",
       "      <td>0.687644</td>\n",
       "      <td>0.699753</td>\n",
       "      <td>0.024859</td>\n",
       "      <td>0.935140</td>\n",
       "      <td>-4.662556e-16</td>\n",
       "      <td>-3.534497e-15</td>\n",
       "      <td>0.000000</td>\n",
       "    </tr>\n",
       "    <tr>\n",
       "      <th>493</th>\n",
       "      <td>-1.226676</td>\n",
       "      <td>-0.844993</td>\n",
       "      <td>-0.891101</td>\n",
       "      <td>-0.261691</td>\n",
       "      <td>-1.296651e+00</td>\n",
       "      <td>-8.285890e-01</td>\n",
       "      <td>-1.542631e+00</td>\n",
       "      <td>-1.000611</td>\n",
       "      <td>-0.620673</td>\n",
       "      <td>0.024859</td>\n",
       "      <td>-0.187687</td>\n",
       "      <td>-4.662556e-16</td>\n",
       "      <td>-1.741787e+00</td>\n",
       "      <td>-0.827704</td>\n",
       "    </tr>\n",
       "  </tbody>\n",
       "</table>\n",
       "<p>384 rows × 14 columns</p>\n",
       "</div>"
      ],
      "text/plain": [
       "     Height (With Shoes)  Wingspan  Standing reach  Vertical (Max)  \\\n",
       "0               0.922806  0.183584        0.334080        0.042090   \n",
       "1              -0.228702 -0.394991        0.027785        0.497761   \n",
       "2              -0.612538 -0.073561       -0.176412       -0.109800   \n",
       "3               0.769271  0.247870        0.538276       -0.413581   \n",
       "4               0.999573  1.019302        1.252965       -0.717362   \n",
       "..                   ...       ...             ...             ...   \n",
       "489            -1.380210 -1.680712       -1.401592       -0.565471   \n",
       "490            -0.382237 -0.394991       -0.176412        0.000000   \n",
       "491            -1.456977 -0.330705       -0.789002        0.042090   \n",
       "492             0.538970  0.055011        0.334080        0.000000   \n",
       "493            -1.226676 -0.844993       -0.891101       -0.261691   \n",
       "\n",
       "     Vertical (Max Reach)  Vertical (No Step)  Vertical (No Step Reach)  \\\n",
       "0            5.399584e-01        7.544187e-01              9.705654e-01   \n",
       "1            5.399584e-01        2.267494e-01              2.525092e-01   \n",
       "2           -2.471599e-01        5.785289e-01              2.525092e-01   \n",
       "3            4.087720e-01       -8.285890e-01              1.328332e-01   \n",
       "4            1.064704e+00       -4.768095e-01              1.209917e+00   \n",
       "..                    ...                 ...                       ...   \n",
       "489         -2.214955e+00       -6.526993e-01             -2.021335e+00   \n",
       "490          7.457082e-15        2.499544e-15             -6.802795e-15   \n",
       "491         -9.030917e-01        1.106198e+00             -1.065189e-01   \n",
       "492          7.457082e-15        2.499544e-15             -6.802795e-15   \n",
       "493         -1.296651e+00       -8.285890e-01             -1.542631e+00   \n",
       "\n",
       "       Weight  Body Fat  Hand (Length)  Hand (Width)         Bench  \\\n",
       "0    1.330789  0.452173       0.000000      0.000000  3.042151e+00   \n",
       "1   -0.076090 -0.826990       0.000000      0.000000 -3.700712e-01   \n",
       "2    0.004303 -1.115833       0.000000      0.000000 -6.325498e-01   \n",
       "3    0.768038  0.575963       0.000000      0.000000  1.992236e+00   \n",
       "4    0.526858 -0.785727       0.000000      0.000000 -1.419986e+00   \n",
       "..        ...       ...            ...           ...           ...   \n",
       "489 -1.603559 -0.084250      -1.112046     -0.936237 -4.662556e-16   \n",
       "490 -1.563363  0.493436      -1.112046     -0.561962 -4.662556e-16   \n",
       "491 -0.920218 -0.290567      -0.543593     -0.936237 -4.662556e-16   \n",
       "492  0.687644  0.699753       0.024859      0.935140 -4.662556e-16   \n",
       "493 -1.000611 -0.620673       0.024859     -0.187687 -4.662556e-16   \n",
       "\n",
       "          Agility    Sprint  \n",
       "0   -6.872225e-01 -0.068741  \n",
       "1   -2.892736e-01 -0.912033  \n",
       "2   -2.494787e-01 -1.249350  \n",
       "3   -3.489659e-01 -0.153070  \n",
       "4   -2.494787e-01  0.521563  \n",
       "..            ...       ...  \n",
       "489 -5.877353e-01 -0.827704  \n",
       "490 -3.534497e-15  0.000000  \n",
       "491 -1.101966e-01 -1.165020  \n",
       "492 -3.534497e-15  0.000000  \n",
       "493 -1.741787e+00 -0.827704  \n",
       "\n",
       "[384 rows x 14 columns]"
      ]
     },
     "execution_count": 321,
     "metadata": {},
     "output_type": "execute_result"
    }
   ],
   "source": [
    "X_new"
   ]
  },
  {
   "cell_type": "code",
   "execution_count": 322,
   "id": "8353f899",
   "metadata": {},
   "outputs": [
    {
     "name": "stderr",
     "output_type": "stream",
     "text": [
      "/usr/local/lib/python3.10/site-packages/sklearn/linear_model/_coordinate_descent.py:631: ConvergenceWarning: Objective did not converge. You might want to increase the number of iterations, check the scale of the features or consider increasing regularisation. Duality gap: 3.338e+04, tolerance: 7.498e+00\n",
      "  model = cd_fast.enet_coordinate_descent(\n"
     ]
    },
    {
     "data": {
      "text/html": [
       "<style>#sk-container-id-48 {color: black;background-color: white;}#sk-container-id-48 pre{padding: 0;}#sk-container-id-48 div.sk-toggleable {background-color: white;}#sk-container-id-48 label.sk-toggleable__label {cursor: pointer;display: block;width: 100%;margin-bottom: 0;padding: 0.3em;box-sizing: border-box;text-align: center;}#sk-container-id-48 label.sk-toggleable__label-arrow:before {content: \"▸\";float: left;margin-right: 0.25em;color: #696969;}#sk-container-id-48 label.sk-toggleable__label-arrow:hover:before {color: black;}#sk-container-id-48 div.sk-estimator:hover label.sk-toggleable__label-arrow:before {color: black;}#sk-container-id-48 div.sk-toggleable__content {max-height: 0;max-width: 0;overflow: hidden;text-align: left;background-color: #f0f8ff;}#sk-container-id-48 div.sk-toggleable__content pre {margin: 0.2em;color: black;border-radius: 0.25em;background-color: #f0f8ff;}#sk-container-id-48 input.sk-toggleable__control:checked~div.sk-toggleable__content {max-height: 200px;max-width: 100%;overflow: auto;}#sk-container-id-48 input.sk-toggleable__control:checked~label.sk-toggleable__label-arrow:before {content: \"▾\";}#sk-container-id-48 div.sk-estimator input.sk-toggleable__control:checked~label.sk-toggleable__label {background-color: #d4ebff;}#sk-container-id-48 div.sk-label input.sk-toggleable__control:checked~label.sk-toggleable__label {background-color: #d4ebff;}#sk-container-id-48 input.sk-hidden--visually {border: 0;clip: rect(1px 1px 1px 1px);clip: rect(1px, 1px, 1px, 1px);height: 1px;margin: -1px;overflow: hidden;padding: 0;position: absolute;width: 1px;}#sk-container-id-48 div.sk-estimator {font-family: monospace;background-color: #f0f8ff;border: 1px dotted black;border-radius: 0.25em;box-sizing: border-box;margin-bottom: 0.5em;}#sk-container-id-48 div.sk-estimator:hover {background-color: #d4ebff;}#sk-container-id-48 div.sk-parallel-item::after {content: \"\";width: 100%;border-bottom: 1px solid gray;flex-grow: 1;}#sk-container-id-48 div.sk-label:hover label.sk-toggleable__label {background-color: #d4ebff;}#sk-container-id-48 div.sk-serial::before {content: \"\";position: absolute;border-left: 1px solid gray;box-sizing: border-box;top: 0;bottom: 0;left: 50%;z-index: 0;}#sk-container-id-48 div.sk-serial {display: flex;flex-direction: column;align-items: center;background-color: white;padding-right: 0.2em;padding-left: 0.2em;position: relative;}#sk-container-id-48 div.sk-item {position: relative;z-index: 1;}#sk-container-id-48 div.sk-parallel {display: flex;align-items: stretch;justify-content: center;background-color: white;position: relative;}#sk-container-id-48 div.sk-item::before, #sk-container-id-48 div.sk-parallel-item::before {content: \"\";position: absolute;border-left: 1px solid gray;box-sizing: border-box;top: 0;bottom: 0;left: 50%;z-index: -1;}#sk-container-id-48 div.sk-parallel-item {display: flex;flex-direction: column;z-index: 1;position: relative;background-color: white;}#sk-container-id-48 div.sk-parallel-item:first-child::after {align-self: flex-end;width: 50%;}#sk-container-id-48 div.sk-parallel-item:last-child::after {align-self: flex-start;width: 50%;}#sk-container-id-48 div.sk-parallel-item:only-child::after {width: 0;}#sk-container-id-48 div.sk-dashed-wrapped {border: 1px dashed gray;margin: 0 0.4em 0.5em 0.4em;box-sizing: border-box;padding-bottom: 0.4em;background-color: white;}#sk-container-id-48 div.sk-label label {font-family: monospace;font-weight: bold;display: inline-block;line-height: 1.2em;}#sk-container-id-48 div.sk-label-container {text-align: center;}#sk-container-id-48 div.sk-container {/* jupyter's `normalize.less` sets `[hidden] { display: none; }` but bootstrap.min.css set `[hidden] { display: none !important; }` so we also need the `!important` here to be able to override the default hidden behavior on the sphinx rendered scikit-learn.org. See: https://github.com/scikit-learn/scikit-learn/issues/21755 */display: inline-block !important;position: relative;}#sk-container-id-48 div.sk-text-repr-fallback {display: none;}</style><div id=\"sk-container-id-48\" class=\"sk-top-container\"><div class=\"sk-text-repr-fallback\"><pre>Lasso(alpha=1e-10)</pre><b>In a Jupyter environment, please rerun this cell to show the HTML representation or trust the notebook. <br />On GitHub, the HTML representation is unable to render, please try loading this page with nbviewer.org.</b></div><div class=\"sk-container\" hidden><div class=\"sk-item\"><div class=\"sk-estimator sk-toggleable\"><input class=\"sk-toggleable__control sk-hidden--visually\" id=\"sk-estimator-id-48\" type=\"checkbox\" checked><label for=\"sk-estimator-id-48\" class=\"sk-toggleable__label sk-toggleable__label-arrow\">Lasso</label><div class=\"sk-toggleable__content\"><pre>Lasso(alpha=1e-10)</pre></div></div></div></div></div>"
      ],
      "text/plain": [
       "Lasso(alpha=1e-10)"
      ]
     },
     "execution_count": 322,
     "metadata": {},
     "output_type": "execute_result"
    }
   ],
   "source": [
    "x_train, x_test, y_train, y_test = train_test_split(X_new, y_new, test_size = 0.2, random_state=1336)\n",
    "lasso_reg = Lasso(alpha=1e-10)\n",
    "lasso_reg.fit(x_train, y_train)"
   ]
  },
  {
   "cell_type": "code",
   "execution_count": 323,
   "id": "0a8ab2df",
   "metadata": {},
   "outputs": [
    {
     "name": "stdout",
     "output_type": "stream",
     "text": [
      "rmse is 15.677846225024552\n"
     ]
    }
   ],
   "source": [
    "y_pred = lasso_reg.predict(x_test)\n",
    "print(f'rmse is {np.sqrt(mean_squared_error(y_pred, y_test))}')"
   ]
  },
  {
   "cell_type": "code",
   "execution_count": 345,
   "id": "4a444885",
   "metadata": {},
   "outputs": [
    {
     "data": {
      "text/html": [
       "<style>#sk-container-id-59 {color: black;background-color: white;}#sk-container-id-59 pre{padding: 0;}#sk-container-id-59 div.sk-toggleable {background-color: white;}#sk-container-id-59 label.sk-toggleable__label {cursor: pointer;display: block;width: 100%;margin-bottom: 0;padding: 0.3em;box-sizing: border-box;text-align: center;}#sk-container-id-59 label.sk-toggleable__label-arrow:before {content: \"▸\";float: left;margin-right: 0.25em;color: #696969;}#sk-container-id-59 label.sk-toggleable__label-arrow:hover:before {color: black;}#sk-container-id-59 div.sk-estimator:hover label.sk-toggleable__label-arrow:before {color: black;}#sk-container-id-59 div.sk-toggleable__content {max-height: 0;max-width: 0;overflow: hidden;text-align: left;background-color: #f0f8ff;}#sk-container-id-59 div.sk-toggleable__content pre {margin: 0.2em;color: black;border-radius: 0.25em;background-color: #f0f8ff;}#sk-container-id-59 input.sk-toggleable__control:checked~div.sk-toggleable__content {max-height: 200px;max-width: 100%;overflow: auto;}#sk-container-id-59 input.sk-toggleable__control:checked~label.sk-toggleable__label-arrow:before {content: \"▾\";}#sk-container-id-59 div.sk-estimator input.sk-toggleable__control:checked~label.sk-toggleable__label {background-color: #d4ebff;}#sk-container-id-59 div.sk-label input.sk-toggleable__control:checked~label.sk-toggleable__label {background-color: #d4ebff;}#sk-container-id-59 input.sk-hidden--visually {border: 0;clip: rect(1px 1px 1px 1px);clip: rect(1px, 1px, 1px, 1px);height: 1px;margin: -1px;overflow: hidden;padding: 0;position: absolute;width: 1px;}#sk-container-id-59 div.sk-estimator {font-family: monospace;background-color: #f0f8ff;border: 1px dotted black;border-radius: 0.25em;box-sizing: border-box;margin-bottom: 0.5em;}#sk-container-id-59 div.sk-estimator:hover {background-color: #d4ebff;}#sk-container-id-59 div.sk-parallel-item::after {content: \"\";width: 100%;border-bottom: 1px solid gray;flex-grow: 1;}#sk-container-id-59 div.sk-label:hover label.sk-toggleable__label {background-color: #d4ebff;}#sk-container-id-59 div.sk-serial::before {content: \"\";position: absolute;border-left: 1px solid gray;box-sizing: border-box;top: 0;bottom: 0;left: 50%;z-index: 0;}#sk-container-id-59 div.sk-serial {display: flex;flex-direction: column;align-items: center;background-color: white;padding-right: 0.2em;padding-left: 0.2em;position: relative;}#sk-container-id-59 div.sk-item {position: relative;z-index: 1;}#sk-container-id-59 div.sk-parallel {display: flex;align-items: stretch;justify-content: center;background-color: white;position: relative;}#sk-container-id-59 div.sk-item::before, #sk-container-id-59 div.sk-parallel-item::before {content: \"\";position: absolute;border-left: 1px solid gray;box-sizing: border-box;top: 0;bottom: 0;left: 50%;z-index: -1;}#sk-container-id-59 div.sk-parallel-item {display: flex;flex-direction: column;z-index: 1;position: relative;background-color: white;}#sk-container-id-59 div.sk-parallel-item:first-child::after {align-self: flex-end;width: 50%;}#sk-container-id-59 div.sk-parallel-item:last-child::after {align-self: flex-start;width: 50%;}#sk-container-id-59 div.sk-parallel-item:only-child::after {width: 0;}#sk-container-id-59 div.sk-dashed-wrapped {border: 1px dashed gray;margin: 0 0.4em 0.5em 0.4em;box-sizing: border-box;padding-bottom: 0.4em;background-color: white;}#sk-container-id-59 div.sk-label label {font-family: monospace;font-weight: bold;display: inline-block;line-height: 1.2em;}#sk-container-id-59 div.sk-label-container {text-align: center;}#sk-container-id-59 div.sk-container {/* jupyter's `normalize.less` sets `[hidden] { display: none; }` but bootstrap.min.css set `[hidden] { display: none !important; }` so we also need the `!important` here to be able to override the default hidden behavior on the sphinx rendered scikit-learn.org. See: https://github.com/scikit-learn/scikit-learn/issues/21755 */display: inline-block !important;position: relative;}#sk-container-id-59 div.sk-text-repr-fallback {display: none;}</style><div id=\"sk-container-id-59\" class=\"sk-top-container\"><div class=\"sk-text-repr-fallback\"><pre>SGDRegressor(eta0=0.001, max_iter=100000, penalty=None)</pre><b>In a Jupyter environment, please rerun this cell to show the HTML representation or trust the notebook. <br />On GitHub, the HTML representation is unable to render, please try loading this page with nbviewer.org.</b></div><div class=\"sk-container\" hidden><div class=\"sk-item\"><div class=\"sk-estimator sk-toggleable\"><input class=\"sk-toggleable__control sk-hidden--visually\" id=\"sk-estimator-id-59\" type=\"checkbox\" checked><label for=\"sk-estimator-id-59\" class=\"sk-toggleable__label sk-toggleable__label-arrow\">SGDRegressor</label><div class=\"sk-toggleable__content\"><pre>SGDRegressor(eta0=0.001, max_iter=100000, penalty=None)</pre></div></div></div></div></div>"
      ],
      "text/plain": [
       "SGDRegressor(eta0=0.001, max_iter=100000, penalty=None)"
      ]
     },
     "execution_count": 345,
     "metadata": {},
     "output_type": "execute_result"
    }
   ],
   "source": [
    "from sklearn.linear_model import SGDRegressor\n",
    "sgd_reg = SGDRegressor(max_iter=100000, tol=1e-3, penalty=None, eta0=1e-3)\n",
    "sgd_reg.fit(x_train, y_train.ravel())"
   ]
  },
  {
   "cell_type": "code",
   "execution_count": 348,
   "id": "f47e1c39",
   "metadata": {},
   "outputs": [
    {
     "name": "stdout",
     "output_type": "stream",
     "text": [
      "rmse is 15.600252378338205\n",
      "0.1331307574675441\n"
     ]
    }
   ],
   "source": [
    "y_pred = sgd_reg.predict(x_test)\n",
    "print(f'rmse is {np.sqrt(mean_squared_error(y_pred, y_test))}')\n",
    "print(r2_score(y_test, y_pred))"
   ]
  },
  {
   "cell_type": "code",
   "execution_count": 384,
   "id": "c61b1014",
   "metadata": {},
   "outputs": [],
   "source": [
    "X = combine_data[top_features]\n",
    "from sklearn.preprocessing import PolynomialFeatures\n",
    "poly_features = PolynomialFeatures(degree=5, include_bias=False)\n",
    "X_poly = poly_features.fit_transform(X)"
   ]
  },
  {
   "cell_type": "code",
   "execution_count": 385,
   "id": "31279e86",
   "metadata": {},
   "outputs": [
    {
     "data": {
      "text/plain": [
       "(384, 251)"
      ]
     },
     "execution_count": 385,
     "metadata": {},
     "output_type": "execute_result"
    }
   ],
   "source": [
    "X_poly.shape"
   ]
  },
  {
   "cell_type": "code",
   "execution_count": 386,
   "id": "3c096640",
   "metadata": {},
   "outputs": [
    {
     "data": {
      "text/plain": [
       "(384,)"
      ]
     },
     "execution_count": 386,
     "metadata": {},
     "output_type": "execute_result"
    }
   ],
   "source": [
    "y.shape"
   ]
  },
  {
   "cell_type": "code",
   "execution_count": 391,
   "id": "e80e760b",
   "metadata": {},
   "outputs": [
    {
     "name": "stdout",
     "output_type": "stream",
     "text": [
      "rmse is 15.622164578968658\n"
     ]
    },
    {
     "name": "stderr",
     "output_type": "stream",
     "text": [
      "/usr/local/lib/python3.10/site-packages/sklearn/linear_model/_coordinate_descent.py:631: ConvergenceWarning: Objective did not converge. You might want to increase the number of iterations, check the scale of the features or consider increasing regularisation. Duality gap: 3.329e+04, tolerance: 7.498e+00\n",
      "  model = cd_fast.enet_coordinate_descent(\n"
     ]
    },
    {
     "data": {
      "text/plain": [
       "0.13069382855746559"
      ]
     },
     "execution_count": 391,
     "metadata": {},
     "output_type": "execute_result"
    }
   ],
   "source": [
    "x_train, x_test, y_train, y_test = train_test_split(X_poly, y, test_size = 0.2, random_state=1336)\n",
    "lasso_reg = Lasso(alpha=0.000000001)\n",
    "lasso_reg.fit(x_train, y_train)\n",
    "\n",
    "y_pred = lasso_reg.predict(x_test)\n",
    "print(f'rmse is {np.sqrt(mean_squared_error(y_pred, y_test))}')\n",
    "\n",
    "r2_score(y_test, y_pred)"
   ]
  },
  {
   "cell_type": "code",
   "execution_count": 392,
   "id": "421cab68",
   "metadata": {},
   "outputs": [],
   "source": [
    "X_new = combine_data[features]"
   ]
  },
  {
   "cell_type": "code",
   "execution_count": 393,
   "id": "9c59114c",
   "metadata": {},
   "outputs": [
    {
     "data": {
      "text/html": [
       "<div>\n",
       "<style scoped>\n",
       "    .dataframe tbody tr th:only-of-type {\n",
       "        vertical-align: middle;\n",
       "    }\n",
       "\n",
       "    .dataframe tbody tr th {\n",
       "        vertical-align: top;\n",
       "    }\n",
       "\n",
       "    .dataframe thead th {\n",
       "        text-align: right;\n",
       "    }\n",
       "</style>\n",
       "<table border=\"1\" class=\"dataframe\">\n",
       "  <thead>\n",
       "    <tr style=\"text-align: right;\">\n",
       "      <th></th>\n",
       "      <th>Height (With Shoes)</th>\n",
       "      <th>Wingspan</th>\n",
       "      <th>Standing reach</th>\n",
       "      <th>Vertical (Max)</th>\n",
       "      <th>Vertical (Max Reach)</th>\n",
       "      <th>Vertical (No Step)</th>\n",
       "      <th>Vertical (No Step Reach)</th>\n",
       "      <th>Weight</th>\n",
       "      <th>Body Fat</th>\n",
       "      <th>Hand (Length)</th>\n",
       "      <th>Hand (Width)</th>\n",
       "      <th>Bench</th>\n",
       "      <th>Agility</th>\n",
       "      <th>Sprint</th>\n",
       "    </tr>\n",
       "  </thead>\n",
       "  <tbody>\n",
       "    <tr>\n",
       "      <th>0</th>\n",
       "      <td>82.00</td>\n",
       "      <td>83.25</td>\n",
       "      <td>105.0</td>\n",
       "      <td>35.500000</td>\n",
       "      <td>140.500000</td>\n",
       "      <td>32.000000</td>\n",
       "      <td>137.00000</td>\n",
       "      <td>248.0</td>\n",
       "      <td>8.2</td>\n",
       "      <td>8.739067</td>\n",
       "      <td>9.375367</td>\n",
       "      <td>22.00000</td>\n",
       "      <td>10.950000</td>\n",
       "      <td>3.280000</td>\n",
       "    </tr>\n",
       "    <tr>\n",
       "      <th>1</th>\n",
       "      <td>78.25</td>\n",
       "      <td>81.00</td>\n",
       "      <td>103.5</td>\n",
       "      <td>37.000000</td>\n",
       "      <td>140.500000</td>\n",
       "      <td>30.500000</td>\n",
       "      <td>134.00000</td>\n",
       "      <td>213.0</td>\n",
       "      <td>5.1</td>\n",
       "      <td>8.739067</td>\n",
       "      <td>9.375367</td>\n",
       "      <td>9.00000</td>\n",
       "      <td>11.150000</td>\n",
       "      <td>3.180000</td>\n",
       "    </tr>\n",
       "    <tr>\n",
       "      <th>2</th>\n",
       "      <td>77.00</td>\n",
       "      <td>82.25</td>\n",
       "      <td>102.5</td>\n",
       "      <td>35.000000</td>\n",
       "      <td>137.500000</td>\n",
       "      <td>31.500000</td>\n",
       "      <td>134.00000</td>\n",
       "      <td>215.0</td>\n",
       "      <td>4.4</td>\n",
       "      <td>8.739067</td>\n",
       "      <td>9.375367</td>\n",
       "      <td>8.00000</td>\n",
       "      <td>11.170000</td>\n",
       "      <td>3.140000</td>\n",
       "    </tr>\n",
       "    <tr>\n",
       "      <th>3</th>\n",
       "      <td>81.50</td>\n",
       "      <td>83.50</td>\n",
       "      <td>106.0</td>\n",
       "      <td>34.000000</td>\n",
       "      <td>140.000000</td>\n",
       "      <td>27.500000</td>\n",
       "      <td>133.50000</td>\n",
       "      <td>234.0</td>\n",
       "      <td>8.5</td>\n",
       "      <td>8.739067</td>\n",
       "      <td>9.375367</td>\n",
       "      <td>18.00000</td>\n",
       "      <td>11.120000</td>\n",
       "      <td>3.270000</td>\n",
       "    </tr>\n",
       "    <tr>\n",
       "      <th>4</th>\n",
       "      <td>82.25</td>\n",
       "      <td>86.50</td>\n",
       "      <td>109.5</td>\n",
       "      <td>33.000000</td>\n",
       "      <td>142.500000</td>\n",
       "      <td>28.500000</td>\n",
       "      <td>138.00000</td>\n",
       "      <td>228.0</td>\n",
       "      <td>5.2</td>\n",
       "      <td>8.739067</td>\n",
       "      <td>9.375367</td>\n",
       "      <td>5.00000</td>\n",
       "      <td>11.170000</td>\n",
       "      <td>3.350000</td>\n",
       "    </tr>\n",
       "    <tr>\n",
       "      <th>...</th>\n",
       "      <td>...</td>\n",
       "      <td>...</td>\n",
       "      <td>...</td>\n",
       "      <td>...</td>\n",
       "      <td>...</td>\n",
       "      <td>...</td>\n",
       "      <td>...</td>\n",
       "      <td>...</td>\n",
       "      <td>...</td>\n",
       "      <td>...</td>\n",
       "      <td>...</td>\n",
       "      <td>...</td>\n",
       "      <td>...</td>\n",
       "      <td>...</td>\n",
       "    </tr>\n",
       "    <tr>\n",
       "      <th>489</th>\n",
       "      <td>74.50</td>\n",
       "      <td>76.00</td>\n",
       "      <td>96.5</td>\n",
       "      <td>33.500000</td>\n",
       "      <td>130.000000</td>\n",
       "      <td>28.000000</td>\n",
       "      <td>124.50000</td>\n",
       "      <td>175.0</td>\n",
       "      <td>6.9</td>\n",
       "      <td>8.250000</td>\n",
       "      <td>8.750000</td>\n",
       "      <td>10.40991</td>\n",
       "      <td>11.000000</td>\n",
       "      <td>3.190000</td>\n",
       "    </tr>\n",
       "    <tr>\n",
       "      <th>490</th>\n",
       "      <td>77.75</td>\n",
       "      <td>81.00</td>\n",
       "      <td>102.5</td>\n",
       "      <td>35.361446</td>\n",
       "      <td>138.442018</td>\n",
       "      <td>29.855422</td>\n",
       "      <td>132.94503</td>\n",
       "      <td>176.0</td>\n",
       "      <td>8.3</td>\n",
       "      <td>8.250000</td>\n",
       "      <td>9.000000</td>\n",
       "      <td>10.40991</td>\n",
       "      <td>11.295382</td>\n",
       "      <td>3.288152</td>\n",
       "    </tr>\n",
       "    <tr>\n",
       "      <th>491</th>\n",
       "      <td>74.25</td>\n",
       "      <td>81.25</td>\n",
       "      <td>99.5</td>\n",
       "      <td>35.500000</td>\n",
       "      <td>135.000000</td>\n",
       "      <td>33.000000</td>\n",
       "      <td>132.50000</td>\n",
       "      <td>192.0</td>\n",
       "      <td>6.4</td>\n",
       "      <td>8.500000</td>\n",
       "      <td>8.750000</td>\n",
       "      <td>10.40991</td>\n",
       "      <td>11.240000</td>\n",
       "      <td>3.150000</td>\n",
       "    </tr>\n",
       "    <tr>\n",
       "      <th>492</th>\n",
       "      <td>80.75</td>\n",
       "      <td>82.75</td>\n",
       "      <td>105.0</td>\n",
       "      <td>35.361446</td>\n",
       "      <td>138.442018</td>\n",
       "      <td>29.855422</td>\n",
       "      <td>132.94503</td>\n",
       "      <td>232.0</td>\n",
       "      <td>8.8</td>\n",
       "      <td>8.750000</td>\n",
       "      <td>10.000000</td>\n",
       "      <td>10.40991</td>\n",
       "      <td>11.295382</td>\n",
       "      <td>3.288152</td>\n",
       "    </tr>\n",
       "    <tr>\n",
       "      <th>493</th>\n",
       "      <td>75.00</td>\n",
       "      <td>79.25</td>\n",
       "      <td>99.0</td>\n",
       "      <td>34.500000</td>\n",
       "      <td>133.500000</td>\n",
       "      <td>27.500000</td>\n",
       "      <td>126.50000</td>\n",
       "      <td>190.0</td>\n",
       "      <td>5.6</td>\n",
       "      <td>8.750000</td>\n",
       "      <td>9.250000</td>\n",
       "      <td>10.40991</td>\n",
       "      <td>10.420000</td>\n",
       "      <td>3.190000</td>\n",
       "    </tr>\n",
       "  </tbody>\n",
       "</table>\n",
       "<p>384 rows × 14 columns</p>\n",
       "</div>"
      ],
      "text/plain": [
       "     Height (With Shoes)  Wingspan  Standing reach  Vertical (Max)  \\\n",
       "0                  82.00     83.25           105.0       35.500000   \n",
       "1                  78.25     81.00           103.5       37.000000   \n",
       "2                  77.00     82.25           102.5       35.000000   \n",
       "3                  81.50     83.50           106.0       34.000000   \n",
       "4                  82.25     86.50           109.5       33.000000   \n",
       "..                   ...       ...             ...             ...   \n",
       "489                74.50     76.00            96.5       33.500000   \n",
       "490                77.75     81.00           102.5       35.361446   \n",
       "491                74.25     81.25            99.5       35.500000   \n",
       "492                80.75     82.75           105.0       35.361446   \n",
       "493                75.00     79.25            99.0       34.500000   \n",
       "\n",
       "     Vertical (Max Reach)  Vertical (No Step)  Vertical (No Step Reach)  \\\n",
       "0              140.500000           32.000000                 137.00000   \n",
       "1              140.500000           30.500000                 134.00000   \n",
       "2              137.500000           31.500000                 134.00000   \n",
       "3              140.000000           27.500000                 133.50000   \n",
       "4              142.500000           28.500000                 138.00000   \n",
       "..                    ...                 ...                       ...   \n",
       "489            130.000000           28.000000                 124.50000   \n",
       "490            138.442018           29.855422                 132.94503   \n",
       "491            135.000000           33.000000                 132.50000   \n",
       "492            138.442018           29.855422                 132.94503   \n",
       "493            133.500000           27.500000                 126.50000   \n",
       "\n",
       "     Weight  Body Fat  Hand (Length)  Hand (Width)     Bench    Agility  \\\n",
       "0     248.0       8.2       8.739067      9.375367  22.00000  10.950000   \n",
       "1     213.0       5.1       8.739067      9.375367   9.00000  11.150000   \n",
       "2     215.0       4.4       8.739067      9.375367   8.00000  11.170000   \n",
       "3     234.0       8.5       8.739067      9.375367  18.00000  11.120000   \n",
       "4     228.0       5.2       8.739067      9.375367   5.00000  11.170000   \n",
       "..      ...       ...            ...           ...       ...        ...   \n",
       "489   175.0       6.9       8.250000      8.750000  10.40991  11.000000   \n",
       "490   176.0       8.3       8.250000      9.000000  10.40991  11.295382   \n",
       "491   192.0       6.4       8.500000      8.750000  10.40991  11.240000   \n",
       "492   232.0       8.8       8.750000     10.000000  10.40991  11.295382   \n",
       "493   190.0       5.6       8.750000      9.250000  10.40991  10.420000   \n",
       "\n",
       "       Sprint  \n",
       "0    3.280000  \n",
       "1    3.180000  \n",
       "2    3.140000  \n",
       "3    3.270000  \n",
       "4    3.350000  \n",
       "..        ...  \n",
       "489  3.190000  \n",
       "490  3.288152  \n",
       "491  3.150000  \n",
       "492  3.288152  \n",
       "493  3.190000  \n",
       "\n",
       "[384 rows x 14 columns]"
      ]
     },
     "execution_count": 393,
     "metadata": {},
     "output_type": "execute_result"
    }
   ],
   "source": [
    "X_new"
   ]
  },
  {
   "cell_type": "code",
   "execution_count": 394,
   "id": "d4e5ea58",
   "metadata": {},
   "outputs": [
    {
     "data": {
      "text/plain": [
       "0       1.0\n",
       "1      11.0\n",
       "2      12.0\n",
       "3      13.0\n",
       "4      14.0\n",
       "       ... \n",
       "489    51.0\n",
       "490    52.0\n",
       "491    53.0\n",
       "492    54.0\n",
       "493    55.0\n",
       "Name: Draft pick, Length: 384, dtype: float64"
      ]
     },
     "execution_count": 394,
     "metadata": {},
     "output_type": "execute_result"
    }
   ],
   "source": [
    "y"
   ]
  },
  {
   "cell_type": "code",
   "execution_count": 469,
   "id": "da14f2a3",
   "metadata": {},
   "outputs": [],
   "source": [
    "decReg = DecisionTreeRegressor()\n",
    "x_train, x_test, y_train, y_test = train_test_split(X_new, y, test_size = 0.2, random_state=1336)"
   ]
  },
  {
   "cell_type": "code",
   "execution_count": 470,
   "id": "fc34edaf",
   "metadata": {},
   "outputs": [
    {
     "data": {
      "text/html": [
       "<style>#sk-container-id-84 {color: black;background-color: white;}#sk-container-id-84 pre{padding: 0;}#sk-container-id-84 div.sk-toggleable {background-color: white;}#sk-container-id-84 label.sk-toggleable__label {cursor: pointer;display: block;width: 100%;margin-bottom: 0;padding: 0.3em;box-sizing: border-box;text-align: center;}#sk-container-id-84 label.sk-toggleable__label-arrow:before {content: \"▸\";float: left;margin-right: 0.25em;color: #696969;}#sk-container-id-84 label.sk-toggleable__label-arrow:hover:before {color: black;}#sk-container-id-84 div.sk-estimator:hover label.sk-toggleable__label-arrow:before {color: black;}#sk-container-id-84 div.sk-toggleable__content {max-height: 0;max-width: 0;overflow: hidden;text-align: left;background-color: #f0f8ff;}#sk-container-id-84 div.sk-toggleable__content pre {margin: 0.2em;color: black;border-radius: 0.25em;background-color: #f0f8ff;}#sk-container-id-84 input.sk-toggleable__control:checked~div.sk-toggleable__content {max-height: 200px;max-width: 100%;overflow: auto;}#sk-container-id-84 input.sk-toggleable__control:checked~label.sk-toggleable__label-arrow:before {content: \"▾\";}#sk-container-id-84 div.sk-estimator input.sk-toggleable__control:checked~label.sk-toggleable__label {background-color: #d4ebff;}#sk-container-id-84 div.sk-label input.sk-toggleable__control:checked~label.sk-toggleable__label {background-color: #d4ebff;}#sk-container-id-84 input.sk-hidden--visually {border: 0;clip: rect(1px 1px 1px 1px);clip: rect(1px, 1px, 1px, 1px);height: 1px;margin: -1px;overflow: hidden;padding: 0;position: absolute;width: 1px;}#sk-container-id-84 div.sk-estimator {font-family: monospace;background-color: #f0f8ff;border: 1px dotted black;border-radius: 0.25em;box-sizing: border-box;margin-bottom: 0.5em;}#sk-container-id-84 div.sk-estimator:hover {background-color: #d4ebff;}#sk-container-id-84 div.sk-parallel-item::after {content: \"\";width: 100%;border-bottom: 1px solid gray;flex-grow: 1;}#sk-container-id-84 div.sk-label:hover label.sk-toggleable__label {background-color: #d4ebff;}#sk-container-id-84 div.sk-serial::before {content: \"\";position: absolute;border-left: 1px solid gray;box-sizing: border-box;top: 0;bottom: 0;left: 50%;z-index: 0;}#sk-container-id-84 div.sk-serial {display: flex;flex-direction: column;align-items: center;background-color: white;padding-right: 0.2em;padding-left: 0.2em;position: relative;}#sk-container-id-84 div.sk-item {position: relative;z-index: 1;}#sk-container-id-84 div.sk-parallel {display: flex;align-items: stretch;justify-content: center;background-color: white;position: relative;}#sk-container-id-84 div.sk-item::before, #sk-container-id-84 div.sk-parallel-item::before {content: \"\";position: absolute;border-left: 1px solid gray;box-sizing: border-box;top: 0;bottom: 0;left: 50%;z-index: -1;}#sk-container-id-84 div.sk-parallel-item {display: flex;flex-direction: column;z-index: 1;position: relative;background-color: white;}#sk-container-id-84 div.sk-parallel-item:first-child::after {align-self: flex-end;width: 50%;}#sk-container-id-84 div.sk-parallel-item:last-child::after {align-self: flex-start;width: 50%;}#sk-container-id-84 div.sk-parallel-item:only-child::after {width: 0;}#sk-container-id-84 div.sk-dashed-wrapped {border: 1px dashed gray;margin: 0 0.4em 0.5em 0.4em;box-sizing: border-box;padding-bottom: 0.4em;background-color: white;}#sk-container-id-84 div.sk-label label {font-family: monospace;font-weight: bold;display: inline-block;line-height: 1.2em;}#sk-container-id-84 div.sk-label-container {text-align: center;}#sk-container-id-84 div.sk-container {/* jupyter's `normalize.less` sets `[hidden] { display: none; }` but bootstrap.min.css set `[hidden] { display: none !important; }` so we also need the `!important` here to be able to override the default hidden behavior on the sphinx rendered scikit-learn.org. See: https://github.com/scikit-learn/scikit-learn/issues/21755 */display: inline-block !important;position: relative;}#sk-container-id-84 div.sk-text-repr-fallback {display: none;}</style><div id=\"sk-container-id-84\" class=\"sk-top-container\"><div class=\"sk-text-repr-fallback\"><pre>DecisionTreeRegressor(min_impurity_decrease=0.5)</pre><b>In a Jupyter environment, please rerun this cell to show the HTML representation or trust the notebook. <br />On GitHub, the HTML representation is unable to render, please try loading this page with nbviewer.org.</b></div><div class=\"sk-container\" hidden><div class=\"sk-item\"><div class=\"sk-estimator sk-toggleable\"><input class=\"sk-toggleable__control sk-hidden--visually\" id=\"sk-estimator-id-84\" type=\"checkbox\" checked><label for=\"sk-estimator-id-84\" class=\"sk-toggleable__label sk-toggleable__label-arrow\">DecisionTreeRegressor</label><div class=\"sk-toggleable__content\"><pre>DecisionTreeRegressor(min_impurity_decrease=0.5)</pre></div></div></div></div></div>"
      ],
      "text/plain": [
       "DecisionTreeRegressor(min_impurity_decrease=0.5)"
      ]
     },
     "execution_count": 470,
     "metadata": {},
     "output_type": "execute_result"
    }
   ],
   "source": [
    "decReg.fit(x_train, y_train)"
   ]
  },
  {
   "cell_type": "code",
   "execution_count": 471,
   "id": "bcc6e392",
   "metadata": {},
   "outputs": [
    {
     "name": "stdout",
     "output_type": "stream",
     "text": [
      "rmse is 21.96567561589076\n"
     ]
    },
    {
     "data": {
      "text/plain": [
       "-0.7186184776114237"
      ]
     },
     "execution_count": 471,
     "metadata": {},
     "output_type": "execute_result"
    }
   ],
   "source": [
    "y_pred = decReg.predict(x_test)\n",
    "print(f'rmse is {np.sqrt(mean_squared_error(y_pred, y_test))}')\n",
    "\n",
    "r2_score(y_test, y_pred)"
   ]
  },
  {
   "cell_type": "code",
   "execution_count": 475,
   "id": "04c9324e",
   "metadata": {},
   "outputs": [
    {
     "name": "stdout",
     "output_type": "stream",
     "text": [
      "P-values for all features:\n",
      "const                       1.685755e-125\n",
      "Height (With Shoes)          9.716123e-01\n",
      "Wingspan                     8.566005e-01\n",
      "Standing reach               9.067395e-01\n",
      "Vertical (Max)               5.446327e-01\n",
      "Vertical (Max Reach)         5.438498e-01\n",
      "Vertical (No Step)           3.281039e-01\n",
      "Vertical (No Step Reach)     3.567766e-01\n",
      "Weight                       7.400874e-02\n",
      "Body Fat                     9.855072e-02\n",
      "Hand (Length)                5.395827e-01\n",
      "Hand (Width)                 9.074046e-01\n",
      "Bench                        1.325432e-01\n",
      "Agility                      1.332516e-02\n",
      "Sprint                       2.868491e-04\n",
      "dtype: float64\n"
     ]
    },
    {
     "name": "stderr",
     "output_type": "stream",
     "text": [
      "/var/folders/rj/xbh3qs3113570m39p4g31bth0000gp/T/ipykernel_81852/1964050458.py:4: SettingWithCopyWarning: \n",
      "A value is trying to be set on a copy of a slice from a DataFrame.\n",
      "Try using .loc[row_indexer,col_indexer] = value instead\n",
      "\n",
      "See the caveats in the documentation: https://pandas.pydata.org/pandas-docs/stable/user_guide/indexing.html#returning-a-view-versus-a-copy\n",
      "  X_new[features] = scaler.fit_transform(X_new[features])\n"
     ]
    }
   ],
   "source": [
    "scaler = StandardScaler()\n",
    "\n",
    "X_new = combine_data[features]\n",
    "X_new[features] = scaler.fit_transform(X_new[features])\n",
    "\n",
    "\n",
    "import statsmodels.api as sm\n",
    "\n",
    "# Assuming X is your feature matrix and y is your target variable\n",
    "# Fit the linear regression model\n",
    "model = sm.OLS(y, sm.add_constant(X_new)).fit()\n",
    "\n",
    "# Get the p-values for all features\n",
    "p_values = model.pvalues\n",
    "\n",
    "print(\"P-values for all features:\")\n",
    "print(p_values)"
   ]
  },
  {
   "cell_type": "code",
   "execution_count": 476,
   "id": "adb65077",
   "metadata": {},
   "outputs": [
    {
     "data": {
      "text/html": [
       "<div>\n",
       "<style scoped>\n",
       "    .dataframe tbody tr th:only-of-type {\n",
       "        vertical-align: middle;\n",
       "    }\n",
       "\n",
       "    .dataframe tbody tr th {\n",
       "        vertical-align: top;\n",
       "    }\n",
       "\n",
       "    .dataframe thead th {\n",
       "        text-align: right;\n",
       "    }\n",
       "</style>\n",
       "<table border=\"1\" class=\"dataframe\">\n",
       "  <thead>\n",
       "    <tr style=\"text-align: right;\">\n",
       "      <th></th>\n",
       "      <th>Height (With Shoes)</th>\n",
       "      <th>Wingspan</th>\n",
       "      <th>Standing reach</th>\n",
       "      <th>Vertical (Max)</th>\n",
       "      <th>Vertical (Max Reach)</th>\n",
       "      <th>Vertical (No Step)</th>\n",
       "      <th>Vertical (No Step Reach)</th>\n",
       "      <th>Weight</th>\n",
       "      <th>Body Fat</th>\n",
       "      <th>Hand (Length)</th>\n",
       "      <th>Hand (Width)</th>\n",
       "      <th>Bench</th>\n",
       "      <th>Agility</th>\n",
       "      <th>Sprint</th>\n",
       "    </tr>\n",
       "  </thead>\n",
       "  <tbody>\n",
       "    <tr>\n",
       "      <th>0</th>\n",
       "      <td>0.922806</td>\n",
       "      <td>0.183584</td>\n",
       "      <td>0.334080</td>\n",
       "      <td>0.042090</td>\n",
       "      <td>5.399584e-01</td>\n",
       "      <td>7.544187e-01</td>\n",
       "      <td>9.705654e-01</td>\n",
       "      <td>1.330789</td>\n",
       "      <td>0.452173</td>\n",
       "      <td>0.000000</td>\n",
       "      <td>0.000000</td>\n",
       "      <td>3.042151e+00</td>\n",
       "      <td>-6.872225e-01</td>\n",
       "      <td>-0.068741</td>\n",
       "    </tr>\n",
       "    <tr>\n",
       "      <th>1</th>\n",
       "      <td>-0.228702</td>\n",
       "      <td>-0.394991</td>\n",
       "      <td>0.027785</td>\n",
       "      <td>0.497761</td>\n",
       "      <td>5.399584e-01</td>\n",
       "      <td>2.267494e-01</td>\n",
       "      <td>2.525092e-01</td>\n",
       "      <td>-0.076090</td>\n",
       "      <td>-0.826990</td>\n",
       "      <td>0.000000</td>\n",
       "      <td>0.000000</td>\n",
       "      <td>-3.700712e-01</td>\n",
       "      <td>-2.892736e-01</td>\n",
       "      <td>-0.912033</td>\n",
       "    </tr>\n",
       "    <tr>\n",
       "      <th>2</th>\n",
       "      <td>-0.612538</td>\n",
       "      <td>-0.073561</td>\n",
       "      <td>-0.176412</td>\n",
       "      <td>-0.109800</td>\n",
       "      <td>-2.471599e-01</td>\n",
       "      <td>5.785289e-01</td>\n",
       "      <td>2.525092e-01</td>\n",
       "      <td>0.004303</td>\n",
       "      <td>-1.115833</td>\n",
       "      <td>0.000000</td>\n",
       "      <td>0.000000</td>\n",
       "      <td>-6.325498e-01</td>\n",
       "      <td>-2.494787e-01</td>\n",
       "      <td>-1.249350</td>\n",
       "    </tr>\n",
       "    <tr>\n",
       "      <th>3</th>\n",
       "      <td>0.769271</td>\n",
       "      <td>0.247870</td>\n",
       "      <td>0.538276</td>\n",
       "      <td>-0.413581</td>\n",
       "      <td>4.087720e-01</td>\n",
       "      <td>-8.285890e-01</td>\n",
       "      <td>1.328332e-01</td>\n",
       "      <td>0.768038</td>\n",
       "      <td>0.575963</td>\n",
       "      <td>0.000000</td>\n",
       "      <td>0.000000</td>\n",
       "      <td>1.992236e+00</td>\n",
       "      <td>-3.489659e-01</td>\n",
       "      <td>-0.153070</td>\n",
       "    </tr>\n",
       "    <tr>\n",
       "      <th>4</th>\n",
       "      <td>0.999573</td>\n",
       "      <td>1.019302</td>\n",
       "      <td>1.252965</td>\n",
       "      <td>-0.717362</td>\n",
       "      <td>1.064704e+00</td>\n",
       "      <td>-4.768095e-01</td>\n",
       "      <td>1.209917e+00</td>\n",
       "      <td>0.526858</td>\n",
       "      <td>-0.785727</td>\n",
       "      <td>0.000000</td>\n",
       "      <td>0.000000</td>\n",
       "      <td>-1.419986e+00</td>\n",
       "      <td>-2.494787e-01</td>\n",
       "      <td>0.521563</td>\n",
       "    </tr>\n",
       "    <tr>\n",
       "      <th>...</th>\n",
       "      <td>...</td>\n",
       "      <td>...</td>\n",
       "      <td>...</td>\n",
       "      <td>...</td>\n",
       "      <td>...</td>\n",
       "      <td>...</td>\n",
       "      <td>...</td>\n",
       "      <td>...</td>\n",
       "      <td>...</td>\n",
       "      <td>...</td>\n",
       "      <td>...</td>\n",
       "      <td>...</td>\n",
       "      <td>...</td>\n",
       "      <td>...</td>\n",
       "    </tr>\n",
       "    <tr>\n",
       "      <th>489</th>\n",
       "      <td>-1.380210</td>\n",
       "      <td>-1.680712</td>\n",
       "      <td>-1.401592</td>\n",
       "      <td>-0.565471</td>\n",
       "      <td>-2.214955e+00</td>\n",
       "      <td>-6.526993e-01</td>\n",
       "      <td>-2.021335e+00</td>\n",
       "      <td>-1.603559</td>\n",
       "      <td>-0.084250</td>\n",
       "      <td>-1.112046</td>\n",
       "      <td>-0.936237</td>\n",
       "      <td>-4.662556e-16</td>\n",
       "      <td>-5.877353e-01</td>\n",
       "      <td>-0.827704</td>\n",
       "    </tr>\n",
       "    <tr>\n",
       "      <th>490</th>\n",
       "      <td>-0.382237</td>\n",
       "      <td>-0.394991</td>\n",
       "      <td>-0.176412</td>\n",
       "      <td>0.000000</td>\n",
       "      <td>7.457082e-15</td>\n",
       "      <td>2.499544e-15</td>\n",
       "      <td>-6.802795e-15</td>\n",
       "      <td>-1.563363</td>\n",
       "      <td>0.493436</td>\n",
       "      <td>-1.112046</td>\n",
       "      <td>-0.561962</td>\n",
       "      <td>-4.662556e-16</td>\n",
       "      <td>-3.534497e-15</td>\n",
       "      <td>0.000000</td>\n",
       "    </tr>\n",
       "    <tr>\n",
       "      <th>491</th>\n",
       "      <td>-1.456977</td>\n",
       "      <td>-0.330705</td>\n",
       "      <td>-0.789002</td>\n",
       "      <td>0.042090</td>\n",
       "      <td>-9.030917e-01</td>\n",
       "      <td>1.106198e+00</td>\n",
       "      <td>-1.065189e-01</td>\n",
       "      <td>-0.920218</td>\n",
       "      <td>-0.290567</td>\n",
       "      <td>-0.543593</td>\n",
       "      <td>-0.936237</td>\n",
       "      <td>-4.662556e-16</td>\n",
       "      <td>-1.101966e-01</td>\n",
       "      <td>-1.165020</td>\n",
       "    </tr>\n",
       "    <tr>\n",
       "      <th>492</th>\n",
       "      <td>0.538970</td>\n",
       "      <td>0.055011</td>\n",
       "      <td>0.334080</td>\n",
       "      <td>0.000000</td>\n",
       "      <td>7.457082e-15</td>\n",
       "      <td>2.499544e-15</td>\n",
       "      <td>-6.802795e-15</td>\n",
       "      <td>0.687644</td>\n",
       "      <td>0.699753</td>\n",
       "      <td>0.024859</td>\n",
       "      <td>0.935140</td>\n",
       "      <td>-4.662556e-16</td>\n",
       "      <td>-3.534497e-15</td>\n",
       "      <td>0.000000</td>\n",
       "    </tr>\n",
       "    <tr>\n",
       "      <th>493</th>\n",
       "      <td>-1.226676</td>\n",
       "      <td>-0.844993</td>\n",
       "      <td>-0.891101</td>\n",
       "      <td>-0.261691</td>\n",
       "      <td>-1.296651e+00</td>\n",
       "      <td>-8.285890e-01</td>\n",
       "      <td>-1.542631e+00</td>\n",
       "      <td>-1.000611</td>\n",
       "      <td>-0.620673</td>\n",
       "      <td>0.024859</td>\n",
       "      <td>-0.187687</td>\n",
       "      <td>-4.662556e-16</td>\n",
       "      <td>-1.741787e+00</td>\n",
       "      <td>-0.827704</td>\n",
       "    </tr>\n",
       "  </tbody>\n",
       "</table>\n",
       "<p>384 rows × 14 columns</p>\n",
       "</div>"
      ],
      "text/plain": [
       "     Height (With Shoes)  Wingspan  Standing reach  Vertical (Max)  \\\n",
       "0               0.922806  0.183584        0.334080        0.042090   \n",
       "1              -0.228702 -0.394991        0.027785        0.497761   \n",
       "2              -0.612538 -0.073561       -0.176412       -0.109800   \n",
       "3               0.769271  0.247870        0.538276       -0.413581   \n",
       "4               0.999573  1.019302        1.252965       -0.717362   \n",
       "..                   ...       ...             ...             ...   \n",
       "489            -1.380210 -1.680712       -1.401592       -0.565471   \n",
       "490            -0.382237 -0.394991       -0.176412        0.000000   \n",
       "491            -1.456977 -0.330705       -0.789002        0.042090   \n",
       "492             0.538970  0.055011        0.334080        0.000000   \n",
       "493            -1.226676 -0.844993       -0.891101       -0.261691   \n",
       "\n",
       "     Vertical (Max Reach)  Vertical (No Step)  Vertical (No Step Reach)  \\\n",
       "0            5.399584e-01        7.544187e-01              9.705654e-01   \n",
       "1            5.399584e-01        2.267494e-01              2.525092e-01   \n",
       "2           -2.471599e-01        5.785289e-01              2.525092e-01   \n",
       "3            4.087720e-01       -8.285890e-01              1.328332e-01   \n",
       "4            1.064704e+00       -4.768095e-01              1.209917e+00   \n",
       "..                    ...                 ...                       ...   \n",
       "489         -2.214955e+00       -6.526993e-01             -2.021335e+00   \n",
       "490          7.457082e-15        2.499544e-15             -6.802795e-15   \n",
       "491         -9.030917e-01        1.106198e+00             -1.065189e-01   \n",
       "492          7.457082e-15        2.499544e-15             -6.802795e-15   \n",
       "493         -1.296651e+00       -8.285890e-01             -1.542631e+00   \n",
       "\n",
       "       Weight  Body Fat  Hand (Length)  Hand (Width)         Bench  \\\n",
       "0    1.330789  0.452173       0.000000      0.000000  3.042151e+00   \n",
       "1   -0.076090 -0.826990       0.000000      0.000000 -3.700712e-01   \n",
       "2    0.004303 -1.115833       0.000000      0.000000 -6.325498e-01   \n",
       "3    0.768038  0.575963       0.000000      0.000000  1.992236e+00   \n",
       "4    0.526858 -0.785727       0.000000      0.000000 -1.419986e+00   \n",
       "..        ...       ...            ...           ...           ...   \n",
       "489 -1.603559 -0.084250      -1.112046     -0.936237 -4.662556e-16   \n",
       "490 -1.563363  0.493436      -1.112046     -0.561962 -4.662556e-16   \n",
       "491 -0.920218 -0.290567      -0.543593     -0.936237 -4.662556e-16   \n",
       "492  0.687644  0.699753       0.024859      0.935140 -4.662556e-16   \n",
       "493 -1.000611 -0.620673       0.024859     -0.187687 -4.662556e-16   \n",
       "\n",
       "          Agility    Sprint  \n",
       "0   -6.872225e-01 -0.068741  \n",
       "1   -2.892736e-01 -0.912033  \n",
       "2   -2.494787e-01 -1.249350  \n",
       "3   -3.489659e-01 -0.153070  \n",
       "4   -2.494787e-01  0.521563  \n",
       "..            ...       ...  \n",
       "489 -5.877353e-01 -0.827704  \n",
       "490 -3.534497e-15  0.000000  \n",
       "491 -1.101966e-01 -1.165020  \n",
       "492 -3.534497e-15  0.000000  \n",
       "493 -1.741787e+00 -0.827704  \n",
       "\n",
       "[384 rows x 14 columns]"
      ]
     },
     "execution_count": 476,
     "metadata": {},
     "output_type": "execute_result"
    }
   ],
   "source": [
    "X_new"
   ]
  },
  {
   "cell_type": "code",
   "execution_count": 477,
   "id": "6ccb5e3c",
   "metadata": {},
   "outputs": [],
   "source": [
    "x_train, x_test, y_train, y_test = train_test_split(X_new, y, test_size = 0.2, random_state=1336)"
   ]
  },
  {
   "cell_type": "code",
   "execution_count": 488,
   "id": "ac38c40a",
   "metadata": {},
   "outputs": [
    {
     "name": "stdout",
     "output_type": "stream",
     "text": [
      "rmse is 15.576408043388138\n"
     ]
    },
    {
     "data": {
      "text/plain": [
       "0.1357786792473078"
      ]
     },
     "execution_count": 488,
     "metadata": {},
     "output_type": "execute_result"
    }
   ],
   "source": [
    "lasso_reg = Lasso(alpha=0.1)\n",
    "lasso_reg.fit(x_train, y_train)\n",
    "\n",
    "y_pred = lasso_reg.predict(x_test)\n",
    "print(f'rmse is {np.sqrt(mean_squared_error(y_pred, y_test))}')\n",
    "\n",
    "r2_score(y_test, y_pred)"
   ]
  },
  {
   "cell_type": "code",
   "execution_count": 489,
   "id": "329711f1",
   "metadata": {},
   "outputs": [
    {
     "name": "stdout",
     "output_type": "stream",
     "text": [
      "rmse is 21.70313281593176\n"
     ]
    },
    {
     "data": {
      "text/plain": [
       "-0.6777807282304653"
      ]
     },
     "execution_count": 489,
     "metadata": {},
     "output_type": "execute_result"
    }
   ],
   "source": [
    "decReg = DecisionTreeRegressor()\n",
    "decReg.fit(x_train, y_train)\n",
    "\n",
    "y_pred = decReg.predict(x_test)\n",
    "print(f'rmse is {np.sqrt(mean_squared_error(y_pred, y_test))}')\n",
    "\n",
    "r2_score(y_test, y_pred)\n"
   ]
  },
  {
   "cell_type": "code",
   "execution_count": 490,
   "id": "23df8a39",
   "metadata": {},
   "outputs": [
    {
     "name": "stdout",
     "output_type": "stream",
     "text": [
      "rmse is 15.677847395825365\n"
     ]
    },
    {
     "data": {
      "text/plain": [
       "0.12448576655118615"
      ]
     },
     "execution_count": 490,
     "metadata": {},
     "output_type": "execute_result"
    }
   ],
   "source": [
    "lin_reg = LinearRegression()\n",
    "lin_reg.fit(x_train, y_train)\n",
    "\n",
    "y_pred = lin_reg.predict(x_test)\n",
    "print(f'rmse is {np.sqrt(mean_squared_error(y_pred, y_test))}')\n",
    "\n",
    "r2_score(y_test, y_pred)"
   ]
  },
  {
   "cell_type": "code",
   "execution_count": null,
   "id": "e9a65856",
   "metadata": {},
   "outputs": [],
   "source": []
  }
 ],
 "metadata": {
  "kernelspec": {
   "display_name": "Python 3 (ipykernel)",
   "language": "python",
   "name": "python3"
  },
  "language_info": {
   "codemirror_mode": {
    "name": "ipython",
    "version": 3
   },
   "file_extension": ".py",
   "mimetype": "text/x-python",
   "name": "python",
   "nbconvert_exporter": "python",
   "pygments_lexer": "ipython3",
   "version": "3.10.12"
  }
 },
 "nbformat": 4,
 "nbformat_minor": 5
}
