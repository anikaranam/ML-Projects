{
 "cells": [
  {
   "cell_type": "code",
   "execution_count": 165,
   "id": "3ab19ce2",
   "metadata": {},
   "outputs": [],
   "source": [
    "import pandas as pd\n",
    "import numpy as np\n",
    "from nltk.tokenize import word_tokenize\n",
    "from nltk import pos_tag\n",
    "from nltk.corpus import stopwords\n",
    "from nltk.stem import WordNetLemmatizer\n",
    "from sklearn.preprocessing import LabelEncoder\n",
    "from collections import defaultdict\n",
    "from nltk.corpus import wordnet as wn\n",
    "from sklearn.feature_extraction.text import TfidfVectorizer\n",
    "from sklearn import model_selection, naive_bayes, svm\n",
    "from sklearn.metrics import accuracy_score\n",
    "\n",
    "import matplotlib as mpl\n",
    "import matplotlib.pyplot as plt\n",
    "import numpy as np\n",
    "import pandas as pd\n",
    "\n",
    "from sklearn.neighbors import KNeighborsClassifier\n",
    "from sklearn.model_selection import GridSearchCV\n",
    "\n",
    "from sklearn.preprocessing import LabelEncoder\n",
    "\n",
    "from sklearn.datasets import load_iris\n",
    "from sklearn.tree import DecisionTreeClassifier\n",
    "\n",
    "from sklearn import tree\n",
    "\n",
    "from sklearn.tree import DecisionTreeRegressor\n",
    "\n",
    "from sklearn.datasets import make_moons\n",
    "from sklearn.model_selection import train_test_split\n",
    "\n",
    "from sklearn.metrics import accuracy_score\n",
    "\n",
    "from sklearn.ensemble import BaggingClassifier\n",
    "from sklearn.tree import DecisionTreeClassifier\n",
    "\n",
    "from sklearn.metrics import mean_squared_error"
   ]
  },
  {
   "cell_type": "code",
   "execution_count": 166,
   "id": "5af42f18",
   "metadata": {},
   "outputs": [],
   "source": [
    "combine_data = pd.read_csv('Downloads/nba_draft_combine_all_years.csv')"
   ]
  },
  {
   "cell_type": "code",
   "execution_count": 167,
   "id": "70be506d",
   "metadata": {},
   "outputs": [
    {
     "data": {
      "text/html": [
       "<div>\n",
       "<style scoped>\n",
       "    .dataframe tbody tr th:only-of-type {\n",
       "        vertical-align: middle;\n",
       "    }\n",
       "\n",
       "    .dataframe tbody tr th {\n",
       "        vertical-align: top;\n",
       "    }\n",
       "\n",
       "    .dataframe thead th {\n",
       "        text-align: right;\n",
       "    }\n",
       "</style>\n",
       "<table border=\"1\" class=\"dataframe\">\n",
       "  <thead>\n",
       "    <tr style=\"text-align: right;\">\n",
       "      <th></th>\n",
       "      <th>Unnamed: 0</th>\n",
       "      <th>Player</th>\n",
       "      <th>Year</th>\n",
       "      <th>Draft pick</th>\n",
       "      <th>Height (No Shoes)</th>\n",
       "      <th>Height (With Shoes)</th>\n",
       "      <th>Wingspan</th>\n",
       "      <th>Standing reach</th>\n",
       "      <th>Vertical (Max)</th>\n",
       "      <th>Vertical (Max Reach)</th>\n",
       "      <th>Vertical (No Step)</th>\n",
       "      <th>Vertical (No Step Reach)</th>\n",
       "      <th>Weight</th>\n",
       "      <th>Body Fat</th>\n",
       "      <th>Hand (Length)</th>\n",
       "      <th>Hand (Width)</th>\n",
       "      <th>Bench</th>\n",
       "      <th>Agility</th>\n",
       "      <th>Sprint</th>\n",
       "    </tr>\n",
       "  </thead>\n",
       "  <tbody>\n",
       "    <tr>\n",
       "      <th>0</th>\n",
       "      <td>0</td>\n",
       "      <td>Blake Griffin</td>\n",
       "      <td>2009</td>\n",
       "      <td>1.0</td>\n",
       "      <td>80.50</td>\n",
       "      <td>82.00</td>\n",
       "      <td>83.25</td>\n",
       "      <td>105.0</td>\n",
       "      <td>35.5</td>\n",
       "      <td>140.5</td>\n",
       "      <td>32.0</td>\n",
       "      <td>137.0</td>\n",
       "      <td>248.0</td>\n",
       "      <td>8.2</td>\n",
       "      <td>NaN</td>\n",
       "      <td>NaN</td>\n",
       "      <td>22.0</td>\n",
       "      <td>10.95</td>\n",
       "      <td>3.28</td>\n",
       "    </tr>\n",
       "    <tr>\n",
       "      <th>1</th>\n",
       "      <td>1</td>\n",
       "      <td>Terrence Williams</td>\n",
       "      <td>2009</td>\n",
       "      <td>11.0</td>\n",
       "      <td>77.00</td>\n",
       "      <td>78.25</td>\n",
       "      <td>81.00</td>\n",
       "      <td>103.5</td>\n",
       "      <td>37.0</td>\n",
       "      <td>140.5</td>\n",
       "      <td>30.5</td>\n",
       "      <td>134.0</td>\n",
       "      <td>213.0</td>\n",
       "      <td>5.1</td>\n",
       "      <td>NaN</td>\n",
       "      <td>NaN</td>\n",
       "      <td>9.0</td>\n",
       "      <td>11.15</td>\n",
       "      <td>3.18</td>\n",
       "    </tr>\n",
       "    <tr>\n",
       "      <th>2</th>\n",
       "      <td>2</td>\n",
       "      <td>Gerald Henderson</td>\n",
       "      <td>2009</td>\n",
       "      <td>12.0</td>\n",
       "      <td>76.00</td>\n",
       "      <td>77.00</td>\n",
       "      <td>82.25</td>\n",
       "      <td>102.5</td>\n",
       "      <td>35.0</td>\n",
       "      <td>137.5</td>\n",
       "      <td>31.5</td>\n",
       "      <td>134.0</td>\n",
       "      <td>215.0</td>\n",
       "      <td>4.4</td>\n",
       "      <td>NaN</td>\n",
       "      <td>NaN</td>\n",
       "      <td>8.0</td>\n",
       "      <td>11.17</td>\n",
       "      <td>3.14</td>\n",
       "    </tr>\n",
       "    <tr>\n",
       "      <th>3</th>\n",
       "      <td>3</td>\n",
       "      <td>Tyler Hansbrough</td>\n",
       "      <td>2009</td>\n",
       "      <td>13.0</td>\n",
       "      <td>80.25</td>\n",
       "      <td>81.50</td>\n",
       "      <td>83.50</td>\n",
       "      <td>106.0</td>\n",
       "      <td>34.0</td>\n",
       "      <td>140.0</td>\n",
       "      <td>27.5</td>\n",
       "      <td>133.5</td>\n",
       "      <td>234.0</td>\n",
       "      <td>8.5</td>\n",
       "      <td>NaN</td>\n",
       "      <td>NaN</td>\n",
       "      <td>18.0</td>\n",
       "      <td>11.12</td>\n",
       "      <td>3.27</td>\n",
       "    </tr>\n",
       "    <tr>\n",
       "      <th>4</th>\n",
       "      <td>4</td>\n",
       "      <td>Earl Clark</td>\n",
       "      <td>2009</td>\n",
       "      <td>14.0</td>\n",
       "      <td>80.50</td>\n",
       "      <td>82.25</td>\n",
       "      <td>86.50</td>\n",
       "      <td>109.5</td>\n",
       "      <td>33.0</td>\n",
       "      <td>142.5</td>\n",
       "      <td>28.5</td>\n",
       "      <td>138.0</td>\n",
       "      <td>228.0</td>\n",
       "      <td>5.2</td>\n",
       "      <td>NaN</td>\n",
       "      <td>NaN</td>\n",
       "      <td>5.0</td>\n",
       "      <td>11.17</td>\n",
       "      <td>3.35</td>\n",
       "    </tr>\n",
       "    <tr>\n",
       "      <th>...</th>\n",
       "      <td>...</td>\n",
       "      <td>...</td>\n",
       "      <td>...</td>\n",
       "      <td>...</td>\n",
       "      <td>...</td>\n",
       "      <td>...</td>\n",
       "      <td>...</td>\n",
       "      <td>...</td>\n",
       "      <td>...</td>\n",
       "      <td>...</td>\n",
       "      <td>...</td>\n",
       "      <td>...</td>\n",
       "      <td>...</td>\n",
       "      <td>...</td>\n",
       "      <td>...</td>\n",
       "      <td>...</td>\n",
       "      <td>...</td>\n",
       "      <td>...</td>\n",
       "      <td>...</td>\n",
       "    </tr>\n",
       "    <tr>\n",
       "      <th>512</th>\n",
       "      <td>512</td>\n",
       "      <td>Peter Jok</td>\n",
       "      <td>2017</td>\n",
       "      <td>NaN</td>\n",
       "      <td>76.25</td>\n",
       "      <td>77.75</td>\n",
       "      <td>80.00</td>\n",
       "      <td>102.0</td>\n",
       "      <td>31.0</td>\n",
       "      <td>133.0</td>\n",
       "      <td>26.5</td>\n",
       "      <td>128.5</td>\n",
       "      <td>202.0</td>\n",
       "      <td>11.0</td>\n",
       "      <td>8.25</td>\n",
       "      <td>9.50</td>\n",
       "      <td>NaN</td>\n",
       "      <td>11.34</td>\n",
       "      <td>3.41</td>\n",
       "    </tr>\n",
       "    <tr>\n",
       "      <th>513</th>\n",
       "      <td>513</td>\n",
       "      <td>Rawle Alkins</td>\n",
       "      <td>2017</td>\n",
       "      <td>NaN</td>\n",
       "      <td>74.50</td>\n",
       "      <td>75.75</td>\n",
       "      <td>80.75</td>\n",
       "      <td>99.0</td>\n",
       "      <td>40.5</td>\n",
       "      <td>139.5</td>\n",
       "      <td>31.5</td>\n",
       "      <td>130.5</td>\n",
       "      <td>223.0</td>\n",
       "      <td>11.0</td>\n",
       "      <td>8.75</td>\n",
       "      <td>10.00</td>\n",
       "      <td>NaN</td>\n",
       "      <td>11.99</td>\n",
       "      <td>3.30</td>\n",
       "    </tr>\n",
       "    <tr>\n",
       "      <th>514</th>\n",
       "      <td>514</td>\n",
       "      <td>Sviatoslav Mykhailiuk</td>\n",
       "      <td>2017</td>\n",
       "      <td>NaN</td>\n",
       "      <td>78.50</td>\n",
       "      <td>79.50</td>\n",
       "      <td>77.00</td>\n",
       "      <td>100.0</td>\n",
       "      <td>33.0</td>\n",
       "      <td>133.0</td>\n",
       "      <td>27.0</td>\n",
       "      <td>127.0</td>\n",
       "      <td>220.0</td>\n",
       "      <td>11.4</td>\n",
       "      <td>8.00</td>\n",
       "      <td>9.25</td>\n",
       "      <td>NaN</td>\n",
       "      <td>12.40</td>\n",
       "      <td>3.53</td>\n",
       "    </tr>\n",
       "    <tr>\n",
       "      <th>515</th>\n",
       "      <td>515</td>\n",
       "      <td>Thomas Welsh</td>\n",
       "      <td>2017</td>\n",
       "      <td>NaN</td>\n",
       "      <td>83.50</td>\n",
       "      <td>84.50</td>\n",
       "      <td>84.00</td>\n",
       "      <td>109.5</td>\n",
       "      <td>NaN</td>\n",
       "      <td>NaN</td>\n",
       "      <td>NaN</td>\n",
       "      <td>NaN</td>\n",
       "      <td>254.0</td>\n",
       "      <td>10.9</td>\n",
       "      <td>9.00</td>\n",
       "      <td>10.50</td>\n",
       "      <td>NaN</td>\n",
       "      <td>NaN</td>\n",
       "      <td>NaN</td>\n",
       "    </tr>\n",
       "    <tr>\n",
       "      <th>516</th>\n",
       "      <td>516</td>\n",
       "      <td>V.J. Beachem</td>\n",
       "      <td>2017</td>\n",
       "      <td>NaN</td>\n",
       "      <td>78.25</td>\n",
       "      <td>80.00</td>\n",
       "      <td>82.25</td>\n",
       "      <td>104.5</td>\n",
       "      <td>37.0</td>\n",
       "      <td>141.5</td>\n",
       "      <td>30.0</td>\n",
       "      <td>134.5</td>\n",
       "      <td>193.0</td>\n",
       "      <td>6.8</td>\n",
       "      <td>8.50</td>\n",
       "      <td>9.00</td>\n",
       "      <td>NaN</td>\n",
       "      <td>11.18</td>\n",
       "      <td>3.26</td>\n",
       "    </tr>\n",
       "  </tbody>\n",
       "</table>\n",
       "<p>517 rows × 19 columns</p>\n",
       "</div>"
      ],
      "text/plain": [
       "     Unnamed: 0                 Player  Year  Draft pick  Height (No Shoes)  \\\n",
       "0             0          Blake Griffin  2009         1.0              80.50   \n",
       "1             1      Terrence Williams  2009        11.0              77.00   \n",
       "2             2       Gerald Henderson  2009        12.0              76.00   \n",
       "3             3       Tyler Hansbrough  2009        13.0              80.25   \n",
       "4             4             Earl Clark  2009        14.0              80.50   \n",
       "..          ...                    ...   ...         ...                ...   \n",
       "512         512              Peter Jok  2017         NaN              76.25   \n",
       "513         513           Rawle Alkins  2017         NaN              74.50   \n",
       "514         514  Sviatoslav Mykhailiuk  2017         NaN              78.50   \n",
       "515         515           Thomas Welsh  2017         NaN              83.50   \n",
       "516         516           V.J. Beachem  2017         NaN              78.25   \n",
       "\n",
       "     Height (With Shoes)  Wingspan  Standing reach  Vertical (Max)  \\\n",
       "0                  82.00     83.25           105.0            35.5   \n",
       "1                  78.25     81.00           103.5            37.0   \n",
       "2                  77.00     82.25           102.5            35.0   \n",
       "3                  81.50     83.50           106.0            34.0   \n",
       "4                  82.25     86.50           109.5            33.0   \n",
       "..                   ...       ...             ...             ...   \n",
       "512                77.75     80.00           102.0            31.0   \n",
       "513                75.75     80.75            99.0            40.5   \n",
       "514                79.50     77.00           100.0            33.0   \n",
       "515                84.50     84.00           109.5             NaN   \n",
       "516                80.00     82.25           104.5            37.0   \n",
       "\n",
       "     Vertical (Max Reach)  Vertical (No Step)  Vertical (No Step Reach)  \\\n",
       "0                   140.5                32.0                     137.0   \n",
       "1                   140.5                30.5                     134.0   \n",
       "2                   137.5                31.5                     134.0   \n",
       "3                   140.0                27.5                     133.5   \n",
       "4                   142.5                28.5                     138.0   \n",
       "..                    ...                 ...                       ...   \n",
       "512                 133.0                26.5                     128.5   \n",
       "513                 139.5                31.5                     130.5   \n",
       "514                 133.0                27.0                     127.0   \n",
       "515                   NaN                 NaN                       NaN   \n",
       "516                 141.5                30.0                     134.5   \n",
       "\n",
       "     Weight  Body Fat  Hand (Length)  Hand (Width)  Bench  Agility  Sprint  \n",
       "0     248.0       8.2            NaN           NaN   22.0    10.95    3.28  \n",
       "1     213.0       5.1            NaN           NaN    9.0    11.15    3.18  \n",
       "2     215.0       4.4            NaN           NaN    8.0    11.17    3.14  \n",
       "3     234.0       8.5            NaN           NaN   18.0    11.12    3.27  \n",
       "4     228.0       5.2            NaN           NaN    5.0    11.17    3.35  \n",
       "..      ...       ...            ...           ...    ...      ...     ...  \n",
       "512   202.0      11.0           8.25          9.50    NaN    11.34    3.41  \n",
       "513   223.0      11.0           8.75         10.00    NaN    11.99    3.30  \n",
       "514   220.0      11.4           8.00          9.25    NaN    12.40    3.53  \n",
       "515   254.0      10.9           9.00         10.50    NaN      NaN     NaN  \n",
       "516   193.0       6.8           8.50          9.00    NaN    11.18    3.26  \n",
       "\n",
       "[517 rows x 19 columns]"
      ]
     },
     "execution_count": 167,
     "metadata": {},
     "output_type": "execute_result"
    }
   ],
   "source": [
    "combine_data"
   ]
  },
  {
   "cell_type": "code",
   "execution_count": 168,
   "id": "7f4f2c4f",
   "metadata": {},
   "outputs": [],
   "source": [
    "del combine_data['Unnamed: 0']"
   ]
  },
  {
   "cell_type": "code",
   "execution_count": 169,
   "id": "626d1c6e",
   "metadata": {},
   "outputs": [
    {
     "data": {
      "text/html": [
       "<div>\n",
       "<style scoped>\n",
       "    .dataframe tbody tr th:only-of-type {\n",
       "        vertical-align: middle;\n",
       "    }\n",
       "\n",
       "    .dataframe tbody tr th {\n",
       "        vertical-align: top;\n",
       "    }\n",
       "\n",
       "    .dataframe thead th {\n",
       "        text-align: right;\n",
       "    }\n",
       "</style>\n",
       "<table border=\"1\" class=\"dataframe\">\n",
       "  <thead>\n",
       "    <tr style=\"text-align: right;\">\n",
       "      <th></th>\n",
       "      <th>Player</th>\n",
       "      <th>Year</th>\n",
       "      <th>Draft pick</th>\n",
       "      <th>Height (No Shoes)</th>\n",
       "      <th>Height (With Shoes)</th>\n",
       "      <th>Wingspan</th>\n",
       "      <th>Standing reach</th>\n",
       "      <th>Vertical (Max)</th>\n",
       "      <th>Vertical (Max Reach)</th>\n",
       "      <th>Vertical (No Step)</th>\n",
       "      <th>Vertical (No Step Reach)</th>\n",
       "      <th>Weight</th>\n",
       "      <th>Body Fat</th>\n",
       "      <th>Hand (Length)</th>\n",
       "      <th>Hand (Width)</th>\n",
       "      <th>Bench</th>\n",
       "      <th>Agility</th>\n",
       "      <th>Sprint</th>\n",
       "    </tr>\n",
       "  </thead>\n",
       "  <tbody>\n",
       "    <tr>\n",
       "      <th>0</th>\n",
       "      <td>Blake Griffin</td>\n",
       "      <td>2009</td>\n",
       "      <td>1.0</td>\n",
       "      <td>80.50</td>\n",
       "      <td>82.00</td>\n",
       "      <td>83.25</td>\n",
       "      <td>105.0</td>\n",
       "      <td>35.5</td>\n",
       "      <td>140.5</td>\n",
       "      <td>32.0</td>\n",
       "      <td>137.0</td>\n",
       "      <td>248.0</td>\n",
       "      <td>8.2</td>\n",
       "      <td>NaN</td>\n",
       "      <td>NaN</td>\n",
       "      <td>22.0</td>\n",
       "      <td>10.95</td>\n",
       "      <td>3.28</td>\n",
       "    </tr>\n",
       "    <tr>\n",
       "      <th>1</th>\n",
       "      <td>Terrence Williams</td>\n",
       "      <td>2009</td>\n",
       "      <td>11.0</td>\n",
       "      <td>77.00</td>\n",
       "      <td>78.25</td>\n",
       "      <td>81.00</td>\n",
       "      <td>103.5</td>\n",
       "      <td>37.0</td>\n",
       "      <td>140.5</td>\n",
       "      <td>30.5</td>\n",
       "      <td>134.0</td>\n",
       "      <td>213.0</td>\n",
       "      <td>5.1</td>\n",
       "      <td>NaN</td>\n",
       "      <td>NaN</td>\n",
       "      <td>9.0</td>\n",
       "      <td>11.15</td>\n",
       "      <td>3.18</td>\n",
       "    </tr>\n",
       "    <tr>\n",
       "      <th>2</th>\n",
       "      <td>Gerald Henderson</td>\n",
       "      <td>2009</td>\n",
       "      <td>12.0</td>\n",
       "      <td>76.00</td>\n",
       "      <td>77.00</td>\n",
       "      <td>82.25</td>\n",
       "      <td>102.5</td>\n",
       "      <td>35.0</td>\n",
       "      <td>137.5</td>\n",
       "      <td>31.5</td>\n",
       "      <td>134.0</td>\n",
       "      <td>215.0</td>\n",
       "      <td>4.4</td>\n",
       "      <td>NaN</td>\n",
       "      <td>NaN</td>\n",
       "      <td>8.0</td>\n",
       "      <td>11.17</td>\n",
       "      <td>3.14</td>\n",
       "    </tr>\n",
       "    <tr>\n",
       "      <th>3</th>\n",
       "      <td>Tyler Hansbrough</td>\n",
       "      <td>2009</td>\n",
       "      <td>13.0</td>\n",
       "      <td>80.25</td>\n",
       "      <td>81.50</td>\n",
       "      <td>83.50</td>\n",
       "      <td>106.0</td>\n",
       "      <td>34.0</td>\n",
       "      <td>140.0</td>\n",
       "      <td>27.5</td>\n",
       "      <td>133.5</td>\n",
       "      <td>234.0</td>\n",
       "      <td>8.5</td>\n",
       "      <td>NaN</td>\n",
       "      <td>NaN</td>\n",
       "      <td>18.0</td>\n",
       "      <td>11.12</td>\n",
       "      <td>3.27</td>\n",
       "    </tr>\n",
       "    <tr>\n",
       "      <th>4</th>\n",
       "      <td>Earl Clark</td>\n",
       "      <td>2009</td>\n",
       "      <td>14.0</td>\n",
       "      <td>80.50</td>\n",
       "      <td>82.25</td>\n",
       "      <td>86.50</td>\n",
       "      <td>109.5</td>\n",
       "      <td>33.0</td>\n",
       "      <td>142.5</td>\n",
       "      <td>28.5</td>\n",
       "      <td>138.0</td>\n",
       "      <td>228.0</td>\n",
       "      <td>5.2</td>\n",
       "      <td>NaN</td>\n",
       "      <td>NaN</td>\n",
       "      <td>5.0</td>\n",
       "      <td>11.17</td>\n",
       "      <td>3.35</td>\n",
       "    </tr>\n",
       "    <tr>\n",
       "      <th>...</th>\n",
       "      <td>...</td>\n",
       "      <td>...</td>\n",
       "      <td>...</td>\n",
       "      <td>...</td>\n",
       "      <td>...</td>\n",
       "      <td>...</td>\n",
       "      <td>...</td>\n",
       "      <td>...</td>\n",
       "      <td>...</td>\n",
       "      <td>...</td>\n",
       "      <td>...</td>\n",
       "      <td>...</td>\n",
       "      <td>...</td>\n",
       "      <td>...</td>\n",
       "      <td>...</td>\n",
       "      <td>...</td>\n",
       "      <td>...</td>\n",
       "      <td>...</td>\n",
       "    </tr>\n",
       "    <tr>\n",
       "      <th>512</th>\n",
       "      <td>Peter Jok</td>\n",
       "      <td>2017</td>\n",
       "      <td>NaN</td>\n",
       "      <td>76.25</td>\n",
       "      <td>77.75</td>\n",
       "      <td>80.00</td>\n",
       "      <td>102.0</td>\n",
       "      <td>31.0</td>\n",
       "      <td>133.0</td>\n",
       "      <td>26.5</td>\n",
       "      <td>128.5</td>\n",
       "      <td>202.0</td>\n",
       "      <td>11.0</td>\n",
       "      <td>8.25</td>\n",
       "      <td>9.50</td>\n",
       "      <td>NaN</td>\n",
       "      <td>11.34</td>\n",
       "      <td>3.41</td>\n",
       "    </tr>\n",
       "    <tr>\n",
       "      <th>513</th>\n",
       "      <td>Rawle Alkins</td>\n",
       "      <td>2017</td>\n",
       "      <td>NaN</td>\n",
       "      <td>74.50</td>\n",
       "      <td>75.75</td>\n",
       "      <td>80.75</td>\n",
       "      <td>99.0</td>\n",
       "      <td>40.5</td>\n",
       "      <td>139.5</td>\n",
       "      <td>31.5</td>\n",
       "      <td>130.5</td>\n",
       "      <td>223.0</td>\n",
       "      <td>11.0</td>\n",
       "      <td>8.75</td>\n",
       "      <td>10.00</td>\n",
       "      <td>NaN</td>\n",
       "      <td>11.99</td>\n",
       "      <td>3.30</td>\n",
       "    </tr>\n",
       "    <tr>\n",
       "      <th>514</th>\n",
       "      <td>Sviatoslav Mykhailiuk</td>\n",
       "      <td>2017</td>\n",
       "      <td>NaN</td>\n",
       "      <td>78.50</td>\n",
       "      <td>79.50</td>\n",
       "      <td>77.00</td>\n",
       "      <td>100.0</td>\n",
       "      <td>33.0</td>\n",
       "      <td>133.0</td>\n",
       "      <td>27.0</td>\n",
       "      <td>127.0</td>\n",
       "      <td>220.0</td>\n",
       "      <td>11.4</td>\n",
       "      <td>8.00</td>\n",
       "      <td>9.25</td>\n",
       "      <td>NaN</td>\n",
       "      <td>12.40</td>\n",
       "      <td>3.53</td>\n",
       "    </tr>\n",
       "    <tr>\n",
       "      <th>515</th>\n",
       "      <td>Thomas Welsh</td>\n",
       "      <td>2017</td>\n",
       "      <td>NaN</td>\n",
       "      <td>83.50</td>\n",
       "      <td>84.50</td>\n",
       "      <td>84.00</td>\n",
       "      <td>109.5</td>\n",
       "      <td>NaN</td>\n",
       "      <td>NaN</td>\n",
       "      <td>NaN</td>\n",
       "      <td>NaN</td>\n",
       "      <td>254.0</td>\n",
       "      <td>10.9</td>\n",
       "      <td>9.00</td>\n",
       "      <td>10.50</td>\n",
       "      <td>NaN</td>\n",
       "      <td>NaN</td>\n",
       "      <td>NaN</td>\n",
       "    </tr>\n",
       "    <tr>\n",
       "      <th>516</th>\n",
       "      <td>V.J. Beachem</td>\n",
       "      <td>2017</td>\n",
       "      <td>NaN</td>\n",
       "      <td>78.25</td>\n",
       "      <td>80.00</td>\n",
       "      <td>82.25</td>\n",
       "      <td>104.5</td>\n",
       "      <td>37.0</td>\n",
       "      <td>141.5</td>\n",
       "      <td>30.0</td>\n",
       "      <td>134.5</td>\n",
       "      <td>193.0</td>\n",
       "      <td>6.8</td>\n",
       "      <td>8.50</td>\n",
       "      <td>9.00</td>\n",
       "      <td>NaN</td>\n",
       "      <td>11.18</td>\n",
       "      <td>3.26</td>\n",
       "    </tr>\n",
       "  </tbody>\n",
       "</table>\n",
       "<p>517 rows × 18 columns</p>\n",
       "</div>"
      ],
      "text/plain": [
       "                    Player  Year  Draft pick  Height (No Shoes)  \\\n",
       "0            Blake Griffin  2009         1.0              80.50   \n",
       "1        Terrence Williams  2009        11.0              77.00   \n",
       "2         Gerald Henderson  2009        12.0              76.00   \n",
       "3         Tyler Hansbrough  2009        13.0              80.25   \n",
       "4               Earl Clark  2009        14.0              80.50   \n",
       "..                     ...   ...         ...                ...   \n",
       "512              Peter Jok  2017         NaN              76.25   \n",
       "513           Rawle Alkins  2017         NaN              74.50   \n",
       "514  Sviatoslav Mykhailiuk  2017         NaN              78.50   \n",
       "515           Thomas Welsh  2017         NaN              83.50   \n",
       "516           V.J. Beachem  2017         NaN              78.25   \n",
       "\n",
       "     Height (With Shoes)  Wingspan  Standing reach  Vertical (Max)  \\\n",
       "0                  82.00     83.25           105.0            35.5   \n",
       "1                  78.25     81.00           103.5            37.0   \n",
       "2                  77.00     82.25           102.5            35.0   \n",
       "3                  81.50     83.50           106.0            34.0   \n",
       "4                  82.25     86.50           109.5            33.0   \n",
       "..                   ...       ...             ...             ...   \n",
       "512                77.75     80.00           102.0            31.0   \n",
       "513                75.75     80.75            99.0            40.5   \n",
       "514                79.50     77.00           100.0            33.0   \n",
       "515                84.50     84.00           109.5             NaN   \n",
       "516                80.00     82.25           104.5            37.0   \n",
       "\n",
       "     Vertical (Max Reach)  Vertical (No Step)  Vertical (No Step Reach)  \\\n",
       "0                   140.5                32.0                     137.0   \n",
       "1                   140.5                30.5                     134.0   \n",
       "2                   137.5                31.5                     134.0   \n",
       "3                   140.0                27.5                     133.5   \n",
       "4                   142.5                28.5                     138.0   \n",
       "..                    ...                 ...                       ...   \n",
       "512                 133.0                26.5                     128.5   \n",
       "513                 139.5                31.5                     130.5   \n",
       "514                 133.0                27.0                     127.0   \n",
       "515                   NaN                 NaN                       NaN   \n",
       "516                 141.5                30.0                     134.5   \n",
       "\n",
       "     Weight  Body Fat  Hand (Length)  Hand (Width)  Bench  Agility  Sprint  \n",
       "0     248.0       8.2            NaN           NaN   22.0    10.95    3.28  \n",
       "1     213.0       5.1            NaN           NaN    9.0    11.15    3.18  \n",
       "2     215.0       4.4            NaN           NaN    8.0    11.17    3.14  \n",
       "3     234.0       8.5            NaN           NaN   18.0    11.12    3.27  \n",
       "4     228.0       5.2            NaN           NaN    5.0    11.17    3.35  \n",
       "..      ...       ...            ...           ...    ...      ...     ...  \n",
       "512   202.0      11.0           8.25          9.50    NaN    11.34    3.41  \n",
       "513   223.0      11.0           8.75         10.00    NaN    11.99    3.30  \n",
       "514   220.0      11.4           8.00          9.25    NaN    12.40    3.53  \n",
       "515   254.0      10.9           9.00         10.50    NaN      NaN     NaN  \n",
       "516   193.0       6.8           8.50          9.00    NaN    11.18    3.26  \n",
       "\n",
       "[517 rows x 18 columns]"
      ]
     },
     "execution_count": 169,
     "metadata": {},
     "output_type": "execute_result"
    }
   ],
   "source": [
    "combine_data"
   ]
  },
  {
   "cell_type": "code",
   "execution_count": 170,
   "id": "1ccaae5c",
   "metadata": {},
   "outputs": [],
   "source": [
    "# combine_data = combine_data[combine_data['Draft pick'] != 'NaN']"
   ]
  },
  {
   "cell_type": "code",
   "execution_count": 171,
   "id": "8d0fc832",
   "metadata": {},
   "outputs": [
    {
     "data": {
      "text/plain": [
       "count    384.000000\n",
       "mean      28.492188\n",
       "std       15.888973\n",
       "min        1.000000\n",
       "25%       15.000000\n",
       "50%       28.000000\n",
       "75%       41.000000\n",
       "max       60.000000\n",
       "Name: Draft pick, dtype: float64"
      ]
     },
     "execution_count": 171,
     "metadata": {},
     "output_type": "execute_result"
    }
   ],
   "source": [
    "combine_data['Draft pick'].describe()"
   ]
  },
  {
   "cell_type": "code",
   "execution_count": 172,
   "id": "85f77cb1",
   "metadata": {},
   "outputs": [],
   "source": [
    "combine_data = combine_data.dropna(subset=['Draft pick'])"
   ]
  },
  {
   "cell_type": "code",
   "execution_count": 173,
   "id": "1b3a24e7",
   "metadata": {},
   "outputs": [
    {
     "data": {
      "text/html": [
       "<div>\n",
       "<style scoped>\n",
       "    .dataframe tbody tr th:only-of-type {\n",
       "        vertical-align: middle;\n",
       "    }\n",
       "\n",
       "    .dataframe tbody tr th {\n",
       "        vertical-align: top;\n",
       "    }\n",
       "\n",
       "    .dataframe thead th {\n",
       "        text-align: right;\n",
       "    }\n",
       "</style>\n",
       "<table border=\"1\" class=\"dataframe\">\n",
       "  <thead>\n",
       "    <tr style=\"text-align: right;\">\n",
       "      <th></th>\n",
       "      <th>Player</th>\n",
       "      <th>Year</th>\n",
       "      <th>Draft pick</th>\n",
       "      <th>Height (No Shoes)</th>\n",
       "      <th>Height (With Shoes)</th>\n",
       "      <th>Wingspan</th>\n",
       "      <th>Standing reach</th>\n",
       "      <th>Vertical (Max)</th>\n",
       "      <th>Vertical (Max Reach)</th>\n",
       "      <th>Vertical (No Step)</th>\n",
       "      <th>Vertical (No Step Reach)</th>\n",
       "      <th>Weight</th>\n",
       "      <th>Body Fat</th>\n",
       "      <th>Hand (Length)</th>\n",
       "      <th>Hand (Width)</th>\n",
       "      <th>Bench</th>\n",
       "      <th>Agility</th>\n",
       "      <th>Sprint</th>\n",
       "    </tr>\n",
       "  </thead>\n",
       "  <tbody>\n",
       "    <tr>\n",
       "      <th>0</th>\n",
       "      <td>Blake Griffin</td>\n",
       "      <td>2009</td>\n",
       "      <td>1.0</td>\n",
       "      <td>80.50</td>\n",
       "      <td>82.00</td>\n",
       "      <td>83.25</td>\n",
       "      <td>105.0</td>\n",
       "      <td>35.5</td>\n",
       "      <td>140.5</td>\n",
       "      <td>32.0</td>\n",
       "      <td>137.0</td>\n",
       "      <td>248.0</td>\n",
       "      <td>8.2</td>\n",
       "      <td>NaN</td>\n",
       "      <td>NaN</td>\n",
       "      <td>22.0</td>\n",
       "      <td>10.95</td>\n",
       "      <td>3.28</td>\n",
       "    </tr>\n",
       "    <tr>\n",
       "      <th>1</th>\n",
       "      <td>Terrence Williams</td>\n",
       "      <td>2009</td>\n",
       "      <td>11.0</td>\n",
       "      <td>77.00</td>\n",
       "      <td>78.25</td>\n",
       "      <td>81.00</td>\n",
       "      <td>103.5</td>\n",
       "      <td>37.0</td>\n",
       "      <td>140.5</td>\n",
       "      <td>30.5</td>\n",
       "      <td>134.0</td>\n",
       "      <td>213.0</td>\n",
       "      <td>5.1</td>\n",
       "      <td>NaN</td>\n",
       "      <td>NaN</td>\n",
       "      <td>9.0</td>\n",
       "      <td>11.15</td>\n",
       "      <td>3.18</td>\n",
       "    </tr>\n",
       "    <tr>\n",
       "      <th>2</th>\n",
       "      <td>Gerald Henderson</td>\n",
       "      <td>2009</td>\n",
       "      <td>12.0</td>\n",
       "      <td>76.00</td>\n",
       "      <td>77.00</td>\n",
       "      <td>82.25</td>\n",
       "      <td>102.5</td>\n",
       "      <td>35.0</td>\n",
       "      <td>137.5</td>\n",
       "      <td>31.5</td>\n",
       "      <td>134.0</td>\n",
       "      <td>215.0</td>\n",
       "      <td>4.4</td>\n",
       "      <td>NaN</td>\n",
       "      <td>NaN</td>\n",
       "      <td>8.0</td>\n",
       "      <td>11.17</td>\n",
       "      <td>3.14</td>\n",
       "    </tr>\n",
       "    <tr>\n",
       "      <th>3</th>\n",
       "      <td>Tyler Hansbrough</td>\n",
       "      <td>2009</td>\n",
       "      <td>13.0</td>\n",
       "      <td>80.25</td>\n",
       "      <td>81.50</td>\n",
       "      <td>83.50</td>\n",
       "      <td>106.0</td>\n",
       "      <td>34.0</td>\n",
       "      <td>140.0</td>\n",
       "      <td>27.5</td>\n",
       "      <td>133.5</td>\n",
       "      <td>234.0</td>\n",
       "      <td>8.5</td>\n",
       "      <td>NaN</td>\n",
       "      <td>NaN</td>\n",
       "      <td>18.0</td>\n",
       "      <td>11.12</td>\n",
       "      <td>3.27</td>\n",
       "    </tr>\n",
       "    <tr>\n",
       "      <th>4</th>\n",
       "      <td>Earl Clark</td>\n",
       "      <td>2009</td>\n",
       "      <td>14.0</td>\n",
       "      <td>80.50</td>\n",
       "      <td>82.25</td>\n",
       "      <td>86.50</td>\n",
       "      <td>109.5</td>\n",
       "      <td>33.0</td>\n",
       "      <td>142.5</td>\n",
       "      <td>28.5</td>\n",
       "      <td>138.0</td>\n",
       "      <td>228.0</td>\n",
       "      <td>5.2</td>\n",
       "      <td>NaN</td>\n",
       "      <td>NaN</td>\n",
       "      <td>5.0</td>\n",
       "      <td>11.17</td>\n",
       "      <td>3.35</td>\n",
       "    </tr>\n",
       "    <tr>\n",
       "      <th>...</th>\n",
       "      <td>...</td>\n",
       "      <td>...</td>\n",
       "      <td>...</td>\n",
       "      <td>...</td>\n",
       "      <td>...</td>\n",
       "      <td>...</td>\n",
       "      <td>...</td>\n",
       "      <td>...</td>\n",
       "      <td>...</td>\n",
       "      <td>...</td>\n",
       "      <td>...</td>\n",
       "      <td>...</td>\n",
       "      <td>...</td>\n",
       "      <td>...</td>\n",
       "      <td>...</td>\n",
       "      <td>...</td>\n",
       "      <td>...</td>\n",
       "      <td>...</td>\n",
       "    </tr>\n",
       "    <tr>\n",
       "      <th>489</th>\n",
       "      <td>Monte Morris</td>\n",
       "      <td>2017</td>\n",
       "      <td>51.0</td>\n",
       "      <td>73.25</td>\n",
       "      <td>74.50</td>\n",
       "      <td>76.00</td>\n",
       "      <td>96.5</td>\n",
       "      <td>33.5</td>\n",
       "      <td>130.0</td>\n",
       "      <td>28.0</td>\n",
       "      <td>124.5</td>\n",
       "      <td>175.0</td>\n",
       "      <td>6.9</td>\n",
       "      <td>8.25</td>\n",
       "      <td>8.75</td>\n",
       "      <td>NaN</td>\n",
       "      <td>11.00</td>\n",
       "      <td>3.19</td>\n",
       "    </tr>\n",
       "    <tr>\n",
       "      <th>490</th>\n",
       "      <td>Edmond Sumner</td>\n",
       "      <td>2017</td>\n",
       "      <td>52.0</td>\n",
       "      <td>76.00</td>\n",
       "      <td>77.75</td>\n",
       "      <td>81.00</td>\n",
       "      <td>102.5</td>\n",
       "      <td>NaN</td>\n",
       "      <td>NaN</td>\n",
       "      <td>NaN</td>\n",
       "      <td>NaN</td>\n",
       "      <td>176.0</td>\n",
       "      <td>8.3</td>\n",
       "      <td>8.25</td>\n",
       "      <td>9.00</td>\n",
       "      <td>NaN</td>\n",
       "      <td>NaN</td>\n",
       "      <td>NaN</td>\n",
       "    </tr>\n",
       "    <tr>\n",
       "      <th>491</th>\n",
       "      <td>Kadeem Allen</td>\n",
       "      <td>2017</td>\n",
       "      <td>53.0</td>\n",
       "      <td>73.00</td>\n",
       "      <td>74.25</td>\n",
       "      <td>81.25</td>\n",
       "      <td>99.5</td>\n",
       "      <td>35.5</td>\n",
       "      <td>135.0</td>\n",
       "      <td>33.0</td>\n",
       "      <td>132.5</td>\n",
       "      <td>192.0</td>\n",
       "      <td>6.4</td>\n",
       "      <td>8.50</td>\n",
       "      <td>8.75</td>\n",
       "      <td>NaN</td>\n",
       "      <td>11.24</td>\n",
       "      <td>3.15</td>\n",
       "    </tr>\n",
       "    <tr>\n",
       "      <th>492</th>\n",
       "      <td>Alec Peters</td>\n",
       "      <td>2017</td>\n",
       "      <td>54.0</td>\n",
       "      <td>79.25</td>\n",
       "      <td>80.75</td>\n",
       "      <td>82.75</td>\n",
       "      <td>105.0</td>\n",
       "      <td>NaN</td>\n",
       "      <td>NaN</td>\n",
       "      <td>NaN</td>\n",
       "      <td>NaN</td>\n",
       "      <td>232.0</td>\n",
       "      <td>8.8</td>\n",
       "      <td>8.75</td>\n",
       "      <td>10.00</td>\n",
       "      <td>NaN</td>\n",
       "      <td>NaN</td>\n",
       "      <td>NaN</td>\n",
       "    </tr>\n",
       "    <tr>\n",
       "      <th>493</th>\n",
       "      <td>Nigel Williams-Goss</td>\n",
       "      <td>2017</td>\n",
       "      <td>55.0</td>\n",
       "      <td>73.50</td>\n",
       "      <td>75.00</td>\n",
       "      <td>79.25</td>\n",
       "      <td>99.0</td>\n",
       "      <td>34.5</td>\n",
       "      <td>133.5</td>\n",
       "      <td>27.5</td>\n",
       "      <td>126.5</td>\n",
       "      <td>190.0</td>\n",
       "      <td>5.6</td>\n",
       "      <td>8.75</td>\n",
       "      <td>9.25</td>\n",
       "      <td>NaN</td>\n",
       "      <td>10.42</td>\n",
       "      <td>3.19</td>\n",
       "    </tr>\n",
       "  </tbody>\n",
       "</table>\n",
       "<p>384 rows × 18 columns</p>\n",
       "</div>"
      ],
      "text/plain": [
       "                  Player  Year  Draft pick  Height (No Shoes)  \\\n",
       "0          Blake Griffin  2009         1.0              80.50   \n",
       "1      Terrence Williams  2009        11.0              77.00   \n",
       "2       Gerald Henderson  2009        12.0              76.00   \n",
       "3       Tyler Hansbrough  2009        13.0              80.25   \n",
       "4             Earl Clark  2009        14.0              80.50   \n",
       "..                   ...   ...         ...                ...   \n",
       "489         Monte Morris  2017        51.0              73.25   \n",
       "490        Edmond Sumner  2017        52.0              76.00   \n",
       "491         Kadeem Allen  2017        53.0              73.00   \n",
       "492          Alec Peters  2017        54.0              79.25   \n",
       "493  Nigel Williams-Goss  2017        55.0              73.50   \n",
       "\n",
       "     Height (With Shoes)  Wingspan  Standing reach  Vertical (Max)  \\\n",
       "0                  82.00     83.25           105.0            35.5   \n",
       "1                  78.25     81.00           103.5            37.0   \n",
       "2                  77.00     82.25           102.5            35.0   \n",
       "3                  81.50     83.50           106.0            34.0   \n",
       "4                  82.25     86.50           109.5            33.0   \n",
       "..                   ...       ...             ...             ...   \n",
       "489                74.50     76.00            96.5            33.5   \n",
       "490                77.75     81.00           102.5             NaN   \n",
       "491                74.25     81.25            99.5            35.5   \n",
       "492                80.75     82.75           105.0             NaN   \n",
       "493                75.00     79.25            99.0            34.5   \n",
       "\n",
       "     Vertical (Max Reach)  Vertical (No Step)  Vertical (No Step Reach)  \\\n",
       "0                   140.5                32.0                     137.0   \n",
       "1                   140.5                30.5                     134.0   \n",
       "2                   137.5                31.5                     134.0   \n",
       "3                   140.0                27.5                     133.5   \n",
       "4                   142.5                28.5                     138.0   \n",
       "..                    ...                 ...                       ...   \n",
       "489                 130.0                28.0                     124.5   \n",
       "490                   NaN                 NaN                       NaN   \n",
       "491                 135.0                33.0                     132.5   \n",
       "492                   NaN                 NaN                       NaN   \n",
       "493                 133.5                27.5                     126.5   \n",
       "\n",
       "     Weight  Body Fat  Hand (Length)  Hand (Width)  Bench  Agility  Sprint  \n",
       "0     248.0       8.2            NaN           NaN   22.0    10.95    3.28  \n",
       "1     213.0       5.1            NaN           NaN    9.0    11.15    3.18  \n",
       "2     215.0       4.4            NaN           NaN    8.0    11.17    3.14  \n",
       "3     234.0       8.5            NaN           NaN   18.0    11.12    3.27  \n",
       "4     228.0       5.2            NaN           NaN    5.0    11.17    3.35  \n",
       "..      ...       ...            ...           ...    ...      ...     ...  \n",
       "489   175.0       6.9           8.25          8.75    NaN    11.00    3.19  \n",
       "490   176.0       8.3           8.25          9.00    NaN      NaN     NaN  \n",
       "491   192.0       6.4           8.50          8.75    NaN    11.24    3.15  \n",
       "492   232.0       8.8           8.75         10.00    NaN      NaN     NaN  \n",
       "493   190.0       5.6           8.75          9.25    NaN    10.42    3.19  \n",
       "\n",
       "[384 rows x 18 columns]"
      ]
     },
     "execution_count": 173,
     "metadata": {},
     "output_type": "execute_result"
    }
   ],
   "source": [
    "combine_data"
   ]
  },
  {
   "cell_type": "code",
   "execution_count": 174,
   "id": "4fab61b9",
   "metadata": {},
   "outputs": [
    {
     "name": "stderr",
     "output_type": "stream",
     "text": [
      "/var/folders/rj/xbh3qs3113570m39p4g31bth0000gp/T/ipykernel_81852/1938125176.py:1: FutureWarning: The default value of numeric_only in DataFrame.mean is deprecated. In a future version, it will default to False. In addition, specifying 'numeric_only=None' is deprecated. Select only valid columns or specify the value of numeric_only to silence this warning.\n",
      "  combine_data = combine_data.fillna(combine_data.mean())\n"
     ]
    }
   ],
   "source": [
    "combine_data = combine_data.fillna(combine_data.mean())"
   ]
  },
  {
   "cell_type": "code",
   "execution_count": 175,
   "id": "5308cd21",
   "metadata": {},
   "outputs": [
    {
     "data": {
      "text/plain": [
       "Index(['Player', 'Year', 'Draft pick', 'Height (No Shoes)',\n",
       "       'Height (With Shoes)', 'Wingspan', 'Standing reach', 'Vertical (Max)',\n",
       "       'Vertical (Max Reach)', 'Vertical (No Step)',\n",
       "       'Vertical (No Step Reach)', 'Weight', 'Body Fat', 'Hand (Length)',\n",
       "       'Hand (Width)', 'Bench', 'Agility', 'Sprint'],\n",
       "      dtype='object')"
      ]
     },
     "execution_count": 175,
     "metadata": {},
     "output_type": "execute_result"
    }
   ],
   "source": [
    "combine_data.columns"
   ]
  },
  {
   "cell_type": "code",
   "execution_count": null,
   "id": "4bc58be4",
   "metadata": {},
   "outputs": [],
   "source": []
  },
  {
   "cell_type": "code",
   "execution_count": 176,
   "id": "ffd0cc79",
   "metadata": {},
   "outputs": [
    {
     "data": {
      "text/plain": [
       "Index(['Player', 'Year', 'Draft pick', 'Height (No Shoes)',\n",
       "       'Height (With Shoes)', 'Wingspan', 'Standing reach', 'Vertical (Max)',\n",
       "       'Vertical (Max Reach)', 'Vertical (No Step)',\n",
       "       'Vertical (No Step Reach)', 'Weight', 'Body Fat', 'Hand (Length)',\n",
       "       'Hand (Width)', 'Bench', 'Agility', 'Sprint'],\n",
       "      dtype='object')"
      ]
     },
     "execution_count": 176,
     "metadata": {},
     "output_type": "execute_result"
    }
   ],
   "source": [
    "combine_data.columns"
   ]
  },
  {
   "cell_type": "code",
   "execution_count": 177,
   "id": "680ea541",
   "metadata": {},
   "outputs": [],
   "source": [
    "features = ['Height (With Shoes)', 'Wingspan',\n",
    "       'Standing reach', 'Vertical (Max)', 'Vertical (Max Reach)',\n",
    "       'Vertical (No Step)', 'Vertical (No Step Reach)', 'Weight', 'Body Fat',\n",
    "       'Hand (Length)', 'Hand (Width)', 'Bench', 'Agility', 'Sprint']\n",
    "X = combine_data[features]"
   ]
  },
  {
   "cell_type": "code",
   "execution_count": 178,
   "id": "179486ec",
   "metadata": {},
   "outputs": [],
   "source": [
    "y = combine_data['Draft pick']"
   ]
  },
  {
   "cell_type": "code",
   "execution_count": 179,
   "id": "fe5e1a09",
   "metadata": {},
   "outputs": [
    {
     "data": {
      "text/plain": [
       "(384, 14)"
      ]
     },
     "execution_count": 179,
     "metadata": {},
     "output_type": "execute_result"
    }
   ],
   "source": [
    "X.shape"
   ]
  },
  {
   "cell_type": "code",
   "execution_count": 180,
   "id": "30b0cbff",
   "metadata": {},
   "outputs": [
    {
     "data": {
      "text/plain": [
       "(384,)"
      ]
     },
     "execution_count": 180,
     "metadata": {},
     "output_type": "execute_result"
    }
   ],
   "source": [
    "y.shape"
   ]
  },
  {
   "cell_type": "code",
   "execution_count": 181,
   "id": "9b24cb38",
   "metadata": {},
   "outputs": [],
   "source": [
    "x_train, x_test, y_train, y_test = train_test_split(X, y, test_size = 0.2)"
   ]
  },
  {
   "cell_type": "code",
   "execution_count": 182,
   "id": "e794b1a4",
   "metadata": {},
   "outputs": [
    {
     "data": {
      "text/plain": [
       "488     5.0\n",
       "215    13.0\n",
       "291    35.0\n",
       "71     34.0\n",
       "313    60.0\n",
       "       ... \n",
       "426     5.0\n",
       "420    41.0\n",
       "493    55.0\n",
       "163    21.0\n",
       "342    19.0\n",
       "Name: Draft pick, Length: 307, dtype: float64"
      ]
     },
     "execution_count": 182,
     "metadata": {},
     "output_type": "execute_result"
    }
   ],
   "source": [
    "clf = DecisionTreeRegressor()\n",
    "y_train"
   ]
  },
  {
   "cell_type": "code",
   "execution_count": 183,
   "id": "da53d954",
   "metadata": {},
   "outputs": [
    {
     "data": {
      "text/html": [
       "<style>#sk-container-id-21 {color: black;background-color: white;}#sk-container-id-21 pre{padding: 0;}#sk-container-id-21 div.sk-toggleable {background-color: white;}#sk-container-id-21 label.sk-toggleable__label {cursor: pointer;display: block;width: 100%;margin-bottom: 0;padding: 0.3em;box-sizing: border-box;text-align: center;}#sk-container-id-21 label.sk-toggleable__label-arrow:before {content: \"▸\";float: left;margin-right: 0.25em;color: #696969;}#sk-container-id-21 label.sk-toggleable__label-arrow:hover:before {color: black;}#sk-container-id-21 div.sk-estimator:hover label.sk-toggleable__label-arrow:before {color: black;}#sk-container-id-21 div.sk-toggleable__content {max-height: 0;max-width: 0;overflow: hidden;text-align: left;background-color: #f0f8ff;}#sk-container-id-21 div.sk-toggleable__content pre {margin: 0.2em;color: black;border-radius: 0.25em;background-color: #f0f8ff;}#sk-container-id-21 input.sk-toggleable__control:checked~div.sk-toggleable__content {max-height: 200px;max-width: 100%;overflow: auto;}#sk-container-id-21 input.sk-toggleable__control:checked~label.sk-toggleable__label-arrow:before {content: \"▾\";}#sk-container-id-21 div.sk-estimator input.sk-toggleable__control:checked~label.sk-toggleable__label {background-color: #d4ebff;}#sk-container-id-21 div.sk-label input.sk-toggleable__control:checked~label.sk-toggleable__label {background-color: #d4ebff;}#sk-container-id-21 input.sk-hidden--visually {border: 0;clip: rect(1px 1px 1px 1px);clip: rect(1px, 1px, 1px, 1px);height: 1px;margin: -1px;overflow: hidden;padding: 0;position: absolute;width: 1px;}#sk-container-id-21 div.sk-estimator {font-family: monospace;background-color: #f0f8ff;border: 1px dotted black;border-radius: 0.25em;box-sizing: border-box;margin-bottom: 0.5em;}#sk-container-id-21 div.sk-estimator:hover {background-color: #d4ebff;}#sk-container-id-21 div.sk-parallel-item::after {content: \"\";width: 100%;border-bottom: 1px solid gray;flex-grow: 1;}#sk-container-id-21 div.sk-label:hover label.sk-toggleable__label {background-color: #d4ebff;}#sk-container-id-21 div.sk-serial::before {content: \"\";position: absolute;border-left: 1px solid gray;box-sizing: border-box;top: 0;bottom: 0;left: 50%;z-index: 0;}#sk-container-id-21 div.sk-serial {display: flex;flex-direction: column;align-items: center;background-color: white;padding-right: 0.2em;padding-left: 0.2em;position: relative;}#sk-container-id-21 div.sk-item {position: relative;z-index: 1;}#sk-container-id-21 div.sk-parallel {display: flex;align-items: stretch;justify-content: center;background-color: white;position: relative;}#sk-container-id-21 div.sk-item::before, #sk-container-id-21 div.sk-parallel-item::before {content: \"\";position: absolute;border-left: 1px solid gray;box-sizing: border-box;top: 0;bottom: 0;left: 50%;z-index: -1;}#sk-container-id-21 div.sk-parallel-item {display: flex;flex-direction: column;z-index: 1;position: relative;background-color: white;}#sk-container-id-21 div.sk-parallel-item:first-child::after {align-self: flex-end;width: 50%;}#sk-container-id-21 div.sk-parallel-item:last-child::after {align-self: flex-start;width: 50%;}#sk-container-id-21 div.sk-parallel-item:only-child::after {width: 0;}#sk-container-id-21 div.sk-dashed-wrapped {border: 1px dashed gray;margin: 0 0.4em 0.5em 0.4em;box-sizing: border-box;padding-bottom: 0.4em;background-color: white;}#sk-container-id-21 div.sk-label label {font-family: monospace;font-weight: bold;display: inline-block;line-height: 1.2em;}#sk-container-id-21 div.sk-label-container {text-align: center;}#sk-container-id-21 div.sk-container {/* jupyter's `normalize.less` sets `[hidden] { display: none; }` but bootstrap.min.css set `[hidden] { display: none !important; }` so we also need the `!important` here to be able to override the default hidden behavior on the sphinx rendered scikit-learn.org. See: https://github.com/scikit-learn/scikit-learn/issues/21755 */display: inline-block !important;position: relative;}#sk-container-id-21 div.sk-text-repr-fallback {display: none;}</style><div id=\"sk-container-id-21\" class=\"sk-top-container\"><div class=\"sk-text-repr-fallback\"><pre>DecisionTreeRegressor()</pre><b>In a Jupyter environment, please rerun this cell to show the HTML representation or trust the notebook. <br />On GitHub, the HTML representation is unable to render, please try loading this page with nbviewer.org.</b></div><div class=\"sk-container\" hidden><div class=\"sk-item\"><div class=\"sk-estimator sk-toggleable\"><input class=\"sk-toggleable__control sk-hidden--visually\" id=\"sk-estimator-id-21\" type=\"checkbox\" checked><label for=\"sk-estimator-id-21\" class=\"sk-toggleable__label sk-toggleable__label-arrow\">DecisionTreeRegressor</label><div class=\"sk-toggleable__content\"><pre>DecisionTreeRegressor()</pre></div></div></div></div></div>"
      ],
      "text/plain": [
       "DecisionTreeRegressor()"
      ]
     },
     "execution_count": 183,
     "metadata": {},
     "output_type": "execute_result"
    }
   ],
   "source": [
    "clf.fit(x_train, y_train)"
   ]
  },
  {
   "cell_type": "code",
   "execution_count": 184,
   "id": "bc0b8b74",
   "metadata": {},
   "outputs": [],
   "source": [
    "y_pred = clf.predict(x_test)"
   ]
  },
  {
   "cell_type": "code",
   "execution_count": 185,
   "id": "8d7121db",
   "metadata": {},
   "outputs": [
    {
     "data": {
      "text/plain": [
       "0.025974025974025976"
      ]
     },
     "execution_count": 185,
     "metadata": {},
     "output_type": "execute_result"
    }
   ],
   "source": [
    "accuracy_score(y_pred, y_test)"
   ]
  },
  {
   "cell_type": "code",
   "execution_count": 186,
   "id": "54dc782a",
   "metadata": {},
   "outputs": [],
   "source": [
    "from sklearn.linear_model import LinearRegression"
   ]
  },
  {
   "cell_type": "code",
   "execution_count": 187,
   "id": "b84dd317",
   "metadata": {},
   "outputs": [],
   "source": [
    "lin_reg = LinearRegression()"
   ]
  },
  {
   "cell_type": "code",
   "execution_count": 188,
   "id": "f651a1af",
   "metadata": {},
   "outputs": [
    {
     "data": {
      "text/html": [
       "<style>#sk-container-id-22 {color: black;background-color: white;}#sk-container-id-22 pre{padding: 0;}#sk-container-id-22 div.sk-toggleable {background-color: white;}#sk-container-id-22 label.sk-toggleable__label {cursor: pointer;display: block;width: 100%;margin-bottom: 0;padding: 0.3em;box-sizing: border-box;text-align: center;}#sk-container-id-22 label.sk-toggleable__label-arrow:before {content: \"▸\";float: left;margin-right: 0.25em;color: #696969;}#sk-container-id-22 label.sk-toggleable__label-arrow:hover:before {color: black;}#sk-container-id-22 div.sk-estimator:hover label.sk-toggleable__label-arrow:before {color: black;}#sk-container-id-22 div.sk-toggleable__content {max-height: 0;max-width: 0;overflow: hidden;text-align: left;background-color: #f0f8ff;}#sk-container-id-22 div.sk-toggleable__content pre {margin: 0.2em;color: black;border-radius: 0.25em;background-color: #f0f8ff;}#sk-container-id-22 input.sk-toggleable__control:checked~div.sk-toggleable__content {max-height: 200px;max-width: 100%;overflow: auto;}#sk-container-id-22 input.sk-toggleable__control:checked~label.sk-toggleable__label-arrow:before {content: \"▾\";}#sk-container-id-22 div.sk-estimator input.sk-toggleable__control:checked~label.sk-toggleable__label {background-color: #d4ebff;}#sk-container-id-22 div.sk-label input.sk-toggleable__control:checked~label.sk-toggleable__label {background-color: #d4ebff;}#sk-container-id-22 input.sk-hidden--visually {border: 0;clip: rect(1px 1px 1px 1px);clip: rect(1px, 1px, 1px, 1px);height: 1px;margin: -1px;overflow: hidden;padding: 0;position: absolute;width: 1px;}#sk-container-id-22 div.sk-estimator {font-family: monospace;background-color: #f0f8ff;border: 1px dotted black;border-radius: 0.25em;box-sizing: border-box;margin-bottom: 0.5em;}#sk-container-id-22 div.sk-estimator:hover {background-color: #d4ebff;}#sk-container-id-22 div.sk-parallel-item::after {content: \"\";width: 100%;border-bottom: 1px solid gray;flex-grow: 1;}#sk-container-id-22 div.sk-label:hover label.sk-toggleable__label {background-color: #d4ebff;}#sk-container-id-22 div.sk-serial::before {content: \"\";position: absolute;border-left: 1px solid gray;box-sizing: border-box;top: 0;bottom: 0;left: 50%;z-index: 0;}#sk-container-id-22 div.sk-serial {display: flex;flex-direction: column;align-items: center;background-color: white;padding-right: 0.2em;padding-left: 0.2em;position: relative;}#sk-container-id-22 div.sk-item {position: relative;z-index: 1;}#sk-container-id-22 div.sk-parallel {display: flex;align-items: stretch;justify-content: center;background-color: white;position: relative;}#sk-container-id-22 div.sk-item::before, #sk-container-id-22 div.sk-parallel-item::before {content: \"\";position: absolute;border-left: 1px solid gray;box-sizing: border-box;top: 0;bottom: 0;left: 50%;z-index: -1;}#sk-container-id-22 div.sk-parallel-item {display: flex;flex-direction: column;z-index: 1;position: relative;background-color: white;}#sk-container-id-22 div.sk-parallel-item:first-child::after {align-self: flex-end;width: 50%;}#sk-container-id-22 div.sk-parallel-item:last-child::after {align-self: flex-start;width: 50%;}#sk-container-id-22 div.sk-parallel-item:only-child::after {width: 0;}#sk-container-id-22 div.sk-dashed-wrapped {border: 1px dashed gray;margin: 0 0.4em 0.5em 0.4em;box-sizing: border-box;padding-bottom: 0.4em;background-color: white;}#sk-container-id-22 div.sk-label label {font-family: monospace;font-weight: bold;display: inline-block;line-height: 1.2em;}#sk-container-id-22 div.sk-label-container {text-align: center;}#sk-container-id-22 div.sk-container {/* jupyter's `normalize.less` sets `[hidden] { display: none; }` but bootstrap.min.css set `[hidden] { display: none !important; }` so we also need the `!important` here to be able to override the default hidden behavior on the sphinx rendered scikit-learn.org. See: https://github.com/scikit-learn/scikit-learn/issues/21755 */display: inline-block !important;position: relative;}#sk-container-id-22 div.sk-text-repr-fallback {display: none;}</style><div id=\"sk-container-id-22\" class=\"sk-top-container\"><div class=\"sk-text-repr-fallback\"><pre>LinearRegression()</pre><b>In a Jupyter environment, please rerun this cell to show the HTML representation or trust the notebook. <br />On GitHub, the HTML representation is unable to render, please try loading this page with nbviewer.org.</b></div><div class=\"sk-container\" hidden><div class=\"sk-item\"><div class=\"sk-estimator sk-toggleable\"><input class=\"sk-toggleable__control sk-hidden--visually\" id=\"sk-estimator-id-22\" type=\"checkbox\" checked><label for=\"sk-estimator-id-22\" class=\"sk-toggleable__label sk-toggleable__label-arrow\">LinearRegression</label><div class=\"sk-toggleable__content\"><pre>LinearRegression()</pre></div></div></div></div></div>"
      ],
      "text/plain": [
       "LinearRegression()"
      ]
     },
     "execution_count": 188,
     "metadata": {},
     "output_type": "execute_result"
    }
   ],
   "source": [
    "lin_reg.fit(x_train, y_train)"
   ]
  },
  {
   "cell_type": "code",
   "execution_count": 189,
   "id": "febae34b",
   "metadata": {},
   "outputs": [],
   "source": [
    "y_pred = lin_reg.predict(x_test)"
   ]
  },
  {
   "cell_type": "code",
   "execution_count": 190,
   "id": "a5c0dff9",
   "metadata": {},
   "outputs": [
    {
     "data": {
      "text/plain": [
       "267.87278693829614"
      ]
     },
     "execution_count": 190,
     "metadata": {},
     "output_type": "execute_result"
    }
   ],
   "source": [
    "mean_squared_error(y_test, y_pred)"
   ]
  },
  {
   "cell_type": "code",
   "execution_count": 191,
   "id": "88add618",
   "metadata": {},
   "outputs": [],
   "source": [
    "from sklearn.metrics import r2_score\n",
    "r2 = r2_score(y_test, y_pred)"
   ]
  },
  {
   "cell_type": "code",
   "execution_count": 192,
   "id": "f59e9877",
   "metadata": {},
   "outputs": [
    {
     "data": {
      "text/plain": [
       "-0.1745539479400482"
      ]
     },
     "execution_count": 192,
     "metadata": {},
     "output_type": "execute_result"
    }
   ],
   "source": [
    "r2"
   ]
  },
  {
   "cell_type": "code",
   "execution_count": 193,
   "id": "b47013b6",
   "metadata": {},
   "outputs": [
    {
     "data": {
      "text/plain": [
       "array([ 0.60261692,  0.03066345, -0.51076377, -7.50959996,  7.48970714,\n",
       "        8.02913441, -7.95168782, -0.18636788,  1.1504941 , -1.57644749,\n",
       "        0.3049134 ,  0.4253524 ,  4.74365441, 22.90669041])"
      ]
     },
     "execution_count": 193,
     "metadata": {},
     "output_type": "execute_result"
    }
   ],
   "source": [
    "lin_reg.coef_"
   ]
  },
  {
   "cell_type": "code",
   "execution_count": 194,
   "id": "5c5d83d5",
   "metadata": {},
   "outputs": [
    {
     "data": {
      "text/plain": [
       "6"
      ]
     },
     "execution_count": 194,
     "metadata": {},
     "output_type": "execute_result"
    }
   ],
   "source": [
    "a = np.argmin(lin_reg.coef_)\n",
    "a"
   ]
  },
  {
   "cell_type": "code",
   "execution_count": 195,
   "id": "17a9023b",
   "metadata": {},
   "outputs": [
    {
     "data": {
      "text/plain": [
       "'Vertical (No Step Reach)'"
      ]
     },
     "execution_count": 195,
     "metadata": {},
     "output_type": "execute_result"
    }
   ],
   "source": [
    "features[np.argmin(lin_reg.coef_)]"
   ]
  },
  {
   "cell_type": "code",
   "execution_count": 196,
   "id": "a2c5246a",
   "metadata": {},
   "outputs": [],
   "source": [
    "# features[np.argmax(lin_reg.coef_)]"
   ]
  },
  {
   "cell_type": "code",
   "execution_count": 197,
   "id": "e8f4556e",
   "metadata": {},
   "outputs": [
    {
     "name": "stdout",
     "output_type": "stream",
     "text": [
      "[8, 12, 4, 5, 13]\n"
     ]
    }
   ],
   "source": [
    "max_indices = list(np.argsort(lin_reg.coef_)[-5:])\n",
    "print(max_indices)"
   ]
  },
  {
   "cell_type": "code",
   "execution_count": 198,
   "id": "8cbc15b9",
   "metadata": {},
   "outputs": [],
   "source": [
    "# for i in max_indices:\n",
    "#     print(features[i])\n",
    "features = np.array(features)"
   ]
  },
  {
   "cell_type": "code",
   "execution_count": 199,
   "id": "4e71de7b",
   "metadata": {},
   "outputs": [],
   "source": [
    "imp_features = features[max_indices]"
   ]
  },
  {
   "cell_type": "code",
   "execution_count": 200,
   "id": "dcb96613",
   "metadata": {},
   "outputs": [
    {
     "data": {
      "text/plain": [
       "(384,)"
      ]
     },
     "execution_count": 200,
     "metadata": {},
     "output_type": "execute_result"
    }
   ],
   "source": [
    "X = combine_data[imp_features]\n",
    "y = combine_data['Draft pick']\n",
    "\n",
    "X.shape\n",
    "y.shape"
   ]
  },
  {
   "cell_type": "code",
   "execution_count": 201,
   "id": "e3494cf5",
   "metadata": {},
   "outputs": [],
   "source": [
    "x_train, x_test, y_train, y_test = train_test_split(X, y, test_size = 0.2)"
   ]
  },
  {
   "cell_type": "code",
   "execution_count": 202,
   "id": "79b8ca10",
   "metadata": {},
   "outputs": [
    {
     "data": {
      "text/html": [
       "<style>#sk-container-id-23 {color: black;background-color: white;}#sk-container-id-23 pre{padding: 0;}#sk-container-id-23 div.sk-toggleable {background-color: white;}#sk-container-id-23 label.sk-toggleable__label {cursor: pointer;display: block;width: 100%;margin-bottom: 0;padding: 0.3em;box-sizing: border-box;text-align: center;}#sk-container-id-23 label.sk-toggleable__label-arrow:before {content: \"▸\";float: left;margin-right: 0.25em;color: #696969;}#sk-container-id-23 label.sk-toggleable__label-arrow:hover:before {color: black;}#sk-container-id-23 div.sk-estimator:hover label.sk-toggleable__label-arrow:before {color: black;}#sk-container-id-23 div.sk-toggleable__content {max-height: 0;max-width: 0;overflow: hidden;text-align: left;background-color: #f0f8ff;}#sk-container-id-23 div.sk-toggleable__content pre {margin: 0.2em;color: black;border-radius: 0.25em;background-color: #f0f8ff;}#sk-container-id-23 input.sk-toggleable__control:checked~div.sk-toggleable__content {max-height: 200px;max-width: 100%;overflow: auto;}#sk-container-id-23 input.sk-toggleable__control:checked~label.sk-toggleable__label-arrow:before {content: \"▾\";}#sk-container-id-23 div.sk-estimator input.sk-toggleable__control:checked~label.sk-toggleable__label {background-color: #d4ebff;}#sk-container-id-23 div.sk-label input.sk-toggleable__control:checked~label.sk-toggleable__label {background-color: #d4ebff;}#sk-container-id-23 input.sk-hidden--visually {border: 0;clip: rect(1px 1px 1px 1px);clip: rect(1px, 1px, 1px, 1px);height: 1px;margin: -1px;overflow: hidden;padding: 0;position: absolute;width: 1px;}#sk-container-id-23 div.sk-estimator {font-family: monospace;background-color: #f0f8ff;border: 1px dotted black;border-radius: 0.25em;box-sizing: border-box;margin-bottom: 0.5em;}#sk-container-id-23 div.sk-estimator:hover {background-color: #d4ebff;}#sk-container-id-23 div.sk-parallel-item::after {content: \"\";width: 100%;border-bottom: 1px solid gray;flex-grow: 1;}#sk-container-id-23 div.sk-label:hover label.sk-toggleable__label {background-color: #d4ebff;}#sk-container-id-23 div.sk-serial::before {content: \"\";position: absolute;border-left: 1px solid gray;box-sizing: border-box;top: 0;bottom: 0;left: 50%;z-index: 0;}#sk-container-id-23 div.sk-serial {display: flex;flex-direction: column;align-items: center;background-color: white;padding-right: 0.2em;padding-left: 0.2em;position: relative;}#sk-container-id-23 div.sk-item {position: relative;z-index: 1;}#sk-container-id-23 div.sk-parallel {display: flex;align-items: stretch;justify-content: center;background-color: white;position: relative;}#sk-container-id-23 div.sk-item::before, #sk-container-id-23 div.sk-parallel-item::before {content: \"\";position: absolute;border-left: 1px solid gray;box-sizing: border-box;top: 0;bottom: 0;left: 50%;z-index: -1;}#sk-container-id-23 div.sk-parallel-item {display: flex;flex-direction: column;z-index: 1;position: relative;background-color: white;}#sk-container-id-23 div.sk-parallel-item:first-child::after {align-self: flex-end;width: 50%;}#sk-container-id-23 div.sk-parallel-item:last-child::after {align-self: flex-start;width: 50%;}#sk-container-id-23 div.sk-parallel-item:only-child::after {width: 0;}#sk-container-id-23 div.sk-dashed-wrapped {border: 1px dashed gray;margin: 0 0.4em 0.5em 0.4em;box-sizing: border-box;padding-bottom: 0.4em;background-color: white;}#sk-container-id-23 div.sk-label label {font-family: monospace;font-weight: bold;display: inline-block;line-height: 1.2em;}#sk-container-id-23 div.sk-label-container {text-align: center;}#sk-container-id-23 div.sk-container {/* jupyter's `normalize.less` sets `[hidden] { display: none; }` but bootstrap.min.css set `[hidden] { display: none !important; }` so we also need the `!important` here to be able to override the default hidden behavior on the sphinx rendered scikit-learn.org. See: https://github.com/scikit-learn/scikit-learn/issues/21755 */display: inline-block !important;position: relative;}#sk-container-id-23 div.sk-text-repr-fallback {display: none;}</style><div id=\"sk-container-id-23\" class=\"sk-top-container\"><div class=\"sk-text-repr-fallback\"><pre>LinearRegression()</pre><b>In a Jupyter environment, please rerun this cell to show the HTML representation or trust the notebook. <br />On GitHub, the HTML representation is unable to render, please try loading this page with nbviewer.org.</b></div><div class=\"sk-container\" hidden><div class=\"sk-item\"><div class=\"sk-estimator sk-toggleable\"><input class=\"sk-toggleable__control sk-hidden--visually\" id=\"sk-estimator-id-23\" type=\"checkbox\" checked><label for=\"sk-estimator-id-23\" class=\"sk-toggleable__label sk-toggleable__label-arrow\">LinearRegression</label><div class=\"sk-toggleable__content\"><pre>LinearRegression()</pre></div></div></div></div></div>"
      ],
      "text/plain": [
       "LinearRegression()"
      ]
     },
     "execution_count": 202,
     "metadata": {},
     "output_type": "execute_result"
    }
   ],
   "source": [
    "lin_reg = LinearRegression()\n",
    "lin_reg.fit(x_train, y_train)"
   ]
  },
  {
   "cell_type": "code",
   "execution_count": 203,
   "id": "a41e3aa3",
   "metadata": {},
   "outputs": [
    {
     "data": {
      "text/plain": [
       "221.09585750798598"
      ]
     },
     "execution_count": 203,
     "metadata": {},
     "output_type": "execute_result"
    }
   ],
   "source": [
    "y_pred = lin_reg.predict(x_test)\n",
    "mean_squared_error(y_pred, y_test)"
   ]
  },
  {
   "cell_type": "code",
   "execution_count": 204,
   "id": "97fa6fec",
   "metadata": {},
   "outputs": [
    {
     "data": {
      "text/plain": [
       "0.077831456582375"
      ]
     },
     "execution_count": 204,
     "metadata": {},
     "output_type": "execute_result"
    }
   ],
   "source": [
    "r2_score(y_test, y_pred)"
   ]
  },
  {
   "cell_type": "code",
   "execution_count": null,
   "id": "856e10e9",
   "metadata": {},
   "outputs": [],
   "source": []
  },
  {
   "cell_type": "code",
   "execution_count": null,
   "id": "6371a18e",
   "metadata": {},
   "outputs": [],
   "source": []
  },
  {
   "cell_type": "code",
   "execution_count": 258,
   "id": "006bd617",
   "metadata": {},
   "outputs": [],
   "source": [
    "features = np.array(['Height (With Shoes)', 'Wingspan',\n",
    "       'Standing reach', 'Vertical (Max)', 'Vertical (Max Reach)',\n",
    "       'Vertical (No Step)', 'Vertical (No Step Reach)', 'Weight', 'Body Fat',\n",
    "       'Hand (Length)', 'Hand (Width)', 'Bench', 'Agility', 'Sprint'])\n",
    "X = combine_data[features]\n",
    "\n",
    "from sklearn.feature_selection import f_regression\n",
    "\n",
    "# X is your feature matrix (10 features) and y is your target variable\n",
    "# Assuming X and y are numpy arrays or pandas DataFrames/Series\n",
    "f_values, p_values = f_regression(X, y)\n",
    "\n",
    "# Select the top 5 features with the lowest p-values\n",
    "top_feature_indices = np.argsort(p_values)[:5]\n",
    "# top_feature_indices\n",
    "# top_features = X[:, top_feature_indices]\n",
    "top_features = features[top_feature_indices]"
   ]
  },
  {
   "cell_type": "code",
   "execution_count": 259,
   "id": "6dab3b0b",
   "metadata": {},
   "outputs": [
    {
     "data": {
      "text/plain": [
       "array(['Vertical (Max Reach)', 'Vertical (No Step Reach)', 'Wingspan',\n",
       "       'Sprint', 'Standing reach'], dtype='<U24')"
      ]
     },
     "execution_count": 259,
     "metadata": {},
     "output_type": "execute_result"
    }
   ],
   "source": [
    "top_features"
   ]
  },
  {
   "cell_type": "code",
   "execution_count": 266,
   "id": "0773bebf",
   "metadata": {},
   "outputs": [],
   "source": [
    "X = X[features]"
   ]
  },
  {
   "cell_type": "code",
   "execution_count": 267,
   "id": "88f46e98",
   "metadata": {},
   "outputs": [
    {
     "data": {
      "text/plain": [
       "(384, 14)"
      ]
     },
     "execution_count": 267,
     "metadata": {},
     "output_type": "execute_result"
    }
   ],
   "source": [
    "X.shape"
   ]
  },
  {
   "cell_type": "code",
   "execution_count": 268,
   "id": "a3d45e53",
   "metadata": {},
   "outputs": [
    {
     "data": {
      "text/plain": [
       "(384,)"
      ]
     },
     "execution_count": 268,
     "metadata": {},
     "output_type": "execute_result"
    }
   ],
   "source": [
    "y.shape"
   ]
  },
  {
   "cell_type": "code",
   "execution_count": 293,
   "id": "efda7474",
   "metadata": {},
   "outputs": [
    {
     "data": {
      "text/html": [
       "<style>#sk-container-id-38 {color: black;background-color: white;}#sk-container-id-38 pre{padding: 0;}#sk-container-id-38 div.sk-toggleable {background-color: white;}#sk-container-id-38 label.sk-toggleable__label {cursor: pointer;display: block;width: 100%;margin-bottom: 0;padding: 0.3em;box-sizing: border-box;text-align: center;}#sk-container-id-38 label.sk-toggleable__label-arrow:before {content: \"▸\";float: left;margin-right: 0.25em;color: #696969;}#sk-container-id-38 label.sk-toggleable__label-arrow:hover:before {color: black;}#sk-container-id-38 div.sk-estimator:hover label.sk-toggleable__label-arrow:before {color: black;}#sk-container-id-38 div.sk-toggleable__content {max-height: 0;max-width: 0;overflow: hidden;text-align: left;background-color: #f0f8ff;}#sk-container-id-38 div.sk-toggleable__content pre {margin: 0.2em;color: black;border-radius: 0.25em;background-color: #f0f8ff;}#sk-container-id-38 input.sk-toggleable__control:checked~div.sk-toggleable__content {max-height: 200px;max-width: 100%;overflow: auto;}#sk-container-id-38 input.sk-toggleable__control:checked~label.sk-toggleable__label-arrow:before {content: \"▾\";}#sk-container-id-38 div.sk-estimator input.sk-toggleable__control:checked~label.sk-toggleable__label {background-color: #d4ebff;}#sk-container-id-38 div.sk-label input.sk-toggleable__control:checked~label.sk-toggleable__label {background-color: #d4ebff;}#sk-container-id-38 input.sk-hidden--visually {border: 0;clip: rect(1px 1px 1px 1px);clip: rect(1px, 1px, 1px, 1px);height: 1px;margin: -1px;overflow: hidden;padding: 0;position: absolute;width: 1px;}#sk-container-id-38 div.sk-estimator {font-family: monospace;background-color: #f0f8ff;border: 1px dotted black;border-radius: 0.25em;box-sizing: border-box;margin-bottom: 0.5em;}#sk-container-id-38 div.sk-estimator:hover {background-color: #d4ebff;}#sk-container-id-38 div.sk-parallel-item::after {content: \"\";width: 100%;border-bottom: 1px solid gray;flex-grow: 1;}#sk-container-id-38 div.sk-label:hover label.sk-toggleable__label {background-color: #d4ebff;}#sk-container-id-38 div.sk-serial::before {content: \"\";position: absolute;border-left: 1px solid gray;box-sizing: border-box;top: 0;bottom: 0;left: 50%;z-index: 0;}#sk-container-id-38 div.sk-serial {display: flex;flex-direction: column;align-items: center;background-color: white;padding-right: 0.2em;padding-left: 0.2em;position: relative;}#sk-container-id-38 div.sk-item {position: relative;z-index: 1;}#sk-container-id-38 div.sk-parallel {display: flex;align-items: stretch;justify-content: center;background-color: white;position: relative;}#sk-container-id-38 div.sk-item::before, #sk-container-id-38 div.sk-parallel-item::before {content: \"\";position: absolute;border-left: 1px solid gray;box-sizing: border-box;top: 0;bottom: 0;left: 50%;z-index: -1;}#sk-container-id-38 div.sk-parallel-item {display: flex;flex-direction: column;z-index: 1;position: relative;background-color: white;}#sk-container-id-38 div.sk-parallel-item:first-child::after {align-self: flex-end;width: 50%;}#sk-container-id-38 div.sk-parallel-item:last-child::after {align-self: flex-start;width: 50%;}#sk-container-id-38 div.sk-parallel-item:only-child::after {width: 0;}#sk-container-id-38 div.sk-dashed-wrapped {border: 1px dashed gray;margin: 0 0.4em 0.5em 0.4em;box-sizing: border-box;padding-bottom: 0.4em;background-color: white;}#sk-container-id-38 div.sk-label label {font-family: monospace;font-weight: bold;display: inline-block;line-height: 1.2em;}#sk-container-id-38 div.sk-label-container {text-align: center;}#sk-container-id-38 div.sk-container {/* jupyter's `normalize.less` sets `[hidden] { display: none; }` but bootstrap.min.css set `[hidden] { display: none !important; }` so we also need the `!important` here to be able to override the default hidden behavior on the sphinx rendered scikit-learn.org. See: https://github.com/scikit-learn/scikit-learn/issues/21755 */display: inline-block !important;position: relative;}#sk-container-id-38 div.sk-text-repr-fallback {display: none;}</style><div id=\"sk-container-id-38\" class=\"sk-top-container\"><div class=\"sk-text-repr-fallback\"><pre>LinearRegression()</pre><b>In a Jupyter environment, please rerun this cell to show the HTML representation or trust the notebook. <br />On GitHub, the HTML representation is unable to render, please try loading this page with nbviewer.org.</b></div><div class=\"sk-container\" hidden><div class=\"sk-item\"><div class=\"sk-estimator sk-toggleable\"><input class=\"sk-toggleable__control sk-hidden--visually\" id=\"sk-estimator-id-38\" type=\"checkbox\" checked><label for=\"sk-estimator-id-38\" class=\"sk-toggleable__label sk-toggleable__label-arrow\">LinearRegression</label><div class=\"sk-toggleable__content\"><pre>LinearRegression()</pre></div></div></div></div></div>"
      ],
      "text/plain": [
       "LinearRegression()"
      ]
     },
     "execution_count": 293,
     "metadata": {},
     "output_type": "execute_result"
    }
   ],
   "source": [
    "X = combine_data[top_features]\n",
    "x_train, x_test, y_train, y_test = train_test_split(X, y, test_size = 0.2, random_state=1336)\n",
    "lin_reg = LinearRegression()\n",
    "lin_reg.fit(x_train, y_train)"
   ]
  },
  {
   "cell_type": "code",
   "execution_count": 294,
   "id": "a8ba4ef5",
   "metadata": {},
   "outputs": [
    {
     "name": "stdout",
     "output_type": "stream",
     "text": [
      "rmse is 15.779639381394459\n"
     ]
    }
   ],
   "source": [
    "y_pred = lin_reg.predict(x_test)\n",
    "print(f'rmse is {np.sqrt(mean_squared_error(y_pred, y_test))}')"
   ]
  },
  {
   "cell_type": "code",
   "execution_count": 295,
   "id": "a3aae6bc",
   "metadata": {},
   "outputs": [
    {
     "data": {
      "text/plain": [
       "0.11307990872388884"
      ]
     },
     "execution_count": 295,
     "metadata": {},
     "output_type": "execute_result"
    }
   ],
   "source": [
    "r2_score(y_test, y_pred)"
   ]
  },
  {
   "cell_type": "code",
   "execution_count": 296,
   "id": "097a7866",
   "metadata": {},
   "outputs": [
    {
     "data": {
      "text/plain": [
       "array([31.06064123, 23.39115966, 32.02779871, 23.12581249, 27.43402376,\n",
       "       25.78672821, 28.01891633, 22.39869586, 33.59945483, 24.27564074,\n",
       "       33.21975544, 22.65996377, 24.38195998, 25.938682  , 34.2805678 ,\n",
       "       31.60436413, 24.42861466, 23.21921645, 28.38328717, 42.8018813 ,\n",
       "       33.30907324, 31.34057103, 31.22586719, 36.99084249, 35.29981433,\n",
       "       28.98997286, 19.6424108 , 22.52988737, 33.66449189, 31.57363038,\n",
       "       35.80442143, 31.79190266, 30.47281085, 30.74655714, 32.34382791,\n",
       "       33.44064163, 25.91566555, 23.01884825, 21.28022691, 30.86555771,\n",
       "       27.08160681, 29.81861075, 28.04211822, 25.95186159, 36.90632967,\n",
       "       26.62483863, 24.93800516, 25.17265936, 30.92114614, 31.76999504,\n",
       "       25.82508962, 24.61448344, 22.55304924, 28.77683386, 27.31189007,\n",
       "       32.32420934, 30.58953645, 23.70837345, 26.4205945 , 26.85893981,\n",
       "       26.26968487, 33.81122458, 22.41316178, 26.53945542, 34.51335067,\n",
       "       27.76126316, 32.10026181, 27.82827743, 29.87431338, 28.22477821,\n",
       "       28.7610658 , 26.42543811, 33.5768891 , 31.91152244, 33.49143284,\n",
       "       21.3769377 , 29.14756123])"
      ]
     },
     "execution_count": 296,
     "metadata": {},
     "output_type": "execute_result"
    }
   ],
   "source": [
    "y_pred"
   ]
  },
  {
   "cell_type": "code",
   "execution_count": 297,
   "id": "24ea4dbd",
   "metadata": {},
   "outputs": [
    {
     "data": {
      "text/plain": [
       "185    41.0\n",
       "69     32.0\n",
       "218    18.0\n",
       "22      3.0\n",
       "0       1.0\n",
       "       ... \n",
       "5      15.0\n",
       "306    50.0\n",
       "98     10.0\n",
       "192     5.0\n",
       "230    31.0\n",
       "Name: Draft pick, Length: 77, dtype: float64"
      ]
     },
     "execution_count": 297,
     "metadata": {},
     "output_type": "execute_result"
    }
   ],
   "source": [
    "y_test"
   ]
  },
  {
   "cell_type": "code",
   "execution_count": null,
   "id": "ff7107fc",
   "metadata": {},
   "outputs": [],
   "source": []
  },
  {
   "cell_type": "code",
   "execution_count": 298,
   "id": "2a3bcc9c",
   "metadata": {},
   "outputs": [],
   "source": [
    "X_new = combine_data[features]\n",
    "y_new = combine_data['Draft pick']"
   ]
  },
  {
   "cell_type": "code",
   "execution_count": 299,
   "id": "20e1e5c4",
   "metadata": {},
   "outputs": [],
   "source": [
    "from sklearn.linear_model import Lasso"
   ]
  },
  {
   "cell_type": "code",
   "execution_count": 300,
   "id": "6b7ab855",
   "metadata": {},
   "outputs": [
    {
     "data": {
      "text/html": [
       "<style>#sk-container-id-39 {color: black;background-color: white;}#sk-container-id-39 pre{padding: 0;}#sk-container-id-39 div.sk-toggleable {background-color: white;}#sk-container-id-39 label.sk-toggleable__label {cursor: pointer;display: block;width: 100%;margin-bottom: 0;padding: 0.3em;box-sizing: border-box;text-align: center;}#sk-container-id-39 label.sk-toggleable__label-arrow:before {content: \"▸\";float: left;margin-right: 0.25em;color: #696969;}#sk-container-id-39 label.sk-toggleable__label-arrow:hover:before {color: black;}#sk-container-id-39 div.sk-estimator:hover label.sk-toggleable__label-arrow:before {color: black;}#sk-container-id-39 div.sk-toggleable__content {max-height: 0;max-width: 0;overflow: hidden;text-align: left;background-color: #f0f8ff;}#sk-container-id-39 div.sk-toggleable__content pre {margin: 0.2em;color: black;border-radius: 0.25em;background-color: #f0f8ff;}#sk-container-id-39 input.sk-toggleable__control:checked~div.sk-toggleable__content {max-height: 200px;max-width: 100%;overflow: auto;}#sk-container-id-39 input.sk-toggleable__control:checked~label.sk-toggleable__label-arrow:before {content: \"▾\";}#sk-container-id-39 div.sk-estimator input.sk-toggleable__control:checked~label.sk-toggleable__label {background-color: #d4ebff;}#sk-container-id-39 div.sk-label input.sk-toggleable__control:checked~label.sk-toggleable__label {background-color: #d4ebff;}#sk-container-id-39 input.sk-hidden--visually {border: 0;clip: rect(1px 1px 1px 1px);clip: rect(1px, 1px, 1px, 1px);height: 1px;margin: -1px;overflow: hidden;padding: 0;position: absolute;width: 1px;}#sk-container-id-39 div.sk-estimator {font-family: monospace;background-color: #f0f8ff;border: 1px dotted black;border-radius: 0.25em;box-sizing: border-box;margin-bottom: 0.5em;}#sk-container-id-39 div.sk-estimator:hover {background-color: #d4ebff;}#sk-container-id-39 div.sk-parallel-item::after {content: \"\";width: 100%;border-bottom: 1px solid gray;flex-grow: 1;}#sk-container-id-39 div.sk-label:hover label.sk-toggleable__label {background-color: #d4ebff;}#sk-container-id-39 div.sk-serial::before {content: \"\";position: absolute;border-left: 1px solid gray;box-sizing: border-box;top: 0;bottom: 0;left: 50%;z-index: 0;}#sk-container-id-39 div.sk-serial {display: flex;flex-direction: column;align-items: center;background-color: white;padding-right: 0.2em;padding-left: 0.2em;position: relative;}#sk-container-id-39 div.sk-item {position: relative;z-index: 1;}#sk-container-id-39 div.sk-parallel {display: flex;align-items: stretch;justify-content: center;background-color: white;position: relative;}#sk-container-id-39 div.sk-item::before, #sk-container-id-39 div.sk-parallel-item::before {content: \"\";position: absolute;border-left: 1px solid gray;box-sizing: border-box;top: 0;bottom: 0;left: 50%;z-index: -1;}#sk-container-id-39 div.sk-parallel-item {display: flex;flex-direction: column;z-index: 1;position: relative;background-color: white;}#sk-container-id-39 div.sk-parallel-item:first-child::after {align-self: flex-end;width: 50%;}#sk-container-id-39 div.sk-parallel-item:last-child::after {align-self: flex-start;width: 50%;}#sk-container-id-39 div.sk-parallel-item:only-child::after {width: 0;}#sk-container-id-39 div.sk-dashed-wrapped {border: 1px dashed gray;margin: 0 0.4em 0.5em 0.4em;box-sizing: border-box;padding-bottom: 0.4em;background-color: white;}#sk-container-id-39 div.sk-label label {font-family: monospace;font-weight: bold;display: inline-block;line-height: 1.2em;}#sk-container-id-39 div.sk-label-container {text-align: center;}#sk-container-id-39 div.sk-container {/* jupyter's `normalize.less` sets `[hidden] { display: none; }` but bootstrap.min.css set `[hidden] { display: none !important; }` so we also need the `!important` here to be able to override the default hidden behavior on the sphinx rendered scikit-learn.org. See: https://github.com/scikit-learn/scikit-learn/issues/21755 */display: inline-block !important;position: relative;}#sk-container-id-39 div.sk-text-repr-fallback {display: none;}</style><div id=\"sk-container-id-39\" class=\"sk-top-container\"><div class=\"sk-text-repr-fallback\"><pre>Lasso(alpha=0.1)</pre><b>In a Jupyter environment, please rerun this cell to show the HTML representation or trust the notebook. <br />On GitHub, the HTML representation is unable to render, please try loading this page with nbviewer.org.</b></div><div class=\"sk-container\" hidden><div class=\"sk-item\"><div class=\"sk-estimator sk-toggleable\"><input class=\"sk-toggleable__control sk-hidden--visually\" id=\"sk-estimator-id-39\" type=\"checkbox\" checked><label for=\"sk-estimator-id-39\" class=\"sk-toggleable__label sk-toggleable__label-arrow\">Lasso</label><div class=\"sk-toggleable__content\"><pre>Lasso(alpha=0.1)</pre></div></div></div></div></div>"
      ],
      "text/plain": [
       "Lasso(alpha=0.1)"
      ]
     },
     "execution_count": 300,
     "metadata": {},
     "output_type": "execute_result"
    }
   ],
   "source": [
    "lasso_reg = Lasso(alpha=0.1)\n",
    "lasso_reg.fit(X, y)"
   ]
  },
  {
   "cell_type": "code",
   "execution_count": 315,
   "id": "a1637792",
   "metadata": {},
   "outputs": [
    {
     "data": {
      "text/html": [
       "<style>#sk-container-id-47 {color: black;background-color: white;}#sk-container-id-47 pre{padding: 0;}#sk-container-id-47 div.sk-toggleable {background-color: white;}#sk-container-id-47 label.sk-toggleable__label {cursor: pointer;display: block;width: 100%;margin-bottom: 0;padding: 0.3em;box-sizing: border-box;text-align: center;}#sk-container-id-47 label.sk-toggleable__label-arrow:before {content: \"▸\";float: left;margin-right: 0.25em;color: #696969;}#sk-container-id-47 label.sk-toggleable__label-arrow:hover:before {color: black;}#sk-container-id-47 div.sk-estimator:hover label.sk-toggleable__label-arrow:before {color: black;}#sk-container-id-47 div.sk-toggleable__content {max-height: 0;max-width: 0;overflow: hidden;text-align: left;background-color: #f0f8ff;}#sk-container-id-47 div.sk-toggleable__content pre {margin: 0.2em;color: black;border-radius: 0.25em;background-color: #f0f8ff;}#sk-container-id-47 input.sk-toggleable__control:checked~div.sk-toggleable__content {max-height: 200px;max-width: 100%;overflow: auto;}#sk-container-id-47 input.sk-toggleable__control:checked~label.sk-toggleable__label-arrow:before {content: \"▾\";}#sk-container-id-47 div.sk-estimator input.sk-toggleable__control:checked~label.sk-toggleable__label {background-color: #d4ebff;}#sk-container-id-47 div.sk-label input.sk-toggleable__control:checked~label.sk-toggleable__label {background-color: #d4ebff;}#sk-container-id-47 input.sk-hidden--visually {border: 0;clip: rect(1px 1px 1px 1px);clip: rect(1px, 1px, 1px, 1px);height: 1px;margin: -1px;overflow: hidden;padding: 0;position: absolute;width: 1px;}#sk-container-id-47 div.sk-estimator {font-family: monospace;background-color: #f0f8ff;border: 1px dotted black;border-radius: 0.25em;box-sizing: border-box;margin-bottom: 0.5em;}#sk-container-id-47 div.sk-estimator:hover {background-color: #d4ebff;}#sk-container-id-47 div.sk-parallel-item::after {content: \"\";width: 100%;border-bottom: 1px solid gray;flex-grow: 1;}#sk-container-id-47 div.sk-label:hover label.sk-toggleable__label {background-color: #d4ebff;}#sk-container-id-47 div.sk-serial::before {content: \"\";position: absolute;border-left: 1px solid gray;box-sizing: border-box;top: 0;bottom: 0;left: 50%;z-index: 0;}#sk-container-id-47 div.sk-serial {display: flex;flex-direction: column;align-items: center;background-color: white;padding-right: 0.2em;padding-left: 0.2em;position: relative;}#sk-container-id-47 div.sk-item {position: relative;z-index: 1;}#sk-container-id-47 div.sk-parallel {display: flex;align-items: stretch;justify-content: center;background-color: white;position: relative;}#sk-container-id-47 div.sk-item::before, #sk-container-id-47 div.sk-parallel-item::before {content: \"\";position: absolute;border-left: 1px solid gray;box-sizing: border-box;top: 0;bottom: 0;left: 50%;z-index: -1;}#sk-container-id-47 div.sk-parallel-item {display: flex;flex-direction: column;z-index: 1;position: relative;background-color: white;}#sk-container-id-47 div.sk-parallel-item:first-child::after {align-self: flex-end;width: 50%;}#sk-container-id-47 div.sk-parallel-item:last-child::after {align-self: flex-start;width: 50%;}#sk-container-id-47 div.sk-parallel-item:only-child::after {width: 0;}#sk-container-id-47 div.sk-dashed-wrapped {border: 1px dashed gray;margin: 0 0.4em 0.5em 0.4em;box-sizing: border-box;padding-bottom: 0.4em;background-color: white;}#sk-container-id-47 div.sk-label label {font-family: monospace;font-weight: bold;display: inline-block;line-height: 1.2em;}#sk-container-id-47 div.sk-label-container {text-align: center;}#sk-container-id-47 div.sk-container {/* jupyter's `normalize.less` sets `[hidden] { display: none; }` but bootstrap.min.css set `[hidden] { display: none !important; }` so we also need the `!important` here to be able to override the default hidden behavior on the sphinx rendered scikit-learn.org. See: https://github.com/scikit-learn/scikit-learn/issues/21755 */display: inline-block !important;position: relative;}#sk-container-id-47 div.sk-text-repr-fallback {display: none;}</style><div id=\"sk-container-id-47\" class=\"sk-top-container\"><div class=\"sk-text-repr-fallback\"><pre>Lasso(alpha=1e-10)</pre><b>In a Jupyter environment, please rerun this cell to show the HTML representation or trust the notebook. <br />On GitHub, the HTML representation is unable to render, please try loading this page with nbviewer.org.</b></div><div class=\"sk-container\" hidden><div class=\"sk-item\"><div class=\"sk-estimator sk-toggleable\"><input class=\"sk-toggleable__control sk-hidden--visually\" id=\"sk-estimator-id-47\" type=\"checkbox\" checked><label for=\"sk-estimator-id-47\" class=\"sk-toggleable__label sk-toggleable__label-arrow\">Lasso</label><div class=\"sk-toggleable__content\"><pre>Lasso(alpha=1e-10)</pre></div></div></div></div></div>"
      ],
      "text/plain": [
       "Lasso(alpha=1e-10)"
      ]
     },
     "execution_count": 315,
     "metadata": {},
     "output_type": "execute_result"
    }
   ],
   "source": [
    "# X = combine_data[top_features]\n",
    "x_train, x_test, y_train, y_test = train_test_split(X, y, test_size = 0.2, random_state=1336)\n",
    "lasso_reg = Lasso(alpha=1e-10)\n",
    "lasso_reg.fit(x_train, y_train)"
   ]
  },
  {
   "cell_type": "code",
   "execution_count": 316,
   "id": "b8cdb47d",
   "metadata": {},
   "outputs": [
    {
     "name": "stdout",
     "output_type": "stream",
     "text": [
      "rmse is 15.779639381494523\n"
     ]
    }
   ],
   "source": [
    "y_pred = lasso_reg.predict(x_test)\n",
    "print(f'rmse is {np.sqrt(mean_squared_error(y_pred, y_test))}')"
   ]
  },
  {
   "cell_type": "code",
   "execution_count": 317,
   "id": "e7b5335b",
   "metadata": {},
   "outputs": [
    {
     "data": {
      "text/plain": [
       "0.1130799087126404"
      ]
     },
     "execution_count": 317,
     "metadata": {},
     "output_type": "execute_result"
    }
   ],
   "source": [
    "r2_score(y_test, y_pred)"
   ]
  },
  {
   "cell_type": "code",
   "execution_count": 319,
   "id": "bec32f34",
   "metadata": {},
   "outputs": [],
   "source": [
    "from sklearn.preprocessing import StandardScaler\n",
    "scaler = StandardScaler()"
   ]
  },
  {
   "cell_type": "code",
   "execution_count": 320,
   "id": "b2b7b2bd",
   "metadata": {},
   "outputs": [
    {
     "name": "stderr",
     "output_type": "stream",
     "text": [
      "/var/folders/rj/xbh3qs3113570m39p4g31bth0000gp/T/ipykernel_81852/848353956.py:1: SettingWithCopyWarning: \n",
      "A value is trying to be set on a copy of a slice from a DataFrame.\n",
      "Try using .loc[row_indexer,col_indexer] = value instead\n",
      "\n",
      "See the caveats in the documentation: https://pandas.pydata.org/pandas-docs/stable/user_guide/indexing.html#returning-a-view-versus-a-copy\n",
      "  X_new[features] = scaler.fit_transform(X_new[features])\n"
     ]
    }
   ],
   "source": [
    "X_new[features] = scaler.fit_transform(X_new[features])"
   ]
  },
  {
   "cell_type": "code",
   "execution_count": 321,
   "id": "14c5ba37",
   "metadata": {},
   "outputs": [
    {
     "data": {
      "text/html": [
       "<div>\n",
       "<style scoped>\n",
       "    .dataframe tbody tr th:only-of-type {\n",
       "        vertical-align: middle;\n",
       "    }\n",
       "\n",
       "    .dataframe tbody tr th {\n",
       "        vertical-align: top;\n",
       "    }\n",
       "\n",
       "    .dataframe thead th {\n",
       "        text-align: right;\n",
       "    }\n",
       "</style>\n",
       "<table border=\"1\" class=\"dataframe\">\n",
       "  <thead>\n",
       "    <tr style=\"text-align: right;\">\n",
       "      <th></th>\n",
       "      <th>Height (With Shoes)</th>\n",
       "      <th>Wingspan</th>\n",
       "      <th>Standing reach</th>\n",
       "      <th>Vertical (Max)</th>\n",
       "      <th>Vertical (Max Reach)</th>\n",
       "      <th>Vertical (No Step)</th>\n",
       "      <th>Vertical (No Step Reach)</th>\n",
       "      <th>Weight</th>\n",
       "      <th>Body Fat</th>\n",
       "      <th>Hand (Length)</th>\n",
       "      <th>Hand (Width)</th>\n",
       "      <th>Bench</th>\n",
       "      <th>Agility</th>\n",
       "      <th>Sprint</th>\n",
       "    </tr>\n",
       "  </thead>\n",
       "  <tbody>\n",
       "    <tr>\n",
       "      <th>0</th>\n",
       "      <td>0.922806</td>\n",
       "      <td>0.183584</td>\n",
       "      <td>0.334080</td>\n",
       "      <td>0.042090</td>\n",
       "      <td>5.399584e-01</td>\n",
       "      <td>7.544187e-01</td>\n",
       "      <td>9.705654e-01</td>\n",
       "      <td>1.330789</td>\n",
       "      <td>0.452173</td>\n",
       "      <td>0.000000</td>\n",
       "      <td>0.000000</td>\n",
       "      <td>3.042151e+00</td>\n",
       "      <td>-6.872225e-01</td>\n",
       "      <td>-0.068741</td>\n",
       "    </tr>\n",
       "    <tr>\n",
       "      <th>1</th>\n",
       "      <td>-0.228702</td>\n",
       "      <td>-0.394991</td>\n",
       "      <td>0.027785</td>\n",
       "      <td>0.497761</td>\n",
       "      <td>5.399584e-01</td>\n",
       "      <td>2.267494e-01</td>\n",
       "      <td>2.525092e-01</td>\n",
       "      <td>-0.076090</td>\n",
       "      <td>-0.826990</td>\n",
       "      <td>0.000000</td>\n",
       "      <td>0.000000</td>\n",
       "      <td>-3.700712e-01</td>\n",
       "      <td>-2.892736e-01</td>\n",
       "      <td>-0.912033</td>\n",
       "    </tr>\n",
       "    <tr>\n",
       "      <th>2</th>\n",
       "      <td>-0.612538</td>\n",
       "      <td>-0.073561</td>\n",
       "      <td>-0.176412</td>\n",
       "      <td>-0.109800</td>\n",
       "      <td>-2.471599e-01</td>\n",
       "      <td>5.785289e-01</td>\n",
       "      <td>2.525092e-01</td>\n",
       "      <td>0.004303</td>\n",
       "      <td>-1.115833</td>\n",
       "      <td>0.000000</td>\n",
       "      <td>0.000000</td>\n",
       "      <td>-6.325498e-01</td>\n",
       "      <td>-2.494787e-01</td>\n",
       "      <td>-1.249350</td>\n",
       "    </tr>\n",
       "    <tr>\n",
       "      <th>3</th>\n",
       "      <td>0.769271</td>\n",
       "      <td>0.247870</td>\n",
       "      <td>0.538276</td>\n",
       "      <td>-0.413581</td>\n",
       "      <td>4.087720e-01</td>\n",
       "      <td>-8.285890e-01</td>\n",
       "      <td>1.328332e-01</td>\n",
       "      <td>0.768038</td>\n",
       "      <td>0.575963</td>\n",
       "      <td>0.000000</td>\n",
       "      <td>0.000000</td>\n",
       "      <td>1.992236e+00</td>\n",
       "      <td>-3.489659e-01</td>\n",
       "      <td>-0.153070</td>\n",
       "    </tr>\n",
       "    <tr>\n",
       "      <th>4</th>\n",
       "      <td>0.999573</td>\n",
       "      <td>1.019302</td>\n",
       "      <td>1.252965</td>\n",
       "      <td>-0.717362</td>\n",
       "      <td>1.064704e+00</td>\n",
       "      <td>-4.768095e-01</td>\n",
       "      <td>1.209917e+00</td>\n",
       "      <td>0.526858</td>\n",
       "      <td>-0.785727</td>\n",
       "      <td>0.000000</td>\n",
       "      <td>0.000000</td>\n",
       "      <td>-1.419986e+00</td>\n",
       "      <td>-2.494787e-01</td>\n",
       "      <td>0.521563</td>\n",
       "    </tr>\n",
       "    <tr>\n",
       "      <th>...</th>\n",
       "      <td>...</td>\n",
       "      <td>...</td>\n",
       "      <td>...</td>\n",
       "      <td>...</td>\n",
       "      <td>...</td>\n",
       "      <td>...</td>\n",
       "      <td>...</td>\n",
       "      <td>...</td>\n",
       "      <td>...</td>\n",
       "      <td>...</td>\n",
       "      <td>...</td>\n",
       "      <td>...</td>\n",
       "      <td>...</td>\n",
       "      <td>...</td>\n",
       "    </tr>\n",
       "    <tr>\n",
       "      <th>489</th>\n",
       "      <td>-1.380210</td>\n",
       "      <td>-1.680712</td>\n",
       "      <td>-1.401592</td>\n",
       "      <td>-0.565471</td>\n",
       "      <td>-2.214955e+00</td>\n",
       "      <td>-6.526993e-01</td>\n",
       "      <td>-2.021335e+00</td>\n",
       "      <td>-1.603559</td>\n",
       "      <td>-0.084250</td>\n",
       "      <td>-1.112046</td>\n",
       "      <td>-0.936237</td>\n",
       "      <td>-4.662556e-16</td>\n",
       "      <td>-5.877353e-01</td>\n",
       "      <td>-0.827704</td>\n",
       "    </tr>\n",
       "    <tr>\n",
       "      <th>490</th>\n",
       "      <td>-0.382237</td>\n",
       "      <td>-0.394991</td>\n",
       "      <td>-0.176412</td>\n",
       "      <td>0.000000</td>\n",
       "      <td>7.457082e-15</td>\n",
       "      <td>2.499544e-15</td>\n",
       "      <td>-6.802795e-15</td>\n",
       "      <td>-1.563363</td>\n",
       "      <td>0.493436</td>\n",
       "      <td>-1.112046</td>\n",
       "      <td>-0.561962</td>\n",
       "      <td>-4.662556e-16</td>\n",
       "      <td>-3.534497e-15</td>\n",
       "      <td>0.000000</td>\n",
       "    </tr>\n",
       "    <tr>\n",
       "      <th>491</th>\n",
       "      <td>-1.456977</td>\n",
       "      <td>-0.330705</td>\n",
       "      <td>-0.789002</td>\n",
       "      <td>0.042090</td>\n",
       "      <td>-9.030917e-01</td>\n",
       "      <td>1.106198e+00</td>\n",
       "      <td>-1.065189e-01</td>\n",
       "      <td>-0.920218</td>\n",
       "      <td>-0.290567</td>\n",
       "      <td>-0.543593</td>\n",
       "      <td>-0.936237</td>\n",
       "      <td>-4.662556e-16</td>\n",
       "      <td>-1.101966e-01</td>\n",
       "      <td>-1.165020</td>\n",
       "    </tr>\n",
       "    <tr>\n",
       "      <th>492</th>\n",
       "      <td>0.538970</td>\n",
       "      <td>0.055011</td>\n",
       "      <td>0.334080</td>\n",
       "      <td>0.000000</td>\n",
       "      <td>7.457082e-15</td>\n",
       "      <td>2.499544e-15</td>\n",
       "      <td>-6.802795e-15</td>\n",
       "      <td>0.687644</td>\n",
       "      <td>0.699753</td>\n",
       "      <td>0.024859</td>\n",
       "      <td>0.935140</td>\n",
       "      <td>-4.662556e-16</td>\n",
       "      <td>-3.534497e-15</td>\n",
       "      <td>0.000000</td>\n",
       "    </tr>\n",
       "    <tr>\n",
       "      <th>493</th>\n",
       "      <td>-1.226676</td>\n",
       "      <td>-0.844993</td>\n",
       "      <td>-0.891101</td>\n",
       "      <td>-0.261691</td>\n",
       "      <td>-1.296651e+00</td>\n",
       "      <td>-8.285890e-01</td>\n",
       "      <td>-1.542631e+00</td>\n",
       "      <td>-1.000611</td>\n",
       "      <td>-0.620673</td>\n",
       "      <td>0.024859</td>\n",
       "      <td>-0.187687</td>\n",
       "      <td>-4.662556e-16</td>\n",
       "      <td>-1.741787e+00</td>\n",
       "      <td>-0.827704</td>\n",
       "    </tr>\n",
       "  </tbody>\n",
       "</table>\n",
       "<p>384 rows × 14 columns</p>\n",
       "</div>"
      ],
      "text/plain": [
       "     Height (With Shoes)  Wingspan  Standing reach  Vertical (Max)  \\\n",
       "0               0.922806  0.183584        0.334080        0.042090   \n",
       "1              -0.228702 -0.394991        0.027785        0.497761   \n",
       "2              -0.612538 -0.073561       -0.176412       -0.109800   \n",
       "3               0.769271  0.247870        0.538276       -0.413581   \n",
       "4               0.999573  1.019302        1.252965       -0.717362   \n",
       "..                   ...       ...             ...             ...   \n",
       "489            -1.380210 -1.680712       -1.401592       -0.565471   \n",
       "490            -0.382237 -0.394991       -0.176412        0.000000   \n",
       "491            -1.456977 -0.330705       -0.789002        0.042090   \n",
       "492             0.538970  0.055011        0.334080        0.000000   \n",
       "493            -1.226676 -0.844993       -0.891101       -0.261691   \n",
       "\n",
       "     Vertical (Max Reach)  Vertical (No Step)  Vertical (No Step Reach)  \\\n",
       "0            5.399584e-01        7.544187e-01              9.705654e-01   \n",
       "1            5.399584e-01        2.267494e-01              2.525092e-01   \n",
       "2           -2.471599e-01        5.785289e-01              2.525092e-01   \n",
       "3            4.087720e-01       -8.285890e-01              1.328332e-01   \n",
       "4            1.064704e+00       -4.768095e-01              1.209917e+00   \n",
       "..                    ...                 ...                       ...   \n",
       "489         -2.214955e+00       -6.526993e-01             -2.021335e+00   \n",
       "490          7.457082e-15        2.499544e-15             -6.802795e-15   \n",
       "491         -9.030917e-01        1.106198e+00             -1.065189e-01   \n",
       "492          7.457082e-15        2.499544e-15             -6.802795e-15   \n",
       "493         -1.296651e+00       -8.285890e-01             -1.542631e+00   \n",
       "\n",
       "       Weight  Body Fat  Hand (Length)  Hand (Width)         Bench  \\\n",
       "0    1.330789  0.452173       0.000000      0.000000  3.042151e+00   \n",
       "1   -0.076090 -0.826990       0.000000      0.000000 -3.700712e-01   \n",
       "2    0.004303 -1.115833       0.000000      0.000000 -6.325498e-01   \n",
       "3    0.768038  0.575963       0.000000      0.000000  1.992236e+00   \n",
       "4    0.526858 -0.785727       0.000000      0.000000 -1.419986e+00   \n",
       "..        ...       ...            ...           ...           ...   \n",
       "489 -1.603559 -0.084250      -1.112046     -0.936237 -4.662556e-16   \n",
       "490 -1.563363  0.493436      -1.112046     -0.561962 -4.662556e-16   \n",
       "491 -0.920218 -0.290567      -0.543593     -0.936237 -4.662556e-16   \n",
       "492  0.687644  0.699753       0.024859      0.935140 -4.662556e-16   \n",
       "493 -1.000611 -0.620673       0.024859     -0.187687 -4.662556e-16   \n",
       "\n",
       "          Agility    Sprint  \n",
       "0   -6.872225e-01 -0.068741  \n",
       "1   -2.892736e-01 -0.912033  \n",
       "2   -2.494787e-01 -1.249350  \n",
       "3   -3.489659e-01 -0.153070  \n",
       "4   -2.494787e-01  0.521563  \n",
       "..            ...       ...  \n",
       "489 -5.877353e-01 -0.827704  \n",
       "490 -3.534497e-15  0.000000  \n",
       "491 -1.101966e-01 -1.165020  \n",
       "492 -3.534497e-15  0.000000  \n",
       "493 -1.741787e+00 -0.827704  \n",
       "\n",
       "[384 rows x 14 columns]"
      ]
     },
     "execution_count": 321,
     "metadata": {},
     "output_type": "execute_result"
    }
   ],
   "source": [
    "X_new"
   ]
  },
  {
   "cell_type": "code",
   "execution_count": 322,
   "id": "ebe9a8c0",
   "metadata": {},
   "outputs": [
    {
     "name": "stderr",
     "output_type": "stream",
     "text": [
      "/usr/local/lib/python3.10/site-packages/sklearn/linear_model/_coordinate_descent.py:631: ConvergenceWarning: Objective did not converge. You might want to increase the number of iterations, check the scale of the features or consider increasing regularisation. Duality gap: 3.338e+04, tolerance: 7.498e+00\n",
      "  model = cd_fast.enet_coordinate_descent(\n"
     ]
    },
    {
     "data": {
      "text/html": [
       "<style>#sk-container-id-48 {color: black;background-color: white;}#sk-container-id-48 pre{padding: 0;}#sk-container-id-48 div.sk-toggleable {background-color: white;}#sk-container-id-48 label.sk-toggleable__label {cursor: pointer;display: block;width: 100%;margin-bottom: 0;padding: 0.3em;box-sizing: border-box;text-align: center;}#sk-container-id-48 label.sk-toggleable__label-arrow:before {content: \"▸\";float: left;margin-right: 0.25em;color: #696969;}#sk-container-id-48 label.sk-toggleable__label-arrow:hover:before {color: black;}#sk-container-id-48 div.sk-estimator:hover label.sk-toggleable__label-arrow:before {color: black;}#sk-container-id-48 div.sk-toggleable__content {max-height: 0;max-width: 0;overflow: hidden;text-align: left;background-color: #f0f8ff;}#sk-container-id-48 div.sk-toggleable__content pre {margin: 0.2em;color: black;border-radius: 0.25em;background-color: #f0f8ff;}#sk-container-id-48 input.sk-toggleable__control:checked~div.sk-toggleable__content {max-height: 200px;max-width: 100%;overflow: auto;}#sk-container-id-48 input.sk-toggleable__control:checked~label.sk-toggleable__label-arrow:before {content: \"▾\";}#sk-container-id-48 div.sk-estimator input.sk-toggleable__control:checked~label.sk-toggleable__label {background-color: #d4ebff;}#sk-container-id-48 div.sk-label input.sk-toggleable__control:checked~label.sk-toggleable__label {background-color: #d4ebff;}#sk-container-id-48 input.sk-hidden--visually {border: 0;clip: rect(1px 1px 1px 1px);clip: rect(1px, 1px, 1px, 1px);height: 1px;margin: -1px;overflow: hidden;padding: 0;position: absolute;width: 1px;}#sk-container-id-48 div.sk-estimator {font-family: monospace;background-color: #f0f8ff;border: 1px dotted black;border-radius: 0.25em;box-sizing: border-box;margin-bottom: 0.5em;}#sk-container-id-48 div.sk-estimator:hover {background-color: #d4ebff;}#sk-container-id-48 div.sk-parallel-item::after {content: \"\";width: 100%;border-bottom: 1px solid gray;flex-grow: 1;}#sk-container-id-48 div.sk-label:hover label.sk-toggleable__label {background-color: #d4ebff;}#sk-container-id-48 div.sk-serial::before {content: \"\";position: absolute;border-left: 1px solid gray;box-sizing: border-box;top: 0;bottom: 0;left: 50%;z-index: 0;}#sk-container-id-48 div.sk-serial {display: flex;flex-direction: column;align-items: center;background-color: white;padding-right: 0.2em;padding-left: 0.2em;position: relative;}#sk-container-id-48 div.sk-item {position: relative;z-index: 1;}#sk-container-id-48 div.sk-parallel {display: flex;align-items: stretch;justify-content: center;background-color: white;position: relative;}#sk-container-id-48 div.sk-item::before, #sk-container-id-48 div.sk-parallel-item::before {content: \"\";position: absolute;border-left: 1px solid gray;box-sizing: border-box;top: 0;bottom: 0;left: 50%;z-index: -1;}#sk-container-id-48 div.sk-parallel-item {display: flex;flex-direction: column;z-index: 1;position: relative;background-color: white;}#sk-container-id-48 div.sk-parallel-item:first-child::after {align-self: flex-end;width: 50%;}#sk-container-id-48 div.sk-parallel-item:last-child::after {align-self: flex-start;width: 50%;}#sk-container-id-48 div.sk-parallel-item:only-child::after {width: 0;}#sk-container-id-48 div.sk-dashed-wrapped {border: 1px dashed gray;margin: 0 0.4em 0.5em 0.4em;box-sizing: border-box;padding-bottom: 0.4em;background-color: white;}#sk-container-id-48 div.sk-label label {font-family: monospace;font-weight: bold;display: inline-block;line-height: 1.2em;}#sk-container-id-48 div.sk-label-container {text-align: center;}#sk-container-id-48 div.sk-container {/* jupyter's `normalize.less` sets `[hidden] { display: none; }` but bootstrap.min.css set `[hidden] { display: none !important; }` so we also need the `!important` here to be able to override the default hidden behavior on the sphinx rendered scikit-learn.org. See: https://github.com/scikit-learn/scikit-learn/issues/21755 */display: inline-block !important;position: relative;}#sk-container-id-48 div.sk-text-repr-fallback {display: none;}</style><div id=\"sk-container-id-48\" class=\"sk-top-container\"><div class=\"sk-text-repr-fallback\"><pre>Lasso(alpha=1e-10)</pre><b>In a Jupyter environment, please rerun this cell to show the HTML representation or trust the notebook. <br />On GitHub, the HTML representation is unable to render, please try loading this page with nbviewer.org.</b></div><div class=\"sk-container\" hidden><div class=\"sk-item\"><div class=\"sk-estimator sk-toggleable\"><input class=\"sk-toggleable__control sk-hidden--visually\" id=\"sk-estimator-id-48\" type=\"checkbox\" checked><label for=\"sk-estimator-id-48\" class=\"sk-toggleable__label sk-toggleable__label-arrow\">Lasso</label><div class=\"sk-toggleable__content\"><pre>Lasso(alpha=1e-10)</pre></div></div></div></div></div>"
      ],
      "text/plain": [
       "Lasso(alpha=1e-10)"
      ]
     },
     "execution_count": 322,
     "metadata": {},
     "output_type": "execute_result"
    }
   ],
   "source": [
    "x_train, x_test, y_train, y_test = train_test_split(X_new, y_new, test_size = 0.2, random_state=1336)\n",
    "lasso_reg = Lasso(alpha=1e-10)\n",
    "lasso_reg.fit(x_train, y_train)"
   ]
  },
  {
   "cell_type": "code",
   "execution_count": 323,
   "id": "3265309d",
   "metadata": {},
   "outputs": [
    {
     "name": "stdout",
     "output_type": "stream",
     "text": [
      "rmse is 15.677846225024552\n"
     ]
    }
   ],
   "source": [
    "y_pred = lasso_reg.predict(x_test)\n",
    "print(f'rmse is {np.sqrt(mean_squared_error(y_pred, y_test))}')"
   ]
  },
  {
   "cell_type": "code",
   "execution_count": 345,
   "id": "d2b40683",
   "metadata": {},
   "outputs": [
    {
     "data": {
      "text/html": [
       "<style>#sk-container-id-59 {color: black;background-color: white;}#sk-container-id-59 pre{padding: 0;}#sk-container-id-59 div.sk-toggleable {background-color: white;}#sk-container-id-59 label.sk-toggleable__label {cursor: pointer;display: block;width: 100%;margin-bottom: 0;padding: 0.3em;box-sizing: border-box;text-align: center;}#sk-container-id-59 label.sk-toggleable__label-arrow:before {content: \"▸\";float: left;margin-right: 0.25em;color: #696969;}#sk-container-id-59 label.sk-toggleable__label-arrow:hover:before {color: black;}#sk-container-id-59 div.sk-estimator:hover label.sk-toggleable__label-arrow:before {color: black;}#sk-container-id-59 div.sk-toggleable__content {max-height: 0;max-width: 0;overflow: hidden;text-align: left;background-color: #f0f8ff;}#sk-container-id-59 div.sk-toggleable__content pre {margin: 0.2em;color: black;border-radius: 0.25em;background-color: #f0f8ff;}#sk-container-id-59 input.sk-toggleable__control:checked~div.sk-toggleable__content {max-height: 200px;max-width: 100%;overflow: auto;}#sk-container-id-59 input.sk-toggleable__control:checked~label.sk-toggleable__label-arrow:before {content: \"▾\";}#sk-container-id-59 div.sk-estimator input.sk-toggleable__control:checked~label.sk-toggleable__label {background-color: #d4ebff;}#sk-container-id-59 div.sk-label input.sk-toggleable__control:checked~label.sk-toggleable__label {background-color: #d4ebff;}#sk-container-id-59 input.sk-hidden--visually {border: 0;clip: rect(1px 1px 1px 1px);clip: rect(1px, 1px, 1px, 1px);height: 1px;margin: -1px;overflow: hidden;padding: 0;position: absolute;width: 1px;}#sk-container-id-59 div.sk-estimator {font-family: monospace;background-color: #f0f8ff;border: 1px dotted black;border-radius: 0.25em;box-sizing: border-box;margin-bottom: 0.5em;}#sk-container-id-59 div.sk-estimator:hover {background-color: #d4ebff;}#sk-container-id-59 div.sk-parallel-item::after {content: \"\";width: 100%;border-bottom: 1px solid gray;flex-grow: 1;}#sk-container-id-59 div.sk-label:hover label.sk-toggleable__label {background-color: #d4ebff;}#sk-container-id-59 div.sk-serial::before {content: \"\";position: absolute;border-left: 1px solid gray;box-sizing: border-box;top: 0;bottom: 0;left: 50%;z-index: 0;}#sk-container-id-59 div.sk-serial {display: flex;flex-direction: column;align-items: center;background-color: white;padding-right: 0.2em;padding-left: 0.2em;position: relative;}#sk-container-id-59 div.sk-item {position: relative;z-index: 1;}#sk-container-id-59 div.sk-parallel {display: flex;align-items: stretch;justify-content: center;background-color: white;position: relative;}#sk-container-id-59 div.sk-item::before, #sk-container-id-59 div.sk-parallel-item::before {content: \"\";position: absolute;border-left: 1px solid gray;box-sizing: border-box;top: 0;bottom: 0;left: 50%;z-index: -1;}#sk-container-id-59 div.sk-parallel-item {display: flex;flex-direction: column;z-index: 1;position: relative;background-color: white;}#sk-container-id-59 div.sk-parallel-item:first-child::after {align-self: flex-end;width: 50%;}#sk-container-id-59 div.sk-parallel-item:last-child::after {align-self: flex-start;width: 50%;}#sk-container-id-59 div.sk-parallel-item:only-child::after {width: 0;}#sk-container-id-59 div.sk-dashed-wrapped {border: 1px dashed gray;margin: 0 0.4em 0.5em 0.4em;box-sizing: border-box;padding-bottom: 0.4em;background-color: white;}#sk-container-id-59 div.sk-label label {font-family: monospace;font-weight: bold;display: inline-block;line-height: 1.2em;}#sk-container-id-59 div.sk-label-container {text-align: center;}#sk-container-id-59 div.sk-container {/* jupyter's `normalize.less` sets `[hidden] { display: none; }` but bootstrap.min.css set `[hidden] { display: none !important; }` so we also need the `!important` here to be able to override the default hidden behavior on the sphinx rendered scikit-learn.org. See: https://github.com/scikit-learn/scikit-learn/issues/21755 */display: inline-block !important;position: relative;}#sk-container-id-59 div.sk-text-repr-fallback {display: none;}</style><div id=\"sk-container-id-59\" class=\"sk-top-container\"><div class=\"sk-text-repr-fallback\"><pre>SGDRegressor(eta0=0.001, max_iter=100000, penalty=None)</pre><b>In a Jupyter environment, please rerun this cell to show the HTML representation or trust the notebook. <br />On GitHub, the HTML representation is unable to render, please try loading this page with nbviewer.org.</b></div><div class=\"sk-container\" hidden><div class=\"sk-item\"><div class=\"sk-estimator sk-toggleable\"><input class=\"sk-toggleable__control sk-hidden--visually\" id=\"sk-estimator-id-59\" type=\"checkbox\" checked><label for=\"sk-estimator-id-59\" class=\"sk-toggleable__label sk-toggleable__label-arrow\">SGDRegressor</label><div class=\"sk-toggleable__content\"><pre>SGDRegressor(eta0=0.001, max_iter=100000, penalty=None)</pre></div></div></div></div></div>"
      ],
      "text/plain": [
       "SGDRegressor(eta0=0.001, max_iter=100000, penalty=None)"
      ]
     },
     "execution_count": 345,
     "metadata": {},
     "output_type": "execute_result"
    }
   ],
   "source": [
    "from sklearn.linear_model import SGDRegressor\n",
    "sgd_reg = SGDRegressor(max_iter=100000, tol=1e-3, penalty=None, eta0=1e-3)\n",
    "sgd_reg.fit(x_train, y_train.ravel())"
   ]
  },
  {
   "cell_type": "code",
   "execution_count": 348,
   "id": "fc519fbc",
   "metadata": {},
   "outputs": [
    {
     "name": "stdout",
     "output_type": "stream",
     "text": [
      "rmse is 15.600252378338205\n",
      "0.1331307574675441\n"
     ]
    }
   ],
   "source": [
    "y_pred = sgd_reg.predict(x_test)\n",
    "print(f'rmse is {np.sqrt(mean_squared_error(y_pred, y_test))}')\n",
    "print(r2_score(y_test, y_pred))"
   ]
  },
  {
   "cell_type": "code",
   "execution_count": 384,
   "id": "3b5efa5f",
   "metadata": {},
   "outputs": [],
   "source": [
    "X = combine_data[top_features]\n",
    "from sklearn.preprocessing import PolynomialFeatures\n",
    "poly_features = PolynomialFeatures(degree=5, include_bias=False)\n",
    "X_poly = poly_features.fit_transform(X)"
   ]
  },
  {
   "cell_type": "code",
   "execution_count": 385,
   "id": "4266224d",
   "metadata": {},
   "outputs": [
    {
     "data": {
      "text/plain": [
       "(384, 251)"
      ]
     },
     "execution_count": 385,
     "metadata": {},
     "output_type": "execute_result"
    }
   ],
   "source": [
    "X_poly.shape"
   ]
  },
  {
   "cell_type": "code",
   "execution_count": 386,
   "id": "520962de",
   "metadata": {},
   "outputs": [
    {
     "data": {
      "text/plain": [
       "(384,)"
      ]
     },
     "execution_count": 386,
     "metadata": {},
     "output_type": "execute_result"
    }
   ],
   "source": [
    "y.shape"
   ]
  },
  {
   "cell_type": "code",
   "execution_count": 391,
   "id": "4612821d",
   "metadata": {},
   "outputs": [
    {
     "name": "stdout",
     "output_type": "stream",
     "text": [
      "rmse is 15.622164578968658\n"
     ]
    },
    {
     "name": "stderr",
     "output_type": "stream",
     "text": [
      "/usr/local/lib/python3.10/site-packages/sklearn/linear_model/_coordinate_descent.py:631: ConvergenceWarning: Objective did not converge. You might want to increase the number of iterations, check the scale of the features or consider increasing regularisation. Duality gap: 3.329e+04, tolerance: 7.498e+00\n",
      "  model = cd_fast.enet_coordinate_descent(\n"
     ]
    },
    {
     "data": {
      "text/plain": [
       "0.13069382855746559"
      ]
     },
     "execution_count": 391,
     "metadata": {},
     "output_type": "execute_result"
    }
   ],
   "source": [
    "x_train, x_test, y_train, y_test = train_test_split(X_poly, y, test_size = 0.2, random_state=1336)\n",
    "lasso_reg = Lasso(alpha=0.000000001)\n",
    "lasso_reg.fit(x_train, y_train)\n",
    "\n",
    "y_pred = lasso_reg.predict(x_test)\n",
    "print(f'rmse is {np.sqrt(mean_squared_error(y_pred, y_test))}')\n",
    "\n",
    "r2_score(y_test, y_pred)"
   ]
  },
  {
   "cell_type": "code",
   "execution_count": 392,
   "id": "341925c2",
   "metadata": {},
   "outputs": [],
   "source": [
    "X_new = combine_data[features]"
   ]
  },
  {
   "cell_type": "code",
   "execution_count": 393,
   "id": "a8b26967",
   "metadata": {},
   "outputs": [
    {
     "data": {
      "text/html": [
       "<div>\n",
       "<style scoped>\n",
       "    .dataframe tbody tr th:only-of-type {\n",
       "        vertical-align: middle;\n",
       "    }\n",
       "\n",
       "    .dataframe tbody tr th {\n",
       "        vertical-align: top;\n",
       "    }\n",
       "\n",
       "    .dataframe thead th {\n",
       "        text-align: right;\n",
       "    }\n",
       "</style>\n",
       "<table border=\"1\" class=\"dataframe\">\n",
       "  <thead>\n",
       "    <tr style=\"text-align: right;\">\n",
       "      <th></th>\n",
       "      <th>Height (With Shoes)</th>\n",
       "      <th>Wingspan</th>\n",
       "      <th>Standing reach</th>\n",
       "      <th>Vertical (Max)</th>\n",
       "      <th>Vertical (Max Reach)</th>\n",
       "      <th>Vertical (No Step)</th>\n",
       "      <th>Vertical (No Step Reach)</th>\n",
       "      <th>Weight</th>\n",
       "      <th>Body Fat</th>\n",
       "      <th>Hand (Length)</th>\n",
       "      <th>Hand (Width)</th>\n",
       "      <th>Bench</th>\n",
       "      <th>Agility</th>\n",
       "      <th>Sprint</th>\n",
       "    </tr>\n",
       "  </thead>\n",
       "  <tbody>\n",
       "    <tr>\n",
       "      <th>0</th>\n",
       "      <td>82.00</td>\n",
       "      <td>83.25</td>\n",
       "      <td>105.0</td>\n",
       "      <td>35.500000</td>\n",
       "      <td>140.500000</td>\n",
       "      <td>32.000000</td>\n",
       "      <td>137.00000</td>\n",
       "      <td>248.0</td>\n",
       "      <td>8.2</td>\n",
       "      <td>8.739067</td>\n",
       "      <td>9.375367</td>\n",
       "      <td>22.00000</td>\n",
       "      <td>10.950000</td>\n",
       "      <td>3.280000</td>\n",
       "    </tr>\n",
       "    <tr>\n",
       "      <th>1</th>\n",
       "      <td>78.25</td>\n",
       "      <td>81.00</td>\n",
       "      <td>103.5</td>\n",
       "      <td>37.000000</td>\n",
       "      <td>140.500000</td>\n",
       "      <td>30.500000</td>\n",
       "      <td>134.00000</td>\n",
       "      <td>213.0</td>\n",
       "      <td>5.1</td>\n",
       "      <td>8.739067</td>\n",
       "      <td>9.375367</td>\n",
       "      <td>9.00000</td>\n",
       "      <td>11.150000</td>\n",
       "      <td>3.180000</td>\n",
       "    </tr>\n",
       "    <tr>\n",
       "      <th>2</th>\n",
       "      <td>77.00</td>\n",
       "      <td>82.25</td>\n",
       "      <td>102.5</td>\n",
       "      <td>35.000000</td>\n",
       "      <td>137.500000</td>\n",
       "      <td>31.500000</td>\n",
       "      <td>134.00000</td>\n",
       "      <td>215.0</td>\n",
       "      <td>4.4</td>\n",
       "      <td>8.739067</td>\n",
       "      <td>9.375367</td>\n",
       "      <td>8.00000</td>\n",
       "      <td>11.170000</td>\n",
       "      <td>3.140000</td>\n",
       "    </tr>\n",
       "    <tr>\n",
       "      <th>3</th>\n",
       "      <td>81.50</td>\n",
       "      <td>83.50</td>\n",
       "      <td>106.0</td>\n",
       "      <td>34.000000</td>\n",
       "      <td>140.000000</td>\n",
       "      <td>27.500000</td>\n",
       "      <td>133.50000</td>\n",
       "      <td>234.0</td>\n",
       "      <td>8.5</td>\n",
       "      <td>8.739067</td>\n",
       "      <td>9.375367</td>\n",
       "      <td>18.00000</td>\n",
       "      <td>11.120000</td>\n",
       "      <td>3.270000</td>\n",
       "    </tr>\n",
       "    <tr>\n",
       "      <th>4</th>\n",
       "      <td>82.25</td>\n",
       "      <td>86.50</td>\n",
       "      <td>109.5</td>\n",
       "      <td>33.000000</td>\n",
       "      <td>142.500000</td>\n",
       "      <td>28.500000</td>\n",
       "      <td>138.00000</td>\n",
       "      <td>228.0</td>\n",
       "      <td>5.2</td>\n",
       "      <td>8.739067</td>\n",
       "      <td>9.375367</td>\n",
       "      <td>5.00000</td>\n",
       "      <td>11.170000</td>\n",
       "      <td>3.350000</td>\n",
       "    </tr>\n",
       "    <tr>\n",
       "      <th>...</th>\n",
       "      <td>...</td>\n",
       "      <td>...</td>\n",
       "      <td>...</td>\n",
       "      <td>...</td>\n",
       "      <td>...</td>\n",
       "      <td>...</td>\n",
       "      <td>...</td>\n",
       "      <td>...</td>\n",
       "      <td>...</td>\n",
       "      <td>...</td>\n",
       "      <td>...</td>\n",
       "      <td>...</td>\n",
       "      <td>...</td>\n",
       "      <td>...</td>\n",
       "    </tr>\n",
       "    <tr>\n",
       "      <th>489</th>\n",
       "      <td>74.50</td>\n",
       "      <td>76.00</td>\n",
       "      <td>96.5</td>\n",
       "      <td>33.500000</td>\n",
       "      <td>130.000000</td>\n",
       "      <td>28.000000</td>\n",
       "      <td>124.50000</td>\n",
       "      <td>175.0</td>\n",
       "      <td>6.9</td>\n",
       "      <td>8.250000</td>\n",
       "      <td>8.750000</td>\n",
       "      <td>10.40991</td>\n",
       "      <td>11.000000</td>\n",
       "      <td>3.190000</td>\n",
       "    </tr>\n",
       "    <tr>\n",
       "      <th>490</th>\n",
       "      <td>77.75</td>\n",
       "      <td>81.00</td>\n",
       "      <td>102.5</td>\n",
       "      <td>35.361446</td>\n",
       "      <td>138.442018</td>\n",
       "      <td>29.855422</td>\n",
       "      <td>132.94503</td>\n",
       "      <td>176.0</td>\n",
       "      <td>8.3</td>\n",
       "      <td>8.250000</td>\n",
       "      <td>9.000000</td>\n",
       "      <td>10.40991</td>\n",
       "      <td>11.295382</td>\n",
       "      <td>3.288152</td>\n",
       "    </tr>\n",
       "    <tr>\n",
       "      <th>491</th>\n",
       "      <td>74.25</td>\n",
       "      <td>81.25</td>\n",
       "      <td>99.5</td>\n",
       "      <td>35.500000</td>\n",
       "      <td>135.000000</td>\n",
       "      <td>33.000000</td>\n",
       "      <td>132.50000</td>\n",
       "      <td>192.0</td>\n",
       "      <td>6.4</td>\n",
       "      <td>8.500000</td>\n",
       "      <td>8.750000</td>\n",
       "      <td>10.40991</td>\n",
       "      <td>11.240000</td>\n",
       "      <td>3.150000</td>\n",
       "    </tr>\n",
       "    <tr>\n",
       "      <th>492</th>\n",
       "      <td>80.75</td>\n",
       "      <td>82.75</td>\n",
       "      <td>105.0</td>\n",
       "      <td>35.361446</td>\n",
       "      <td>138.442018</td>\n",
       "      <td>29.855422</td>\n",
       "      <td>132.94503</td>\n",
       "      <td>232.0</td>\n",
       "      <td>8.8</td>\n",
       "      <td>8.750000</td>\n",
       "      <td>10.000000</td>\n",
       "      <td>10.40991</td>\n",
       "      <td>11.295382</td>\n",
       "      <td>3.288152</td>\n",
       "    </tr>\n",
       "    <tr>\n",
       "      <th>493</th>\n",
       "      <td>75.00</td>\n",
       "      <td>79.25</td>\n",
       "      <td>99.0</td>\n",
       "      <td>34.500000</td>\n",
       "      <td>133.500000</td>\n",
       "      <td>27.500000</td>\n",
       "      <td>126.50000</td>\n",
       "      <td>190.0</td>\n",
       "      <td>5.6</td>\n",
       "      <td>8.750000</td>\n",
       "      <td>9.250000</td>\n",
       "      <td>10.40991</td>\n",
       "      <td>10.420000</td>\n",
       "      <td>3.190000</td>\n",
       "    </tr>\n",
       "  </tbody>\n",
       "</table>\n",
       "<p>384 rows × 14 columns</p>\n",
       "</div>"
      ],
      "text/plain": [
       "     Height (With Shoes)  Wingspan  Standing reach  Vertical (Max)  \\\n",
       "0                  82.00     83.25           105.0       35.500000   \n",
       "1                  78.25     81.00           103.5       37.000000   \n",
       "2                  77.00     82.25           102.5       35.000000   \n",
       "3                  81.50     83.50           106.0       34.000000   \n",
       "4                  82.25     86.50           109.5       33.000000   \n",
       "..                   ...       ...             ...             ...   \n",
       "489                74.50     76.00            96.5       33.500000   \n",
       "490                77.75     81.00           102.5       35.361446   \n",
       "491                74.25     81.25            99.5       35.500000   \n",
       "492                80.75     82.75           105.0       35.361446   \n",
       "493                75.00     79.25            99.0       34.500000   \n",
       "\n",
       "     Vertical (Max Reach)  Vertical (No Step)  Vertical (No Step Reach)  \\\n",
       "0              140.500000           32.000000                 137.00000   \n",
       "1              140.500000           30.500000                 134.00000   \n",
       "2              137.500000           31.500000                 134.00000   \n",
       "3              140.000000           27.500000                 133.50000   \n",
       "4              142.500000           28.500000                 138.00000   \n",
       "..                    ...                 ...                       ...   \n",
       "489            130.000000           28.000000                 124.50000   \n",
       "490            138.442018           29.855422                 132.94503   \n",
       "491            135.000000           33.000000                 132.50000   \n",
       "492            138.442018           29.855422                 132.94503   \n",
       "493            133.500000           27.500000                 126.50000   \n",
       "\n",
       "     Weight  Body Fat  Hand (Length)  Hand (Width)     Bench    Agility  \\\n",
       "0     248.0       8.2       8.739067      9.375367  22.00000  10.950000   \n",
       "1     213.0       5.1       8.739067      9.375367   9.00000  11.150000   \n",
       "2     215.0       4.4       8.739067      9.375367   8.00000  11.170000   \n",
       "3     234.0       8.5       8.739067      9.375367  18.00000  11.120000   \n",
       "4     228.0       5.2       8.739067      9.375367   5.00000  11.170000   \n",
       "..      ...       ...            ...           ...       ...        ...   \n",
       "489   175.0       6.9       8.250000      8.750000  10.40991  11.000000   \n",
       "490   176.0       8.3       8.250000      9.000000  10.40991  11.295382   \n",
       "491   192.0       6.4       8.500000      8.750000  10.40991  11.240000   \n",
       "492   232.0       8.8       8.750000     10.000000  10.40991  11.295382   \n",
       "493   190.0       5.6       8.750000      9.250000  10.40991  10.420000   \n",
       "\n",
       "       Sprint  \n",
       "0    3.280000  \n",
       "1    3.180000  \n",
       "2    3.140000  \n",
       "3    3.270000  \n",
       "4    3.350000  \n",
       "..        ...  \n",
       "489  3.190000  \n",
       "490  3.288152  \n",
       "491  3.150000  \n",
       "492  3.288152  \n",
       "493  3.190000  \n",
       "\n",
       "[384 rows x 14 columns]"
      ]
     },
     "execution_count": 393,
     "metadata": {},
     "output_type": "execute_result"
    }
   ],
   "source": [
    "X_new"
   ]
  },
  {
   "cell_type": "code",
   "execution_count": 394,
   "id": "54e83898",
   "metadata": {},
   "outputs": [
    {
     "data": {
      "text/plain": [
       "0       1.0\n",
       "1      11.0\n",
       "2      12.0\n",
       "3      13.0\n",
       "4      14.0\n",
       "       ... \n",
       "489    51.0\n",
       "490    52.0\n",
       "491    53.0\n",
       "492    54.0\n",
       "493    55.0\n",
       "Name: Draft pick, Length: 384, dtype: float64"
      ]
     },
     "execution_count": 394,
     "metadata": {},
     "output_type": "execute_result"
    }
   ],
   "source": [
    "y"
   ]
  },
  {
   "cell_type": "code",
   "execution_count": 469,
   "id": "ecfd82c8",
   "metadata": {},
   "outputs": [],
   "source": [
    "decReg = DecisionTreeRegressor()\n",
    "x_train, x_test, y_train, y_test = train_test_split(X_new, y, test_size = 0.2, random_state=1336)"
   ]
  },
  {
   "cell_type": "code",
   "execution_count": 470,
   "id": "03a88e23",
   "metadata": {},
   "outputs": [
    {
     "data": {
      "text/html": [
       "<style>#sk-container-id-84 {color: black;background-color: white;}#sk-container-id-84 pre{padding: 0;}#sk-container-id-84 div.sk-toggleable {background-color: white;}#sk-container-id-84 label.sk-toggleable__label {cursor: pointer;display: block;width: 100%;margin-bottom: 0;padding: 0.3em;box-sizing: border-box;text-align: center;}#sk-container-id-84 label.sk-toggleable__label-arrow:before {content: \"▸\";float: left;margin-right: 0.25em;color: #696969;}#sk-container-id-84 label.sk-toggleable__label-arrow:hover:before {color: black;}#sk-container-id-84 div.sk-estimator:hover label.sk-toggleable__label-arrow:before {color: black;}#sk-container-id-84 div.sk-toggleable__content {max-height: 0;max-width: 0;overflow: hidden;text-align: left;background-color: #f0f8ff;}#sk-container-id-84 div.sk-toggleable__content pre {margin: 0.2em;color: black;border-radius: 0.25em;background-color: #f0f8ff;}#sk-container-id-84 input.sk-toggleable__control:checked~div.sk-toggleable__content {max-height: 200px;max-width: 100%;overflow: auto;}#sk-container-id-84 input.sk-toggleable__control:checked~label.sk-toggleable__label-arrow:before {content: \"▾\";}#sk-container-id-84 div.sk-estimator input.sk-toggleable__control:checked~label.sk-toggleable__label {background-color: #d4ebff;}#sk-container-id-84 div.sk-label input.sk-toggleable__control:checked~label.sk-toggleable__label {background-color: #d4ebff;}#sk-container-id-84 input.sk-hidden--visually {border: 0;clip: rect(1px 1px 1px 1px);clip: rect(1px, 1px, 1px, 1px);height: 1px;margin: -1px;overflow: hidden;padding: 0;position: absolute;width: 1px;}#sk-container-id-84 div.sk-estimator {font-family: monospace;background-color: #f0f8ff;border: 1px dotted black;border-radius: 0.25em;box-sizing: border-box;margin-bottom: 0.5em;}#sk-container-id-84 div.sk-estimator:hover {background-color: #d4ebff;}#sk-container-id-84 div.sk-parallel-item::after {content: \"\";width: 100%;border-bottom: 1px solid gray;flex-grow: 1;}#sk-container-id-84 div.sk-label:hover label.sk-toggleable__label {background-color: #d4ebff;}#sk-container-id-84 div.sk-serial::before {content: \"\";position: absolute;border-left: 1px solid gray;box-sizing: border-box;top: 0;bottom: 0;left: 50%;z-index: 0;}#sk-container-id-84 div.sk-serial {display: flex;flex-direction: column;align-items: center;background-color: white;padding-right: 0.2em;padding-left: 0.2em;position: relative;}#sk-container-id-84 div.sk-item {position: relative;z-index: 1;}#sk-container-id-84 div.sk-parallel {display: flex;align-items: stretch;justify-content: center;background-color: white;position: relative;}#sk-container-id-84 div.sk-item::before, #sk-container-id-84 div.sk-parallel-item::before {content: \"\";position: absolute;border-left: 1px solid gray;box-sizing: border-box;top: 0;bottom: 0;left: 50%;z-index: -1;}#sk-container-id-84 div.sk-parallel-item {display: flex;flex-direction: column;z-index: 1;position: relative;background-color: white;}#sk-container-id-84 div.sk-parallel-item:first-child::after {align-self: flex-end;width: 50%;}#sk-container-id-84 div.sk-parallel-item:last-child::after {align-self: flex-start;width: 50%;}#sk-container-id-84 div.sk-parallel-item:only-child::after {width: 0;}#sk-container-id-84 div.sk-dashed-wrapped {border: 1px dashed gray;margin: 0 0.4em 0.5em 0.4em;box-sizing: border-box;padding-bottom: 0.4em;background-color: white;}#sk-container-id-84 div.sk-label label {font-family: monospace;font-weight: bold;display: inline-block;line-height: 1.2em;}#sk-container-id-84 div.sk-label-container {text-align: center;}#sk-container-id-84 div.sk-container {/* jupyter's `normalize.less` sets `[hidden] { display: none; }` but bootstrap.min.css set `[hidden] { display: none !important; }` so we also need the `!important` here to be able to override the default hidden behavior on the sphinx rendered scikit-learn.org. See: https://github.com/scikit-learn/scikit-learn/issues/21755 */display: inline-block !important;position: relative;}#sk-container-id-84 div.sk-text-repr-fallback {display: none;}</style><div id=\"sk-container-id-84\" class=\"sk-top-container\"><div class=\"sk-text-repr-fallback\"><pre>DecisionTreeRegressor(min_impurity_decrease=0.5)</pre><b>In a Jupyter environment, please rerun this cell to show the HTML representation or trust the notebook. <br />On GitHub, the HTML representation is unable to render, please try loading this page with nbviewer.org.</b></div><div class=\"sk-container\" hidden><div class=\"sk-item\"><div class=\"sk-estimator sk-toggleable\"><input class=\"sk-toggleable__control sk-hidden--visually\" id=\"sk-estimator-id-84\" type=\"checkbox\" checked><label for=\"sk-estimator-id-84\" class=\"sk-toggleable__label sk-toggleable__label-arrow\">DecisionTreeRegressor</label><div class=\"sk-toggleable__content\"><pre>DecisionTreeRegressor(min_impurity_decrease=0.5)</pre></div></div></div></div></div>"
      ],
      "text/plain": [
       "DecisionTreeRegressor(min_impurity_decrease=0.5)"
      ]
     },
     "execution_count": 470,
     "metadata": {},
     "output_type": "execute_result"
    }
   ],
   "source": [
    "decReg.fit(x_train, y_train)"
   ]
  },
  {
   "cell_type": "code",
   "execution_count": 471,
   "id": "c09a92cc",
   "metadata": {},
   "outputs": [
    {
     "name": "stdout",
     "output_type": "stream",
     "text": [
      "rmse is 21.96567561589076\n"
     ]
    },
    {
     "data": {
      "text/plain": [
       "-0.7186184776114237"
      ]
     },
     "execution_count": 471,
     "metadata": {},
     "output_type": "execute_result"
    }
   ],
   "source": [
    "y_pred = decReg.predict(x_test)\n",
    "print(f'rmse is {np.sqrt(mean_squared_error(y_pred, y_test))}')\n",
    "\n",
    "r2_score(y_test, y_pred)"
   ]
  },
  {
   "cell_type": "code",
   "execution_count": 475,
   "id": "2ea9ac39",
   "metadata": {},
   "outputs": [
    {
     "name": "stdout",
     "output_type": "stream",
     "text": [
      "P-values for all features:\n",
      "const                       1.685755e-125\n",
      "Height (With Shoes)          9.716123e-01\n",
      "Wingspan                     8.566005e-01\n",
      "Standing reach               9.067395e-01\n",
      "Vertical (Max)               5.446327e-01\n",
      "Vertical (Max Reach)         5.438498e-01\n",
      "Vertical (No Step)           3.281039e-01\n",
      "Vertical (No Step Reach)     3.567766e-01\n",
      "Weight                       7.400874e-02\n",
      "Body Fat                     9.855072e-02\n",
      "Hand (Length)                5.395827e-01\n",
      "Hand (Width)                 9.074046e-01\n",
      "Bench                        1.325432e-01\n",
      "Agility                      1.332516e-02\n",
      "Sprint                       2.868491e-04\n",
      "dtype: float64\n"
     ]
    },
    {
     "name": "stderr",
     "output_type": "stream",
     "text": [
      "/var/folders/rj/xbh3qs3113570m39p4g31bth0000gp/T/ipykernel_81852/1964050458.py:4: SettingWithCopyWarning: \n",
      "A value is trying to be set on a copy of a slice from a DataFrame.\n",
      "Try using .loc[row_indexer,col_indexer] = value instead\n",
      "\n",
      "See the caveats in the documentation: https://pandas.pydata.org/pandas-docs/stable/user_guide/indexing.html#returning-a-view-versus-a-copy\n",
      "  X_new[features] = scaler.fit_transform(X_new[features])\n"
     ]
    }
   ],
   "source": [
    "scaler = StandardScaler()\n",
    "\n",
    "X_new = combine_data[features]\n",
    "X_new[features] = scaler.fit_transform(X_new[features])\n",
    "\n",
    "\n",
    "import statsmodels.api as sm\n",
    "\n",
    "# Assuming X is your feature matrix and y is your target variable\n",
    "# Fit the linear regression model\n",
    "model = sm.OLS(y, sm.add_constant(X_new)).fit()\n",
    "\n",
    "# Get the p-values for all features\n",
    "p_values = model.pvalues\n",
    "\n",
    "print(\"P-values for all features:\")\n",
    "print(p_values)"
   ]
  },
  {
   "cell_type": "code",
   "execution_count": 476,
   "id": "a5e2878f",
   "metadata": {},
   "outputs": [
    {
     "data": {
      "text/html": [
       "<div>\n",
       "<style scoped>\n",
       "    .dataframe tbody tr th:only-of-type {\n",
       "        vertical-align: middle;\n",
       "    }\n",
       "\n",
       "    .dataframe tbody tr th {\n",
       "        vertical-align: top;\n",
       "    }\n",
       "\n",
       "    .dataframe thead th {\n",
       "        text-align: right;\n",
       "    }\n",
       "</style>\n",
       "<table border=\"1\" class=\"dataframe\">\n",
       "  <thead>\n",
       "    <tr style=\"text-align: right;\">\n",
       "      <th></th>\n",
       "      <th>Height (With Shoes)</th>\n",
       "      <th>Wingspan</th>\n",
       "      <th>Standing reach</th>\n",
       "      <th>Vertical (Max)</th>\n",
       "      <th>Vertical (Max Reach)</th>\n",
       "      <th>Vertical (No Step)</th>\n",
       "      <th>Vertical (No Step Reach)</th>\n",
       "      <th>Weight</th>\n",
       "      <th>Body Fat</th>\n",
       "      <th>Hand (Length)</th>\n",
       "      <th>Hand (Width)</th>\n",
       "      <th>Bench</th>\n",
       "      <th>Agility</th>\n",
       "      <th>Sprint</th>\n",
       "    </tr>\n",
       "  </thead>\n",
       "  <tbody>\n",
       "    <tr>\n",
       "      <th>0</th>\n",
       "      <td>0.922806</td>\n",
       "      <td>0.183584</td>\n",
       "      <td>0.334080</td>\n",
       "      <td>0.042090</td>\n",
       "      <td>5.399584e-01</td>\n",
       "      <td>7.544187e-01</td>\n",
       "      <td>9.705654e-01</td>\n",
       "      <td>1.330789</td>\n",
       "      <td>0.452173</td>\n",
       "      <td>0.000000</td>\n",
       "      <td>0.000000</td>\n",
       "      <td>3.042151e+00</td>\n",
       "      <td>-6.872225e-01</td>\n",
       "      <td>-0.068741</td>\n",
       "    </tr>\n",
       "    <tr>\n",
       "      <th>1</th>\n",
       "      <td>-0.228702</td>\n",
       "      <td>-0.394991</td>\n",
       "      <td>0.027785</td>\n",
       "      <td>0.497761</td>\n",
       "      <td>5.399584e-01</td>\n",
       "      <td>2.267494e-01</td>\n",
       "      <td>2.525092e-01</td>\n",
       "      <td>-0.076090</td>\n",
       "      <td>-0.826990</td>\n",
       "      <td>0.000000</td>\n",
       "      <td>0.000000</td>\n",
       "      <td>-3.700712e-01</td>\n",
       "      <td>-2.892736e-01</td>\n",
       "      <td>-0.912033</td>\n",
       "    </tr>\n",
       "    <tr>\n",
       "      <th>2</th>\n",
       "      <td>-0.612538</td>\n",
       "      <td>-0.073561</td>\n",
       "      <td>-0.176412</td>\n",
       "      <td>-0.109800</td>\n",
       "      <td>-2.471599e-01</td>\n",
       "      <td>5.785289e-01</td>\n",
       "      <td>2.525092e-01</td>\n",
       "      <td>0.004303</td>\n",
       "      <td>-1.115833</td>\n",
       "      <td>0.000000</td>\n",
       "      <td>0.000000</td>\n",
       "      <td>-6.325498e-01</td>\n",
       "      <td>-2.494787e-01</td>\n",
       "      <td>-1.249350</td>\n",
       "    </tr>\n",
       "    <tr>\n",
       "      <th>3</th>\n",
       "      <td>0.769271</td>\n",
       "      <td>0.247870</td>\n",
       "      <td>0.538276</td>\n",
       "      <td>-0.413581</td>\n",
       "      <td>4.087720e-01</td>\n",
       "      <td>-8.285890e-01</td>\n",
       "      <td>1.328332e-01</td>\n",
       "      <td>0.768038</td>\n",
       "      <td>0.575963</td>\n",
       "      <td>0.000000</td>\n",
       "      <td>0.000000</td>\n",
       "      <td>1.992236e+00</td>\n",
       "      <td>-3.489659e-01</td>\n",
       "      <td>-0.153070</td>\n",
       "    </tr>\n",
       "    <tr>\n",
       "      <th>4</th>\n",
       "      <td>0.999573</td>\n",
       "      <td>1.019302</td>\n",
       "      <td>1.252965</td>\n",
       "      <td>-0.717362</td>\n",
       "      <td>1.064704e+00</td>\n",
       "      <td>-4.768095e-01</td>\n",
       "      <td>1.209917e+00</td>\n",
       "      <td>0.526858</td>\n",
       "      <td>-0.785727</td>\n",
       "      <td>0.000000</td>\n",
       "      <td>0.000000</td>\n",
       "      <td>-1.419986e+00</td>\n",
       "      <td>-2.494787e-01</td>\n",
       "      <td>0.521563</td>\n",
       "    </tr>\n",
       "    <tr>\n",
       "      <th>...</th>\n",
       "      <td>...</td>\n",
       "      <td>...</td>\n",
       "      <td>...</td>\n",
       "      <td>...</td>\n",
       "      <td>...</td>\n",
       "      <td>...</td>\n",
       "      <td>...</td>\n",
       "      <td>...</td>\n",
       "      <td>...</td>\n",
       "      <td>...</td>\n",
       "      <td>...</td>\n",
       "      <td>...</td>\n",
       "      <td>...</td>\n",
       "      <td>...</td>\n",
       "    </tr>\n",
       "    <tr>\n",
       "      <th>489</th>\n",
       "      <td>-1.380210</td>\n",
       "      <td>-1.680712</td>\n",
       "      <td>-1.401592</td>\n",
       "      <td>-0.565471</td>\n",
       "      <td>-2.214955e+00</td>\n",
       "      <td>-6.526993e-01</td>\n",
       "      <td>-2.021335e+00</td>\n",
       "      <td>-1.603559</td>\n",
       "      <td>-0.084250</td>\n",
       "      <td>-1.112046</td>\n",
       "      <td>-0.936237</td>\n",
       "      <td>-4.662556e-16</td>\n",
       "      <td>-5.877353e-01</td>\n",
       "      <td>-0.827704</td>\n",
       "    </tr>\n",
       "    <tr>\n",
       "      <th>490</th>\n",
       "      <td>-0.382237</td>\n",
       "      <td>-0.394991</td>\n",
       "      <td>-0.176412</td>\n",
       "      <td>0.000000</td>\n",
       "      <td>7.457082e-15</td>\n",
       "      <td>2.499544e-15</td>\n",
       "      <td>-6.802795e-15</td>\n",
       "      <td>-1.563363</td>\n",
       "      <td>0.493436</td>\n",
       "      <td>-1.112046</td>\n",
       "      <td>-0.561962</td>\n",
       "      <td>-4.662556e-16</td>\n",
       "      <td>-3.534497e-15</td>\n",
       "      <td>0.000000</td>\n",
       "    </tr>\n",
       "    <tr>\n",
       "      <th>491</th>\n",
       "      <td>-1.456977</td>\n",
       "      <td>-0.330705</td>\n",
       "      <td>-0.789002</td>\n",
       "      <td>0.042090</td>\n",
       "      <td>-9.030917e-01</td>\n",
       "      <td>1.106198e+00</td>\n",
       "      <td>-1.065189e-01</td>\n",
       "      <td>-0.920218</td>\n",
       "      <td>-0.290567</td>\n",
       "      <td>-0.543593</td>\n",
       "      <td>-0.936237</td>\n",
       "      <td>-4.662556e-16</td>\n",
       "      <td>-1.101966e-01</td>\n",
       "      <td>-1.165020</td>\n",
       "    </tr>\n",
       "    <tr>\n",
       "      <th>492</th>\n",
       "      <td>0.538970</td>\n",
       "      <td>0.055011</td>\n",
       "      <td>0.334080</td>\n",
       "      <td>0.000000</td>\n",
       "      <td>7.457082e-15</td>\n",
       "      <td>2.499544e-15</td>\n",
       "      <td>-6.802795e-15</td>\n",
       "      <td>0.687644</td>\n",
       "      <td>0.699753</td>\n",
       "      <td>0.024859</td>\n",
       "      <td>0.935140</td>\n",
       "      <td>-4.662556e-16</td>\n",
       "      <td>-3.534497e-15</td>\n",
       "      <td>0.000000</td>\n",
       "    </tr>\n",
       "    <tr>\n",
       "      <th>493</th>\n",
       "      <td>-1.226676</td>\n",
       "      <td>-0.844993</td>\n",
       "      <td>-0.891101</td>\n",
       "      <td>-0.261691</td>\n",
       "      <td>-1.296651e+00</td>\n",
       "      <td>-8.285890e-01</td>\n",
       "      <td>-1.542631e+00</td>\n",
       "      <td>-1.000611</td>\n",
       "      <td>-0.620673</td>\n",
       "      <td>0.024859</td>\n",
       "      <td>-0.187687</td>\n",
       "      <td>-4.662556e-16</td>\n",
       "      <td>-1.741787e+00</td>\n",
       "      <td>-0.827704</td>\n",
       "    </tr>\n",
       "  </tbody>\n",
       "</table>\n",
       "<p>384 rows × 14 columns</p>\n",
       "</div>"
      ],
      "text/plain": [
       "     Height (With Shoes)  Wingspan  Standing reach  Vertical (Max)  \\\n",
       "0               0.922806  0.183584        0.334080        0.042090   \n",
       "1              -0.228702 -0.394991        0.027785        0.497761   \n",
       "2              -0.612538 -0.073561       -0.176412       -0.109800   \n",
       "3               0.769271  0.247870        0.538276       -0.413581   \n",
       "4               0.999573  1.019302        1.252965       -0.717362   \n",
       "..                   ...       ...             ...             ...   \n",
       "489            -1.380210 -1.680712       -1.401592       -0.565471   \n",
       "490            -0.382237 -0.394991       -0.176412        0.000000   \n",
       "491            -1.456977 -0.330705       -0.789002        0.042090   \n",
       "492             0.538970  0.055011        0.334080        0.000000   \n",
       "493            -1.226676 -0.844993       -0.891101       -0.261691   \n",
       "\n",
       "     Vertical (Max Reach)  Vertical (No Step)  Vertical (No Step Reach)  \\\n",
       "0            5.399584e-01        7.544187e-01              9.705654e-01   \n",
       "1            5.399584e-01        2.267494e-01              2.525092e-01   \n",
       "2           -2.471599e-01        5.785289e-01              2.525092e-01   \n",
       "3            4.087720e-01       -8.285890e-01              1.328332e-01   \n",
       "4            1.064704e+00       -4.768095e-01              1.209917e+00   \n",
       "..                    ...                 ...                       ...   \n",
       "489         -2.214955e+00       -6.526993e-01             -2.021335e+00   \n",
       "490          7.457082e-15        2.499544e-15             -6.802795e-15   \n",
       "491         -9.030917e-01        1.106198e+00             -1.065189e-01   \n",
       "492          7.457082e-15        2.499544e-15             -6.802795e-15   \n",
       "493         -1.296651e+00       -8.285890e-01             -1.542631e+00   \n",
       "\n",
       "       Weight  Body Fat  Hand (Length)  Hand (Width)         Bench  \\\n",
       "0    1.330789  0.452173       0.000000      0.000000  3.042151e+00   \n",
       "1   -0.076090 -0.826990       0.000000      0.000000 -3.700712e-01   \n",
       "2    0.004303 -1.115833       0.000000      0.000000 -6.325498e-01   \n",
       "3    0.768038  0.575963       0.000000      0.000000  1.992236e+00   \n",
       "4    0.526858 -0.785727       0.000000      0.000000 -1.419986e+00   \n",
       "..        ...       ...            ...           ...           ...   \n",
       "489 -1.603559 -0.084250      -1.112046     -0.936237 -4.662556e-16   \n",
       "490 -1.563363  0.493436      -1.112046     -0.561962 -4.662556e-16   \n",
       "491 -0.920218 -0.290567      -0.543593     -0.936237 -4.662556e-16   \n",
       "492  0.687644  0.699753       0.024859      0.935140 -4.662556e-16   \n",
       "493 -1.000611 -0.620673       0.024859     -0.187687 -4.662556e-16   \n",
       "\n",
       "          Agility    Sprint  \n",
       "0   -6.872225e-01 -0.068741  \n",
       "1   -2.892736e-01 -0.912033  \n",
       "2   -2.494787e-01 -1.249350  \n",
       "3   -3.489659e-01 -0.153070  \n",
       "4   -2.494787e-01  0.521563  \n",
       "..            ...       ...  \n",
       "489 -5.877353e-01 -0.827704  \n",
       "490 -3.534497e-15  0.000000  \n",
       "491 -1.101966e-01 -1.165020  \n",
       "492 -3.534497e-15  0.000000  \n",
       "493 -1.741787e+00 -0.827704  \n",
       "\n",
       "[384 rows x 14 columns]"
      ]
     },
     "execution_count": 476,
     "metadata": {},
     "output_type": "execute_result"
    }
   ],
   "source": [
    "X_new"
   ]
  },
  {
   "cell_type": "code",
   "execution_count": 477,
   "id": "1955d0d8",
   "metadata": {},
   "outputs": [],
   "source": [
    "x_train, x_test, y_train, y_test = train_test_split(X_new, y, test_size = 0.2, random_state=1336)"
   ]
  },
  {
   "cell_type": "code",
   "execution_count": 488,
   "id": "4352cc29",
   "metadata": {},
   "outputs": [
    {
     "name": "stdout",
     "output_type": "stream",
     "text": [
      "rmse is 15.576408043388138\n"
     ]
    },
    {
     "data": {
      "text/plain": [
       "0.1357786792473078"
      ]
     },
     "execution_count": 488,
     "metadata": {},
     "output_type": "execute_result"
    }
   ],
   "source": [
    "lasso_reg = Lasso(alpha=0.1)\n",
    "lasso_reg.fit(x_train, y_train)\n",
    "\n",
    "y_pred = lasso_reg.predict(x_test)\n",
    "print(f'rmse is {np.sqrt(mean_squared_error(y_pred, y_test))}')\n",
    "\n",
    "r2_score(y_test, y_pred)"
   ]
  },
  {
   "cell_type": "code",
   "execution_count": 489,
   "id": "ef93c737",
   "metadata": {},
   "outputs": [
    {
     "name": "stdout",
     "output_type": "stream",
     "text": [
      "rmse is 21.70313281593176\n"
     ]
    },
    {
     "data": {
      "text/plain": [
       "-0.6777807282304653"
      ]
     },
     "execution_count": 489,
     "metadata": {},
     "output_type": "execute_result"
    }
   ],
   "source": [
    "decReg = DecisionTreeRegressor()\n",
    "decReg.fit(x_train, y_train)\n",
    "\n",
    "y_pred = decReg.predict(x_test)\n",
    "print(f'rmse is {np.sqrt(mean_squared_error(y_pred, y_test))}')\n",
    "\n",
    "r2_score(y_test, y_pred)\n"
   ]
  },
  {
   "cell_type": "code",
   "execution_count": 490,
   "id": "0a256d38",
   "metadata": {},
   "outputs": [
    {
     "name": "stdout",
     "output_type": "stream",
     "text": [
      "rmse is 15.677847395825365\n"
     ]
    },
    {
     "data": {
      "text/plain": [
       "0.12448576655118615"
      ]
     },
     "execution_count": 490,
     "metadata": {},
     "output_type": "execute_result"
    }
   ],
   "source": [
    "lin_reg = LinearRegression()\n",
    "lin_reg.fit(x_train, y_train)\n",
    "\n",
    "y_pred = lin_reg.predict(x_test)\n",
    "print(f'rmse is {np.sqrt(mean_squared_error(y_pred, y_test))}')\n",
    "\n",
    "r2_score(y_test, y_pred)"
   ]
  },
  {
   "cell_type": "code",
   "execution_count": 492,
   "id": "9abac6ce",
   "metadata": {},
   "outputs": [],
   "source": [
    "from sklearn.ensemble import IsolationForest"
   ]
  },
  {
   "cell_type": "code",
   "execution_count": 496,
   "id": "844bbe89",
   "metadata": {},
   "outputs": [],
   "source": [
    "# X = combine_data[features]"
   ]
  },
  {
   "cell_type": "code",
   "execution_count": 498,
   "id": "46b6eb64",
   "metadata": {},
   "outputs": [
    {
     "data": {
      "text/html": [
       "<div>\n",
       "<style scoped>\n",
       "    .dataframe tbody tr th:only-of-type {\n",
       "        vertical-align: middle;\n",
       "    }\n",
       "\n",
       "    .dataframe tbody tr th {\n",
       "        vertical-align: top;\n",
       "    }\n",
       "\n",
       "    .dataframe thead th {\n",
       "        text-align: right;\n",
       "    }\n",
       "</style>\n",
       "<table border=\"1\" class=\"dataframe\">\n",
       "  <thead>\n",
       "    <tr style=\"text-align: right;\">\n",
       "      <th></th>\n",
       "      <th>Height (With Shoes)</th>\n",
       "      <th>Wingspan</th>\n",
       "      <th>Standing reach</th>\n",
       "      <th>Vertical (Max)</th>\n",
       "      <th>Vertical (Max Reach)</th>\n",
       "      <th>Vertical (No Step)</th>\n",
       "      <th>Vertical (No Step Reach)</th>\n",
       "      <th>Weight</th>\n",
       "      <th>Body Fat</th>\n",
       "      <th>Hand (Length)</th>\n",
       "      <th>Hand (Width)</th>\n",
       "      <th>Bench</th>\n",
       "      <th>Agility</th>\n",
       "      <th>Sprint</th>\n",
       "    </tr>\n",
       "  </thead>\n",
       "  <tbody>\n",
       "    <tr>\n",
       "      <th>0</th>\n",
       "      <td>82.00</td>\n",
       "      <td>83.25</td>\n",
       "      <td>105.0</td>\n",
       "      <td>35.500000</td>\n",
       "      <td>140.500000</td>\n",
       "      <td>32.000000</td>\n",
       "      <td>137.00000</td>\n",
       "      <td>248.0</td>\n",
       "      <td>8.2</td>\n",
       "      <td>8.739067</td>\n",
       "      <td>9.375367</td>\n",
       "      <td>22.00000</td>\n",
       "      <td>10.950000</td>\n",
       "      <td>3.280000</td>\n",
       "    </tr>\n",
       "    <tr>\n",
       "      <th>1</th>\n",
       "      <td>78.25</td>\n",
       "      <td>81.00</td>\n",
       "      <td>103.5</td>\n",
       "      <td>37.000000</td>\n",
       "      <td>140.500000</td>\n",
       "      <td>30.500000</td>\n",
       "      <td>134.00000</td>\n",
       "      <td>213.0</td>\n",
       "      <td>5.1</td>\n",
       "      <td>8.739067</td>\n",
       "      <td>9.375367</td>\n",
       "      <td>9.00000</td>\n",
       "      <td>11.150000</td>\n",
       "      <td>3.180000</td>\n",
       "    </tr>\n",
       "    <tr>\n",
       "      <th>2</th>\n",
       "      <td>77.00</td>\n",
       "      <td>82.25</td>\n",
       "      <td>102.5</td>\n",
       "      <td>35.000000</td>\n",
       "      <td>137.500000</td>\n",
       "      <td>31.500000</td>\n",
       "      <td>134.00000</td>\n",
       "      <td>215.0</td>\n",
       "      <td>4.4</td>\n",
       "      <td>8.739067</td>\n",
       "      <td>9.375367</td>\n",
       "      <td>8.00000</td>\n",
       "      <td>11.170000</td>\n",
       "      <td>3.140000</td>\n",
       "    </tr>\n",
       "    <tr>\n",
       "      <th>3</th>\n",
       "      <td>81.50</td>\n",
       "      <td>83.50</td>\n",
       "      <td>106.0</td>\n",
       "      <td>34.000000</td>\n",
       "      <td>140.000000</td>\n",
       "      <td>27.500000</td>\n",
       "      <td>133.50000</td>\n",
       "      <td>234.0</td>\n",
       "      <td>8.5</td>\n",
       "      <td>8.739067</td>\n",
       "      <td>9.375367</td>\n",
       "      <td>18.00000</td>\n",
       "      <td>11.120000</td>\n",
       "      <td>3.270000</td>\n",
       "    </tr>\n",
       "    <tr>\n",
       "      <th>4</th>\n",
       "      <td>82.25</td>\n",
       "      <td>86.50</td>\n",
       "      <td>109.5</td>\n",
       "      <td>33.000000</td>\n",
       "      <td>142.500000</td>\n",
       "      <td>28.500000</td>\n",
       "      <td>138.00000</td>\n",
       "      <td>228.0</td>\n",
       "      <td>5.2</td>\n",
       "      <td>8.739067</td>\n",
       "      <td>9.375367</td>\n",
       "      <td>5.00000</td>\n",
       "      <td>11.170000</td>\n",
       "      <td>3.350000</td>\n",
       "    </tr>\n",
       "    <tr>\n",
       "      <th>...</th>\n",
       "      <td>...</td>\n",
       "      <td>...</td>\n",
       "      <td>...</td>\n",
       "      <td>...</td>\n",
       "      <td>...</td>\n",
       "      <td>...</td>\n",
       "      <td>...</td>\n",
       "      <td>...</td>\n",
       "      <td>...</td>\n",
       "      <td>...</td>\n",
       "      <td>...</td>\n",
       "      <td>...</td>\n",
       "      <td>...</td>\n",
       "      <td>...</td>\n",
       "    </tr>\n",
       "    <tr>\n",
       "      <th>489</th>\n",
       "      <td>74.50</td>\n",
       "      <td>76.00</td>\n",
       "      <td>96.5</td>\n",
       "      <td>33.500000</td>\n",
       "      <td>130.000000</td>\n",
       "      <td>28.000000</td>\n",
       "      <td>124.50000</td>\n",
       "      <td>175.0</td>\n",
       "      <td>6.9</td>\n",
       "      <td>8.250000</td>\n",
       "      <td>8.750000</td>\n",
       "      <td>10.40991</td>\n",
       "      <td>11.000000</td>\n",
       "      <td>3.190000</td>\n",
       "    </tr>\n",
       "    <tr>\n",
       "      <th>490</th>\n",
       "      <td>77.75</td>\n",
       "      <td>81.00</td>\n",
       "      <td>102.5</td>\n",
       "      <td>35.361446</td>\n",
       "      <td>138.442018</td>\n",
       "      <td>29.855422</td>\n",
       "      <td>132.94503</td>\n",
       "      <td>176.0</td>\n",
       "      <td>8.3</td>\n",
       "      <td>8.250000</td>\n",
       "      <td>9.000000</td>\n",
       "      <td>10.40991</td>\n",
       "      <td>11.295382</td>\n",
       "      <td>3.288152</td>\n",
       "    </tr>\n",
       "    <tr>\n",
       "      <th>491</th>\n",
       "      <td>74.25</td>\n",
       "      <td>81.25</td>\n",
       "      <td>99.5</td>\n",
       "      <td>35.500000</td>\n",
       "      <td>135.000000</td>\n",
       "      <td>33.000000</td>\n",
       "      <td>132.50000</td>\n",
       "      <td>192.0</td>\n",
       "      <td>6.4</td>\n",
       "      <td>8.500000</td>\n",
       "      <td>8.750000</td>\n",
       "      <td>10.40991</td>\n",
       "      <td>11.240000</td>\n",
       "      <td>3.150000</td>\n",
       "    </tr>\n",
       "    <tr>\n",
       "      <th>492</th>\n",
       "      <td>80.75</td>\n",
       "      <td>82.75</td>\n",
       "      <td>105.0</td>\n",
       "      <td>35.361446</td>\n",
       "      <td>138.442018</td>\n",
       "      <td>29.855422</td>\n",
       "      <td>132.94503</td>\n",
       "      <td>232.0</td>\n",
       "      <td>8.8</td>\n",
       "      <td>8.750000</td>\n",
       "      <td>10.000000</td>\n",
       "      <td>10.40991</td>\n",
       "      <td>11.295382</td>\n",
       "      <td>3.288152</td>\n",
       "    </tr>\n",
       "    <tr>\n",
       "      <th>493</th>\n",
       "      <td>75.00</td>\n",
       "      <td>79.25</td>\n",
       "      <td>99.0</td>\n",
       "      <td>34.500000</td>\n",
       "      <td>133.500000</td>\n",
       "      <td>27.500000</td>\n",
       "      <td>126.50000</td>\n",
       "      <td>190.0</td>\n",
       "      <td>5.6</td>\n",
       "      <td>8.750000</td>\n",
       "      <td>9.250000</td>\n",
       "      <td>10.40991</td>\n",
       "      <td>10.420000</td>\n",
       "      <td>3.190000</td>\n",
       "    </tr>\n",
       "  </tbody>\n",
       "</table>\n",
       "<p>384 rows × 14 columns</p>\n",
       "</div>"
      ],
      "text/plain": [
       "     Height (With Shoes)  Wingspan  Standing reach  Vertical (Max)  \\\n",
       "0                  82.00     83.25           105.0       35.500000   \n",
       "1                  78.25     81.00           103.5       37.000000   \n",
       "2                  77.00     82.25           102.5       35.000000   \n",
       "3                  81.50     83.50           106.0       34.000000   \n",
       "4                  82.25     86.50           109.5       33.000000   \n",
       "..                   ...       ...             ...             ...   \n",
       "489                74.50     76.00            96.5       33.500000   \n",
       "490                77.75     81.00           102.5       35.361446   \n",
       "491                74.25     81.25            99.5       35.500000   \n",
       "492                80.75     82.75           105.0       35.361446   \n",
       "493                75.00     79.25            99.0       34.500000   \n",
       "\n",
       "     Vertical (Max Reach)  Vertical (No Step)  Vertical (No Step Reach)  \\\n",
       "0              140.500000           32.000000                 137.00000   \n",
       "1              140.500000           30.500000                 134.00000   \n",
       "2              137.500000           31.500000                 134.00000   \n",
       "3              140.000000           27.500000                 133.50000   \n",
       "4              142.500000           28.500000                 138.00000   \n",
       "..                    ...                 ...                       ...   \n",
       "489            130.000000           28.000000                 124.50000   \n",
       "490            138.442018           29.855422                 132.94503   \n",
       "491            135.000000           33.000000                 132.50000   \n",
       "492            138.442018           29.855422                 132.94503   \n",
       "493            133.500000           27.500000                 126.50000   \n",
       "\n",
       "     Weight  Body Fat  Hand (Length)  Hand (Width)     Bench    Agility  \\\n",
       "0     248.0       8.2       8.739067      9.375367  22.00000  10.950000   \n",
       "1     213.0       5.1       8.739067      9.375367   9.00000  11.150000   \n",
       "2     215.0       4.4       8.739067      9.375367   8.00000  11.170000   \n",
       "3     234.0       8.5       8.739067      9.375367  18.00000  11.120000   \n",
       "4     228.0       5.2       8.739067      9.375367   5.00000  11.170000   \n",
       "..      ...       ...            ...           ...       ...        ...   \n",
       "489   175.0       6.9       8.250000      8.750000  10.40991  11.000000   \n",
       "490   176.0       8.3       8.250000      9.000000  10.40991  11.295382   \n",
       "491   192.0       6.4       8.500000      8.750000  10.40991  11.240000   \n",
       "492   232.0       8.8       8.750000     10.000000  10.40991  11.295382   \n",
       "493   190.0       5.6       8.750000      9.250000  10.40991  10.420000   \n",
       "\n",
       "       Sprint  \n",
       "0    3.280000  \n",
       "1    3.180000  \n",
       "2    3.140000  \n",
       "3    3.270000  \n",
       "4    3.350000  \n",
       "..        ...  \n",
       "489  3.190000  \n",
       "490  3.288152  \n",
       "491  3.150000  \n",
       "492  3.288152  \n",
       "493  3.190000  \n",
       "\n",
       "[384 rows x 14 columns]"
      ]
     },
     "execution_count": 498,
     "metadata": {},
     "output_type": "execute_result"
    }
   ],
   "source": [
    "# X"
   ]
  },
  {
   "cell_type": "code",
   "execution_count": 513,
   "id": "f3a0b674",
   "metadata": {},
   "outputs": [],
   "source": [
    "model = IsolationForest(n_estimators = 50, max_samples='auto', contamination = float(0.1), max_features = 1.0)"
   ]
  },
  {
   "cell_type": "code",
   "execution_count": 514,
   "id": "e7ed295c",
   "metadata": {},
   "outputs": [
    {
     "name": "stderr",
     "output_type": "stream",
     "text": [
      "/usr/local/lib/python3.10/site-packages/sklearn/base.py:439: UserWarning: X does not have valid feature names, but IsolationForest was fitted with feature names\n",
      "  warnings.warn(\n"
     ]
    },
    {
     "data": {
      "text/html": [
       "<style>#sk-container-id-87 {color: black;background-color: white;}#sk-container-id-87 pre{padding: 0;}#sk-container-id-87 div.sk-toggleable {background-color: white;}#sk-container-id-87 label.sk-toggleable__label {cursor: pointer;display: block;width: 100%;margin-bottom: 0;padding: 0.3em;box-sizing: border-box;text-align: center;}#sk-container-id-87 label.sk-toggleable__label-arrow:before {content: \"▸\";float: left;margin-right: 0.25em;color: #696969;}#sk-container-id-87 label.sk-toggleable__label-arrow:hover:before {color: black;}#sk-container-id-87 div.sk-estimator:hover label.sk-toggleable__label-arrow:before {color: black;}#sk-container-id-87 div.sk-toggleable__content {max-height: 0;max-width: 0;overflow: hidden;text-align: left;background-color: #f0f8ff;}#sk-container-id-87 div.sk-toggleable__content pre {margin: 0.2em;color: black;border-radius: 0.25em;background-color: #f0f8ff;}#sk-container-id-87 input.sk-toggleable__control:checked~div.sk-toggleable__content {max-height: 200px;max-width: 100%;overflow: auto;}#sk-container-id-87 input.sk-toggleable__control:checked~label.sk-toggleable__label-arrow:before {content: \"▾\";}#sk-container-id-87 div.sk-estimator input.sk-toggleable__control:checked~label.sk-toggleable__label {background-color: #d4ebff;}#sk-container-id-87 div.sk-label input.sk-toggleable__control:checked~label.sk-toggleable__label {background-color: #d4ebff;}#sk-container-id-87 input.sk-hidden--visually {border: 0;clip: rect(1px 1px 1px 1px);clip: rect(1px, 1px, 1px, 1px);height: 1px;margin: -1px;overflow: hidden;padding: 0;position: absolute;width: 1px;}#sk-container-id-87 div.sk-estimator {font-family: monospace;background-color: #f0f8ff;border: 1px dotted black;border-radius: 0.25em;box-sizing: border-box;margin-bottom: 0.5em;}#sk-container-id-87 div.sk-estimator:hover {background-color: #d4ebff;}#sk-container-id-87 div.sk-parallel-item::after {content: \"\";width: 100%;border-bottom: 1px solid gray;flex-grow: 1;}#sk-container-id-87 div.sk-label:hover label.sk-toggleable__label {background-color: #d4ebff;}#sk-container-id-87 div.sk-serial::before {content: \"\";position: absolute;border-left: 1px solid gray;box-sizing: border-box;top: 0;bottom: 0;left: 50%;z-index: 0;}#sk-container-id-87 div.sk-serial {display: flex;flex-direction: column;align-items: center;background-color: white;padding-right: 0.2em;padding-left: 0.2em;position: relative;}#sk-container-id-87 div.sk-item {position: relative;z-index: 1;}#sk-container-id-87 div.sk-parallel {display: flex;align-items: stretch;justify-content: center;background-color: white;position: relative;}#sk-container-id-87 div.sk-item::before, #sk-container-id-87 div.sk-parallel-item::before {content: \"\";position: absolute;border-left: 1px solid gray;box-sizing: border-box;top: 0;bottom: 0;left: 50%;z-index: -1;}#sk-container-id-87 div.sk-parallel-item {display: flex;flex-direction: column;z-index: 1;position: relative;background-color: white;}#sk-container-id-87 div.sk-parallel-item:first-child::after {align-self: flex-end;width: 50%;}#sk-container-id-87 div.sk-parallel-item:last-child::after {align-self: flex-start;width: 50%;}#sk-container-id-87 div.sk-parallel-item:only-child::after {width: 0;}#sk-container-id-87 div.sk-dashed-wrapped {border: 1px dashed gray;margin: 0 0.4em 0.5em 0.4em;box-sizing: border-box;padding-bottom: 0.4em;background-color: white;}#sk-container-id-87 div.sk-label label {font-family: monospace;font-weight: bold;display: inline-block;line-height: 1.2em;}#sk-container-id-87 div.sk-label-container {text-align: center;}#sk-container-id-87 div.sk-container {/* jupyter's `normalize.less` sets `[hidden] { display: none; }` but bootstrap.min.css set `[hidden] { display: none !important; }` so we also need the `!important` here to be able to override the default hidden behavior on the sphinx rendered scikit-learn.org. See: https://github.com/scikit-learn/scikit-learn/issues/21755 */display: inline-block !important;position: relative;}#sk-container-id-87 div.sk-text-repr-fallback {display: none;}</style><div id=\"sk-container-id-87\" class=\"sk-top-container\"><div class=\"sk-text-repr-fallback\"><pre>IsolationForest(contamination=0.1, n_estimators=50)</pre><b>In a Jupyter environment, please rerun this cell to show the HTML representation or trust the notebook. <br />On GitHub, the HTML representation is unable to render, please try loading this page with nbviewer.org.</b></div><div class=\"sk-container\" hidden><div class=\"sk-item\"><div class=\"sk-estimator sk-toggleable\"><input class=\"sk-toggleable__control sk-hidden--visually\" id=\"sk-estimator-id-87\" type=\"checkbox\" checked><label for=\"sk-estimator-id-87\" class=\"sk-toggleable__label sk-toggleable__label-arrow\">IsolationForest</label><div class=\"sk-toggleable__content\"><pre>IsolationForest(contamination=0.1, n_estimators=50)</pre></div></div></div></div></div>"
      ],
      "text/plain": [
       "IsolationForest(contamination=0.1, n_estimators=50)"
      ]
     },
     "execution_count": 514,
     "metadata": {},
     "output_type": "execute_result"
    }
   ],
   "source": [
    "# features\n",
    "features_2 = ['Height (With Shoes)', 'Wingspan']\n",
    "model.fit(combine_data[features_2])"
   ]
  },
  {
   "cell_type": "code",
   "execution_count": 515,
   "id": "0f36ce4f",
   "metadata": {},
   "outputs": [],
   "source": [
    "combine_data['scores'] = model.decision_function(combine_data[features_2])\n",
    "combine_data['anomaly'] = model.predict(combine_data[features_2])"
   ]
  },
  {
   "cell_type": "code",
   "execution_count": 516,
   "id": "ca70ff8c",
   "metadata": {},
   "outputs": [
    {
     "name": "stdout",
     "output_type": "stream",
     "text": [
      "Anomalies are\n",
      "                Player  Draft pick  Height (With Shoes)  Wingspan\n",
      "8            Ty Lawson        18.0                72.50     72.75\n",
      "10     Hasheem Thabeet         2.0                86.50     90.25\n",
      "11         Eric Maynor        20.0                75.25     74.50\n",
      "12     Darren Collison        21.0                73.50     75.00\n",
      "14       Byron Mullens        24.0                85.25     85.50\n",
      "16   Rodrigue Beaubois        25.0                74.25     81.75\n",
      "36      Jack McClinton        51.0                72.75     74.50\n",
      "39       Patrick Mills        55.0                72.50     74.00\n",
      "40         Jonny Flynn         6.0                72.75     76.00\n",
      "41       Stephen Curry         7.0                75.25     75.50\n",
      "69      Dexter Pittman        32.0                83.50     90.00\n",
      "70    Hassan Whiteside        33.0                83.50     91.00\n",
      "79       Jerome Jordan        44.0                84.75     89.25\n",
      "83       Solomon Alabi        50.0                84.75     89.00\n",
      "114        Norris Cole        28.0                73.75     74.25\n",
      "138      Isaiah Thomas        60.0                70.25     73.75\n",
      "153     Meyers Leonard        11.0                85.25     87.00\n",
      "159       Tyler Zeller        17.0                84.50     84.00\n",
      "173       Festus Ezeli        30.0                83.50     89.75\n",
      "200     Andre Drummond         9.0                83.75     90.25\n",
      "215       Kelly Olynyk        13.0                84.00     81.75\n",
      "218       Shane Larkin        18.0                71.50     70.75\n",
      "222      Mason Plumlee        22.0                84.50     83.00\n",
      "227        Rudy Gobert        27.0                86.00     92.50\n",
      "232      Isaiah Canaan        34.0                72.00     76.50\n",
      "234       Ray McCallum        36.0                73.75     75.25\n",
      "236       Nate Wolters        38.0                76.75     75.75\n",
      "238        Cody Zeller         4.0                84.25     82.75\n",
      "241     Pierre Jackson        42.0                70.50     70.00\n",
      "306         Alec Brown        50.0                85.25     85.50\n",
      "372     Frank Kaminsky         9.0                84.75     83.00\n",
      "396         Thon Maker        10.0                84.75     87.00\n",
      "415         Tyler Ulis        34.0                70.00     74.00\n",
      "422            Zhou Qi        43.0                86.25     91.75\n",
      "430         Kay Felder        54.0                69.50     74.50\n",
      "437       Jakob Poeltl         9.0                85.00     86.75\n",
      "476        Frank Mason        34.0                72.00     75.25\n",
      "480        Jawun Evans        39.0                71.50     77.50\n",
      "486       Ike Anigbogu        47.0                81.75     90.25\n"
     ]
    }
   ],
   "source": [
    "print('Anomalies are')\n",
    "print(combine_data.loc[combine_data['anomaly'] == -1][['Player', 'Draft pick', 'Height (With Shoes)', 'Wingspan']])"
   ]
  },
  {
   "cell_type": "code",
   "execution_count": 519,
   "id": "386f2810",
   "metadata": {},
   "outputs": [
    {
     "name": "stdout",
     "output_type": "stream",
     "text": [
      "78.99479166666667\n",
      "82.53606770833333\n"
     ]
    }
   ],
   "source": [
    "print(np.mean(combine_data['Height (With Shoes)']))\n",
    "print(np.mean(combine_data['Wingspan']))"
   ]
  },
  {
   "cell_type": "code",
   "execution_count": null,
   "id": "8b5f6839",
   "metadata": {},
   "outputs": [],
   "source": []
  }
 ],
 "metadata": {
  "kernelspec": {
   "display_name": "Python 3 (ipykernel)",
   "language": "python",
   "name": "python3"
  },
  "language_info": {
   "codemirror_mode": {
    "name": "ipython",
    "version": 3
   },
   "file_extension": ".py",
   "mimetype": "text/x-python",
   "name": "python",
   "nbconvert_exporter": "python",
   "pygments_lexer": "ipython3",
   "version": "3.10.12"
  }
 },
 "nbformat": 4,
 "nbformat_minor": 5
}
